{
 "cells": [
  {
   "cell_type": "code",
   "execution_count": 46,
   "metadata": {},
   "outputs": [],
   "source": [
    "import numpy as np\n",
    "from scipy.optimize import root\n",
    "from scipy.optimize import newton\n",
    "import matplotlib.pyplot as plt"
   ]
  },
  {
   "cell_type": "code",
   "execution_count": 47,
   "metadata": {},
   "outputs": [],
   "source": [
    "ρ = 1 #gostota\n",
    "u = 1 #hitrost plina\n",
    "c_v = 1\n",
    "T = 1 #temperatura\n",
    "w_j = 1\n",
    "p = 1 #tlak"
   ]
  },
  {
   "cell_type": "code",
   "execution_count": 147,
   "metadata": {},
   "outputs": [],
   "source": [
    "t = np.arange(0, 1, 0.001)\n",
    "x = np.linspace(0, 500, 1000)"
   ]
  },
  {
   "cell_type": "code",
   "execution_count": 48,
   "metadata": {},
   "outputs": [],
   "source": [
    "E = ρ * c_v * T + 0.5 * ρ * u**2"
   ]
  },
  {
   "cell_type": "code",
   "execution_count": 49,
   "metadata": {},
   "outputs": [],
   "source": [
    "U = np.array([ρ,\n",
    "              ρ * u,\n",
    "              ρ * c_v * T + 0.5 * ρ * u**2,\n",
    "              ρ * w_j])"
   ]
  },
  {
   "cell_type": "code",
   "execution_count": 50,
   "metadata": {},
   "outputs": [],
   "source": [
    "F = np.array([ρ * u,\n",
    "              ρ * u**2 + p,\n",
    "              u * (E + p),\n",
    "              ρ * u * w_j])"
   ]
  },
  {
   "cell_type": "code",
   "execution_count": 51,
   "metadata": {},
   "outputs": [],
   "source": [
    "# TRENJE V CEVI\n",
    "ϕ = 1\n",
    "λ_f = -10\n",
    "d = 0.03\n",
    "ϵ = 2e-5\n",
    "Re_lam = 2300\n",
    "Re_turb = 5000"
   ]
  },
  {
   "cell_type": "code",
   "execution_count": 134,
   "metadata": {},
   "outputs": [],
   "source": [
    "v = 17.1e-6 * (T / 273.15)**1.5 * (383.15 / (T + 110.4))\n",
    "Re = d * u / v\n",
    "Re = 1000000"
   ]
  },
  {
   "cell_type": "code",
   "execution_count": 135,
   "metadata": {},
   "outputs": [],
   "source": [
    "def trenje_lam(Re_):\n",
    "    return 64 / Re_\n",
    "def trenje_turb(Re_):\n",
    "    return 0.25 / (np.log10(((ϵ / d) / 3.7) + (5.74 / Re**0.9)))**2"
   ]
  },
  {
   "cell_type": "code",
   "execution_count": 136,
   "metadata": {},
   "outputs": [],
   "source": [
    "if(Re <= Re_lam):\n",
    "    λ_f = trenje_lam(Re)\n",
    "elif(Re >= Re_turb):\n",
    "    λ_f = trenje_turb(Re)\n",
    "else:\n",
    "    λ_f = trenje_lam(Re) * (1 - ((Re - Re_lam) / (Re_turb - Re_lam))) + trenje_turb(Re) * ((Re - Re_lam)/(Re_turb - Re_lam))"
   ]
  },
  {
   "cell_type": "code",
   "execution_count": 137,
   "metadata": {},
   "outputs": [
    {
     "data": {
      "text/plain": [
       "0.3056065692591403"
      ]
     },
     "execution_count": 137,
     "metadata": {},
     "output_type": "execute_result"
    }
   ],
   "source": [
    "F_tr = ϕ * (λ_f / (2 * d)) * ρ * u * abs(u)\n",
    "F_tr"
   ]
  },
  {
   "cell_type": "code",
   "execution_count": 138,
   "metadata": {},
   "outputs": [],
   "source": [
    "S_r = np.array([0,\n",
    "                -F_tr,\n",
    "                0,\n",
    "                0])"
   ]
  },
  {
   "cell_type": "code",
   "execution_count": null,
   "metadata": {},
   "outputs": [],
   "source": []
  },
  {
   "cell_type": "code",
   "execution_count": null,
   "metadata": {},
   "outputs": [],
   "source": []
  }
 ],
 "metadata": {
  "kernelspec": {
   "display_name": "Python 3",
   "language": "python",
   "name": "python3"
  },
  "language_info": {
   "codemirror_mode": {
    "name": "ipython",
    "version": 3
   },
   "file_extension": ".py",
   "mimetype": "text/x-python",
   "name": "python",
   "nbconvert_exporter": "python",
   "pygments_lexer": "ipython3",
   "version": "3.7.2"
  },
  "toc": {
   "base_numbering": 1,
   "nav_menu": {},
   "number_sections": true,
   "sideBar": true,
   "skip_h1_title": false,
   "title_cell": "Kazalo",
   "title_sidebar": "Contents",
   "toc_cell": false,
   "toc_position": {},
   "toc_section_display": true,
   "toc_window_display": false
  }
 },
 "nbformat": 4,
 "nbformat_minor": 2
}
