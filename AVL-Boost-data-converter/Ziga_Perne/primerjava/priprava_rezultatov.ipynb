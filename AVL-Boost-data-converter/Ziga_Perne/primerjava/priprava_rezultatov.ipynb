{
 "cells": [
  {
   "cell_type": "code",
   "execution_count": 1,
   "metadata": {},
   "outputs": [],
   "source": [
    "import numpy as np"
   ]
  },
  {
   "cell_type": "code",
   "execution_count": 2,
   "metadata": {},
   "outputs": [],
   "source": [
    "#Program namenjen branju izhodnih podatkov simulacije v BOOST-u.\n",
    "#Program naj bo v isti mapi kot BOOST model.\n",
    "\n",
    "st_tock = 30 #število simulacij, ki smo jih opravili\n",
    "\n",
    "#Iščemo moč in izkoristek motorja:\n",
    "moc = np.array([])\n",
    "izkoristek = np.array([])\n",
    "\n",
    "#Števci:\n",
    "index_power = 0 \n",
    "index_eff = 0"
   ]
  },
  {
   "cell_type": "code",
   "execution_count": 3,
   "metadata": {},
   "outputs": [],
   "source": [
    "#Zanka teče čez vse mape, ki jih ustvari simulacija:\n",
    "for i in range(1, st_tock + 1):\n",
    "    #Pot do file-a, v katerem so rezultati simulacije. Za delovanje morajo biti mape, ki jih\n",
    "    #pripravi Boost, oštevilčene:\n",
    "    filename = f\"ravna_primerjava.dolzina.Case_{i}\\simulation.dir\\summary.xml\" \n",
    "    \n",
    "    #Branje podatkov v file-u in zapis v tabelo:\n",
    "    with open(filename, \"r\") as file:\n",
    "        lines = [line.split() for line in file]\n",
    "   \n",
    "    #Iskanje moči in izkoristka.\n",
    "    for j in range(0, len(lines)):\n",
    "        for k in lines[j]:\n",
    "            if \"\\\"POWER_PF\\\"\" in k:\n",
    "                index_power = j\n",
    "            if \"INDICATED-EFFICIENCY_PF\" in k:\n",
    "                index_eff = j\n",
    "    #točno mesto, kjer se nahajata podatka o moči in izkoristku:            \n",
    "    moc_str = lines[index_power][2]\n",
    "    izkoristek_str = lines[index_eff][2]\n",
    "    \n",
    "    #Moč in izkoristek sta shranjena v formatu string, zraven pa so zapisani še drugi nerelavantni\n",
    "    #podatki. Najdemo samo številčne vrednosti ter pretvorimo v float ter zapišemo v tabelo:\n",
    "    moc = np.append(moc, float(moc_str[moc_str.find(\">\") + 1 : moc_str.find(\"<\")]))\n",
    "    izkoristek = np.append(izkoristek, float(izkoristek_str[izkoristek_str.find(\">\") + 1 : izkoristek_str.find(\"<\")]))"
   ]
  },
  {
   "cell_type": "code",
   "execution_count": 4,
   "metadata": {},
   "outputs": [],
   "source": [
    "#Priprava tabele rezultatov:\n",
    "with open(f\"rezultati.txt\", \"w\") as file2:\n",
    "    file2.write(\"Moc [kW]\\tIzkoristek[-]\\n\")\n",
    "    for i in range(0, len(moc)):\n",
    "        file2.write(f\"{moc[i]}\\t{izkoristek[i]}\\n\")"
   ]
  },
  {
   "cell_type": "code",
   "execution_count": null,
   "metadata": {},
   "outputs": [],
   "source": []
  }
 ],
 "metadata": {
  "kernelspec": {
   "display_name": "Python 3",
   "language": "python",
   "name": "python3"
  },
  "language_info": {
   "codemirror_mode": {
    "name": "ipython",
    "version": 3
   },
   "file_extension": ".py",
   "mimetype": "text/x-python",
   "name": "python",
   "nbconvert_exporter": "python",
   "pygments_lexer": "ipython3",
   "version": "3.7.2"
  },
  "toc": {
   "base_numbering": 1,
   "nav_menu": {},
   "number_sections": true,
   "sideBar": true,
   "skip_h1_title": false,
   "title_cell": "Kazalo",
   "title_sidebar": "Contents",
   "toc_cell": false,
   "toc_position": {},
   "toc_section_display": true,
   "toc_window_display": false
  }
 },
 "nbformat": 4,
 "nbformat_minor": 4
}
