{
 "cells": [
  {
   "cell_type": "code",
   "execution_count": 1,
   "metadata": {},
   "outputs": [],
   "source": [
    "import numpy as np"
   ]
  },
  {
   "cell_type": "code",
   "execution_count": 2,
   "metadata": {},
   "outputs": [],
   "source": [
    "st_tock = 30\n",
    "\n",
    "moc = np.array([])\n",
    "izkoristek = np.array([])\n",
    "index_power = 0\n",
    "index_eff = 0"
   ]
  },
  {
   "cell_type": "code",
   "execution_count": 3,
   "metadata": {},
   "outputs": [],
   "source": [
    "for i in range(1, st_tock + 1):\n",
    "    filename = f\"ravna_primerjava.dolzina.Case_{i}\\simulation.dir\\summary.xml\"\n",
    "    \n",
    "    with open(f\"ravna_primerjava.dolzina.Case_{i}\\simulation.dir\\summary.xml\", \"r\") as file:\n",
    "        lines = [line.split() for line in file]\n",
    "   \n",
    "    for j in range(0, len(lines)):\n",
    "        for k in lines[j]:\n",
    "            if \"\\\"POWER_PF\\\"\" in k:\n",
    "                index_power = j\n",
    "            if \"INDICATED-EFFICIENCY_PF\" in k:\n",
    "                index_eff = j\n",
    "    moc = np.append(moc, float(lines[index_power][2][lines[index_power][2].find(\">\") + 1 : lines[index_power][2].find(\"<\")]))\n",
    "    izkoristek = np.append(izkoristek, float(lines[index_eff][2][lines[index_eff][2].find(\">\") + 1 : lines[index_eff][2].find(\"<\")]))"
   ]
  },
  {
   "cell_type": "code",
   "execution_count": 4,
   "metadata": {},
   "outputs": [],
   "source": [
    "with open(f\"rezultati.txt\", \"w\") as file2:\n",
    "    file2.write(\"Moc [kW]\\tIzkoristek[-]\\n\")\n",
    "    for i in range(0, len(moc)):\n",
    "        file2.write(f\"{moc[i]}\\t{izkoristek[i]}\\n\")"
   ]
  },
  {
   "cell_type": "code",
   "execution_count": null,
   "metadata": {},
   "outputs": [],
   "source": []
  }
 ],
 "metadata": {
  "kernelspec": {
   "display_name": "Python 3",
   "language": "python",
   "name": "python3"
  },
  "language_info": {
   "codemirror_mode": {
    "name": "ipython",
    "version": 3
   },
   "file_extension": ".py",
   "mimetype": "text/x-python",
   "name": "python",
   "nbconvert_exporter": "python",
   "pygments_lexer": "ipython3",
   "version": "3.7.2"
  },
  "toc": {
   "base_numbering": 1,
   "nav_menu": {},
   "number_sections": true,
   "sideBar": true,
   "skip_h1_title": false,
   "title_cell": "Kazalo",
   "title_sidebar": "Contents",
   "toc_cell": false,
   "toc_position": {},
   "toc_section_display": true,
   "toc_window_display": false
  }
 },
 "nbformat": 4,
 "nbformat_minor": 4
}
