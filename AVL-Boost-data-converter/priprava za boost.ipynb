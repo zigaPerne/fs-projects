{
 "cells": [
  {
   "cell_type": "code",
   "execution_count": 1,
   "metadata": {},
   "outputs": [],
   "source": [
    "import numpy as np"
   ]
  },
  {
   "cell_type": "code",
   "execution_count": 2,
   "metadata": {},
   "outputs": [],
   "source": [
    "#Program, namenjen pretvorbi .csv file-a v .caseTable file\n",
    "\n",
    "#Preberemo file in damo podatke v tabelo:\n",
    "with open(\"eksperiment.csv\", \"r\") as file:\n",
    "    lines = [line.split(\",\") for line in file]"
   ]
  },
  {
   "cell_type": "code",
   "execution_count": 3,
   "metadata": {},
   "outputs": [],
   "source": [
    "#Priprava formata podatkov:\n",
    "podatki = np.array([])\n",
    "for i in lines[1:]:\n",
    "    for j in i:\n",
    "        j = j.strip(\"\\n\")\n",
    "        podatki = np.append(podatki, float(j))\n",
    "podatki = podatki.reshape(30, 3)"
   ]
  },
  {
   "cell_type": "code",
   "execution_count": 4,
   "metadata": {},
   "outputs": [],
   "source": [
    "#Število točk, ki smo jih dobili iz MATLAB-a:\n",
    "st_tock = 30\n",
    "\n",
    "#Imena točk:\n",
    "imena = np.array([])\n",
    "for i in range(1, st_tock + 1):\n",
    "    imena = np.append(imena, f\"\\\"Case {i}\\\"\")"
   ]
  },
  {
   "cell_type": "code",
   "execution_count": 5,
   "metadata": {},
   "outputs": [],
   "source": [
    "#Priparava glave:\n",
    "glava = np.array([\"[CASESET]\\tdolzina\\n\",\n",
    "                    \"[GROUP]\\tDefault len kompresijsko premer\\n\",\n",
    "                    \"[PARAMETERS]\\tlen\\tkompresijsko\\tpremer\\n\",\n",
    "                    \"[UNITS]\\tmm\\t[-]\\tmm\\n\"])"
   ]
  },
  {
   "cell_type": "code",
   "execution_count": 6,
   "metadata": {},
   "outputs": [],
   "source": [
    "#Zapis .caseTable file-a, ki ga Boost lahko prebere:\n",
    "with open(f\"cases.caseTable\", \"w\") as file2:\n",
    "    for i in glava:\n",
    "        file2.write(i)\n",
    "    count = 0\n",
    "    for i in podatki:\n",
    "        file2.write(f\"{imena[count]}\\t\")\n",
    "        for j in i:\n",
    "            file2.write(f\"{j}\\t\")\n",
    "        file2.write(\"\\n\")\n",
    "        count = count + 1"
   ]
  },
  {
   "cell_type": "code",
   "execution_count": null,
   "metadata": {},
   "outputs": [],
   "source": []
  }
 ],
 "metadata": {
  "kernelspec": {
   "display_name": "Python 3",
   "language": "python",
   "name": "python3"
  },
  "language_info": {
   "codemirror_mode": {
    "name": "ipython",
    "version": 3
   },
   "file_extension": ".py",
   "mimetype": "text/x-python",
   "name": "python",
   "nbconvert_exporter": "python",
   "pygments_lexer": "ipython3",
   "version": "3.7.2"
  },
  "toc": {
   "base_numbering": 1,
   "nav_menu": {},
   "number_sections": true,
   "sideBar": true,
   "skip_h1_title": false,
   "title_cell": "Kazalo",
   "title_sidebar": "Contents",
   "toc_cell": false,
   "toc_position": {},
   "toc_section_display": true,
   "toc_window_display": false
  }
 },
 "nbformat": 4,
 "nbformat_minor": 2
}
