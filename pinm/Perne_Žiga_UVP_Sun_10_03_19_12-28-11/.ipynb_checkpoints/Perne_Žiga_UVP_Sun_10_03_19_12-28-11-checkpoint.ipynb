{
 "cells": [
  {
   "cell_type": "code",
   "execution_count": null,
   "metadata": {},
   "outputs": [],
   "source": [
    "from sync import sync\n",
    "sync('/moj.ladisk.si/mojladisksi.py')\n",
    "from mojladisksi import poslji\n",
    "import numpy as np\n"
   ]
  },
  {
   "cell_type": "markdown",
   "metadata": {},
   "source": [
    "# UVP\n",
    "\n",
    "Perne Žiga, 23170029, ziga.perne@gmail.com\n",
    "\n",
    "Pričetek reševanja: Wed, 06. March 2019, 18:56:59"
   ]
  },
  {
   "cell_type": "markdown",
   "metadata": {},
   "source": [
    "Ponovitev bistvenih korakov predavanja Uvod v Python https://github.com/jankoslavic/pypinm."
   ]
  },
  {
   "cell_type": "markdown",
   "metadata": {},
   "source": [
    "<img width=500 src='Perne_Žiga_UVP_Sun_10_03_19_12-28-11.png'>"
   ]
  },
  {
   "cell_type": "code",
   "execution_count": null,
   "metadata": {},
   "outputs": [],
   "source": [
    "F = 10 # N\n",
    "m = 3.2 # kg\n",
    "n = 89 # \n",
    "t = 35616 # s\n",
    "v = 39.05 # m/s"
   ]
  },
  {
   "cell_type": "markdown",
   "metadata": {},
   "source": [
    "### 1. vprašanje\n",
    "\n",
    "Ker so spremenljivke v Pythonu statične, moramo njihov tip pri definiciji izrecno določiti! (1: Da, 2: Ne)\n",
    "\n",
    "Število poskusov: 1, enote:   "
   ]
  },
  {
   "cell_type": "code",
   "execution_count": null,
   "metadata": {},
   "outputs": [],
   "source": [
    "odgovor1 = #?"
   ]
  },
  {
   "cell_type": "code",
   "execution_count": null,
   "metadata": {},
   "outputs": [],
   "source": [
    "poslji(odgovor1, id=2895569597741, st=1)"
   ]
  },
  {
   "cell_type": "markdown",
   "metadata": {},
   "source": [
    "### 2. vprašanje\n",
    "\n",
    "Terke lahko spreminjamo in jim dodajamo elemente! (1: Da, 2: Ne)\n",
    "\n",
    "Število poskusov: 1, enote:   "
   ]
  },
  {
   "cell_type": "code",
   "execution_count": null,
   "metadata": {},
   "outputs": [],
   "source": [
    "odgovor2 = #?"
   ]
  },
  {
   "cell_type": "code",
   "execution_count": null,
   "metadata": {},
   "outputs": [],
   "source": [
    "poslji(odgovor2, id=2895569597747, st=2)"
   ]
  },
  {
   "cell_type": "markdown",
   "metadata": {},
   "source": [
    "### 3. vprašanje\n",
    "\n",
    "Sezname lahko spreminjamo in jim dodajamo elemente! (1: Da, 2: Ne)\n",
    "\n",
    "Število poskusov: 1, enote:   "
   ]
  },
  {
   "cell_type": "code",
   "execution_count": null,
   "metadata": {},
   "outputs": [],
   "source": [
    "odgovor3 = #?"
   ]
  },
  {
   "cell_type": "code",
   "execution_count": null,
   "metadata": {},
   "outputs": [],
   "source": [
    "poslji(odgovor3, id=2895569597741, st=3)"
   ]
  },
  {
   "cell_type": "markdown",
   "metadata": {},
   "source": [
    "### 4. vprašanje\n",
    "\n",
    "Iz podatkov naloge tvorite terko v naslednjem zaporedju: $F$, $m$, $n$, $t$, $v$!\n",
    "\n",
    "Število poskusov: 3, enote:   "
   ]
  },
  {
   "cell_type": "code",
   "execution_count": null,
   "metadata": {},
   "outputs": [],
   "source": [
    "odgovor4 = #?"
   ]
  },
  {
   "cell_type": "code",
   "execution_count": null,
   "metadata": {},
   "outputs": [],
   "source": [
    "poslji(odgovor4, id=2895569597722, st=4)"
   ]
  },
  {
   "cell_type": "markdown",
   "metadata": {},
   "source": [
    "### 5. vprašanje\n",
    "\n",
    "Terko iz prejšnje naloge pretvorite v seznam.\n",
    "\n",
    "Število poskusov: 3, enote:   "
   ]
  },
  {
   "cell_type": "code",
   "execution_count": null,
   "metadata": {},
   "outputs": [],
   "source": [
    "odgovor5 = #?"
   ]
  },
  {
   "cell_type": "code",
   "execution_count": null,
   "metadata": {},
   "outputs": [],
   "source": [
    "poslji(odgovor5, id=2895569597719, st=5)"
   ]
  },
  {
   "cell_type": "markdown",
   "metadata": {},
   "source": [
    "### 6. vprašanje\n",
    "\n",
    "V seznamu iz prejšnje naloge določite indeks elementa z največjo vrednostjo. (Namig: uporabite funkciji ``max`` in ``index``)\n",
    "\n",
    "Število poskusov: 3, enote:   "
   ]
  },
  {
   "cell_type": "code",
   "execution_count": null,
   "metadata": {},
   "outputs": [],
   "source": [
    "odgovor6 = #?"
   ]
  },
  {
   "cell_type": "code",
   "execution_count": null,
   "metadata": {},
   "outputs": [],
   "source": [
    "poslji(odgovor6, id=2895569597791, st=6)"
   ]
  },
  {
   "cell_type": "markdown",
   "metadata": {},
   "source": [
    "### 7. vprašanje\n",
    "\n",
    "Element z največjo vrednostjo odstranite iz seznama. Dobljen seznam shranite v novo spremenljivko ``seznam_brez_najvecjega`` in ga vnesite.\n",
    "\n",
    "Število poskusov: 3, enote:   "
   ]
  },
  {
   "cell_type": "code",
   "execution_count": null,
   "metadata": {},
   "outputs": [],
   "source": [
    "odgovor7 = #?"
   ]
  },
  {
   "cell_type": "code",
   "execution_count": null,
   "metadata": {},
   "outputs": [],
   "source": [
    "poslji(odgovor7, id=2895569597726, st=7)"
   ]
  },
  {
   "cell_type": "markdown",
   "metadata": {},
   "source": [
    "### 8. vprašanje\n",
    "\n",
    "Tvorite slovar z imenom ``slovar_enot``. Ključi naj bodo imena spremenljivk $F$, $m$, $t$ in $v$ iz podatkov naloge, zapisana v obliki nizov, vrednosti elementov pa pripadajoče enote, prav tako v obliki nizov. (Primer: {'F': 'N'}). Določite po abecednem redu urejen seznam ključev (Namig: uporabite funkciji ``sorted`` in ``slovar.keys``.)\n",
    "\n",
    "Število poskusov: 3, enote:   "
   ]
  },
  {
   "cell_type": "code",
   "execution_count": null,
   "metadata": {},
   "outputs": [],
   "source": [
    "odgovor8 = #?"
   ]
  },
  {
   "cell_type": "code",
   "execution_count": null,
   "metadata": {},
   "outputs": [],
   "source": [
    "poslji(odgovor8, id=2895569597715, st=8)"
   ]
  },
  {
   "cell_type": "markdown",
   "metadata": {},
   "source": [
    "### 9. vprašanje\n",
    "\n",
    "Izračunajte kinetično energijo telesa ($E_k = \\frac{1}{2}mv^2$)in rezultat shranite v spremnljivko ``E_k`` v obliki števila s plavajočo vejico. Uporabite podatke iz začetka naloge.\n",
    "\n",
    "Število poskusov: 3, enote:   J"
   ]
  },
  {
   "cell_type": "code",
   "execution_count": null,
   "metadata": {},
   "outputs": [],
   "source": [
    "odgovor9 = #?"
   ]
  },
  {
   "cell_type": "code",
   "execution_count": null,
   "metadata": {},
   "outputs": [],
   "source": [
    "poslji(odgovor9, id=2895569597719, st=9)"
   ]
  },
  {
   "cell_type": "markdown",
   "metadata": {},
   "source": [
    "### 10. vprašanje\n",
    "\n",
    "Slovarju ``slovar_enot`` dodajte nov element s ključem 'E_k', vrednost pa naj bo pripadajoča enota ('J'). Določite po abecednem redu urejen seznam ključev tako dobljenega slovarja.\n",
    "\n",
    "Število poskusov: 3, enote:   "
   ]
  },
  {
   "cell_type": "code",
   "execution_count": null,
   "metadata": {},
   "outputs": [],
   "source": [
    "odgovor10 = #?"
   ]
  },
  {
   "cell_type": "code",
   "execution_count": null,
   "metadata": {},
   "outputs": [],
   "source": [
    "poslji(odgovor10, id=2895569597771, st=10)"
   ]
  },
  {
   "cell_type": "markdown",
   "metadata": {},
   "source": [
    "### 11. vprašanje\n",
    "\n",
    "Tvorite nov seznam ``seznam_celih_stevil``, tako da elemente seznama ``seznam_brez_najvecjega`` iz ene od prejšnjih nalog pretvorite v cela števila z uporabo ukaza ``int``. (Namig: uporabit ``for`` zanko.)\n",
    "\n",
    "Število poskusov: 3, enote:   "
   ]
  },
  {
   "cell_type": "code",
   "execution_count": null,
   "metadata": {},
   "outputs": [],
   "source": [
    "odgovor11 = #?"
   ]
  },
  {
   "cell_type": "code",
   "execution_count": null,
   "metadata": {},
   "outputs": [],
   "source": [
    "poslji(odgovor11, id=2895569597722, st=11)"
   ]
  },
  {
   "cell_type": "markdown",
   "metadata": {},
   "source": [
    "### 12. vprašanje\n",
    "\n",
    "Iz seznamov ``seznam_brez_najvecjega`` in ``seznam_celih_stevil`` tvorite množici ``A`` in ``B``. Določite množico elementov, ki so tako v ``A`` kot v ``B``, in jo pretvorite v seznam, urejen v naraščajočem vrstnem redu. (Namig: uporabite funkcijo ``sorted``.)\n",
    "\n",
    "Število poskusov: 3, enote:   "
   ]
  },
  {
   "cell_type": "code",
   "execution_count": null,
   "metadata": {},
   "outputs": [],
   "source": [
    "odgovor12 = #?"
   ]
  },
  {
   "cell_type": "code",
   "execution_count": null,
   "metadata": {},
   "outputs": [],
   "source": [
    "poslji(odgovor12, id=2895569597719, st=12)"
   ]
  },
  {
   "cell_type": "markdown",
   "metadata": {},
   "source": [
    "### 13. vprašanje\n",
    "\n",
    "Pripravite nov seznam vseh naravnih števil, večjih od 2 in manjših od 10, ki jih še ni v seznamu  ``seznam_celih_stevil``. Urejen naj bo v naraščajočem vrstnem redu. (Namig: uporabite ``for`` zanko, ``if`` stavek in funkcijo ``range``.)\n",
    "\n",
    "Število poskusov: 3, enote:   "
   ]
  },
  {
   "cell_type": "code",
   "execution_count": null,
   "metadata": {},
   "outputs": [],
   "source": [
    "seznam_celih_stevil = [6, 9, 38, 96]\n",
    "nov_seznam = []\n",
    "\n",
    "for i in range(3, 10):\n",
    "    \n",
    "\n",
    "\n",
    "\n",
    "odgovor13 = #?"
   ]
  },
  {
   "cell_type": "code",
   "execution_count": null,
   "metadata": {},
   "outputs": [],
   "source": [
    "poslji(odgovor13, id=2895569597730, st=13)"
   ]
  },
  {
   "cell_type": "markdown",
   "metadata": {},
   "source": [
    "### 14. vprašanje\n",
    "\n",
    "Na začetek seznama ``seznam_celih_stevil`` vrinite naravna števila iz seznama iz prejšnje naloge, urejena v padajočem vrstnem redu. Na koncu dobljenega seznama pripnite naravna števila iz prejšnje naloge, urejena v naraščajočem vrstnem redu. (Namig: vrstni red elementov v seznamu obrnete z ``seznam[::-1]``.)\n",
    "\n",
    "Število poskusov: 3, enote:   "
   ]
  },
  {
   "cell_type": "code",
   "execution_count": null,
   "metadata": {},
   "outputs": [],
   "source": [
    "odgovor14 = #?"
   ]
  },
  {
   "cell_type": "code",
   "execution_count": null,
   "metadata": {},
   "outputs": [],
   "source": [
    "poslji(odgovor14, id=2895569597789, st=14)"
   ]
  },
  {
   "cell_type": "markdown",
   "metadata": {},
   "source": [
    "### 15. vprašanje\n",
    "\n",
    "Vsa cela števila v seznamu ``seznam_celih_stevil``, ki so manjša od 10, zamenjajte s slovensko besedo za to število. (Namig: pomagajte si s slovarjem, v katerega pod ključem posameznega celega števila shranite slovensko besedo zanj. Primer: {1: 'ena', 2: 'dve'}).\n",
    "\n",
    "Število poskusov: 3, enote:   "
   ]
  },
  {
   "cell_type": "code",
   "execution_count": null,
   "metadata": {},
   "outputs": [],
   "source": [
    "odgovor15 = #?"
   ]
  },
  {
   "cell_type": "code",
   "execution_count": null,
   "metadata": {},
   "outputs": [],
   "source": [
    "poslji(odgovor15, id=2895569597732, st=15)"
   ]
  },
  {
   "cell_type": "markdown",
   "metadata": {},
   "source": [
    "### 16. vprašanje\n",
    "\n",
    "Določite seznam kvadratov prvih dvajsetih naravnih števil, večjih ali enakih $n$,zapisanih kot cela števila. Shranite ga v spremenjivko ``seznam_kvadratov``.\n",
    "\n",
    "Število poskusov: 3, enote:   "
   ]
  },
  {
   "cell_type": "code",
   "execution_count": null,
   "metadata": {},
   "outputs": [],
   "source": [
    "odgovor16 = #?"
   ]
  },
  {
   "cell_type": "code",
   "execution_count": null,
   "metadata": {},
   "outputs": [],
   "source": [
    "poslji(odgovor16, id=2895569597791, st=16)"
   ]
  },
  {
   "cell_type": "markdown",
   "metadata": {},
   "source": [
    "### 17. vprašanje\n",
    "\n",
    "Določite število elementov seznama ``seznam_kvadratov``, ki so deljivi z 2 in 3. (Namig: število $a$ je deljivo s številom $b$, kadar je ostanek celoštevilskega deljenja $a$ z $b$ enak 0.)\n",
    "\n",
    "Število poskusov: 3, enote:   "
   ]
  },
  {
   "cell_type": "code",
   "execution_count": null,
   "metadata": {},
   "outputs": [],
   "source": [
    "odgovor17 = #?"
   ]
  },
  {
   "cell_type": "code",
   "execution_count": null,
   "metadata": {},
   "outputs": [],
   "source": [
    "poslji(odgovor17, id=2895569597714, st=17)"
   ]
  },
  {
   "cell_type": "markdown",
   "metadata": {},
   "source": [
    "### 18. vprašanje\n",
    "\n",
    "Pripravite nov seznam, v katerem elemente seznama ``seznam_kvadratov``, ki so deljivi s 3, zamenjajte z rezultatom deljenja, zapisanim kot celo število. Tiste, ki s 3 niso deljivi, pa zamenjajte z nizom 'ni deljiv s 3'. (Namig: uporabite ``for`` zanko in stavek ``if``.)\n",
    "\n",
    "Število poskusov: 3, enote:   "
   ]
  },
  {
   "cell_type": "code",
   "execution_count": null,
   "metadata": {},
   "outputs": [],
   "source": [
    "odgovor18 = #?"
   ]
  },
  {
   "cell_type": "code",
   "execution_count": null,
   "metadata": {},
   "outputs": [],
   "source": [
    "poslji(odgovor18, id=2895569597717, st=18)"
   ]
  },
  {
   "cell_type": "markdown",
   "metadata": {},
   "source": [
    "### 19. vprašanje\n",
    "\n",
    "Določite seznam indeksov vseh elementov v seznamu ``seznam_kvadratov``, ki jih v prejšnji nalogi niste zamenjali z nizom. (Namig: pri iteriranju po indeksih in vrednostih elementov seznama si pomagajte sfunkcijo ``enumerate``. Ali ste element seznama že zamenjali z nizom ali ne, preverite s funkcijo ``type``).\n",
    "\n",
    "Število poskusov: 3, enote:   "
   ]
  },
  {
   "cell_type": "code",
   "execution_count": null,
   "metadata": {},
   "outputs": [],
   "source": [
    "odgovor19 = #?"
   ]
  },
  {
   "cell_type": "code",
   "execution_count": null,
   "metadata": {},
   "outputs": [],
   "source": [
    "poslji(odgovor19, id=2895569597760, st=19)"
   ]
  },
  {
   "cell_type": "markdown",
   "metadata": {},
   "source": [
    "### 20. vprašanje\n",
    "\n",
    "Določite nov seznam vseh elementov seznama ``seznam_kvadratov``, ki so deljivi s 3. (Namig: uporabite lahko seznam indeksov iz prejšnje naloge.)\n",
    "\n",
    "Število poskusov: 3, enote:   "
   ]
  },
  {
   "cell_type": "code",
   "execution_count": null,
   "metadata": {},
   "outputs": [],
   "source": [
    "odgovor20 = #?"
   ]
  },
  {
   "cell_type": "code",
   "execution_count": null,
   "metadata": {},
   "outputs": [],
   "source": [
    "poslji(odgovor20, id=2895569597711, st=20)"
   ]
  },
  {
   "cell_type": "markdown",
   "metadata": {},
   "source": [
    "### 21. vprašanje\n",
    "\n",
    "Pripravite seznam terk, ki vsebujejo par celega števila iz seznama ``seznam_kvadratov``, deljivega s 3, in njegovega indeksa v seznamu (Primer: [(9, 0), (12, 1)]). (Namig: najlažje to storite s pomočjo že pripravljenega seznama števil, deljivih s 3 in seznama indeksov iz prejšnje naloge ter funkcijo ``zip``. Ne pozabite dobljenega iteratorja ``zip`` pretvoriti v seznam z ukazom ``list``!)\n",
    "\n",
    "Število poskusov: 3, enote:   "
   ]
  },
  {
   "cell_type": "code",
   "execution_count": null,
   "metadata": {},
   "outputs": [],
   "source": [
    "odgovor21 = #?"
   ]
  },
  {
   "cell_type": "code",
   "execution_count": null,
   "metadata": {},
   "outputs": [],
   "source": [
    "poslji(odgovor21, id=2895569597769, st=21)"
   ]
  }
 ],
 "metadata": {
  "kernelspec": {
   "display_name": "Python 3",
   "language": "python",
   "name": "python3"
  },
  "language_info": {
   "codemirror_mode": {
    "name": "ipython",
    "version": 3
   },
   "file_extension": ".py",
   "mimetype": "text/x-python",
   "name": "python",
   "nbconvert_exporter": "python",
   "pygments_lexer": "ipython3",
   "version": "3.7.2"
  }
 },
 "nbformat": 4,
 "nbformat_minor": 1
}
