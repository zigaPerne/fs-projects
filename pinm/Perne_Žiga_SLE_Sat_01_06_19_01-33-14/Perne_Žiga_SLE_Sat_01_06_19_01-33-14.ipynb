{
 "cells": [
  {
   "cell_type": "code",
   "execution_count": null,
   "metadata": {},
   "outputs": [],
   "source": [
    "from sync import sync\n",
    "sync('/moj.ladisk.si/mojladisksi.py')\n",
    "from mojladisksi import poslji\n",
    "import numpy as np\n"
   ]
  },
  {
   "cell_type": "markdown",
   "metadata": {},
   "source": [
    "# SLE\n",
    "\n",
    "Perne Žiga, 23170029, ziga.perne@gmail.com\n",
    "\n",
    "Pričetek reševanja: Wed, 10. April 2019, 10:31:38"
   ]
  },
  {
   "cell_type": "markdown",
   "metadata": {},
   "source": [
    "Prikazan je sistem dveh aksialnih vzmeti $k_1$, $k_2$ in ene torzijske vzmeti $k_t$. Na ročico dolžine $a$ pritiskamo s silo $F_1$, prav tako delujemo s silo $F_2$ na vozlišče $x_2$. Zanima nas statično ravnotežje sistema. V izpeljanih enačbah so predpostavljeni majhni koti."
   ]
  },
  {
   "cell_type": "markdown",
   "metadata": {},
   "source": [
    "<img width=500 src='Perne_Žiga_SLE_Sat_01_06_19_01-33-14.jpeg'>"
   ]
  },
  {
   "cell_type": "code",
   "execution_count": null,
   "metadata": {},
   "outputs": [],
   "source": [
    "a = 1.9 # m\n",
    "F_1 = 2.5 # N\n",
    "F_2 = 9.5 # N\n",
    "k_1 = 1100 # N/m\n",
    "k_2 = 1200 # N/m\n",
    "k_t = 4458 # Nm/rad"
   ]
  },
  {
   "cell_type": "markdown",
   "metadata": {},
   "source": [
    "### 1. vprašanje\n",
    "\n",
    "Psevdo inverz se uporablja za reševanje (1: predoločenih sistemov, 2: splošno, 3: redkih matrik, 4: zgornje trikotnih matrik).\n",
    "\n",
    "Število poskusov: 1, enote:   "
   ]
  },
  {
   "cell_type": "code",
   "execution_count": null,
   "metadata": {},
   "outputs": [],
   "source": [
    "odgovor1 = #?"
   ]
  },
  {
   "cell_type": "code",
   "execution_count": null,
   "metadata": {},
   "outputs": [],
   "source": [
    "poslji(odgovor1, id=7744368376896, st=1)"
   ]
  },
  {
   "cell_type": "markdown",
   "metadata": {},
   "source": [
    "### 2. vprašanje\n",
    "\n",
    "Določite vektor neznank. (1:$\\{\\alpha,x_1,x_2\\}^T$,2:$\\{a,x_1,x_2\\}^T$,3:$\\{a,x_1,F_2\\}^T$,4:$\\{x_1,x_2\\}^T$)\n",
    "\n",
    "Število poskusov: 1, enote:   "
   ]
  },
  {
   "cell_type": "code",
   "execution_count": null,
   "metadata": {},
   "outputs": [],
   "source": [
    "odgovor2 = #?"
   ]
  },
  {
   "cell_type": "code",
   "execution_count": null,
   "metadata": {},
   "outputs": [],
   "source": [
    "poslji(odgovor2, id=7744368376874, st=2)"
   ]
  },
  {
   "cell_type": "markdown",
   "metadata": {},
   "source": [
    "### 3. vprašanje\n",
    "\n",
    "Določite vektor konstant. (1: $[\\frac{(F_1\\,a)}{k_t}$,$\\frac{-F_1}{k_1}$,$\\frac{-F_2}{(k_2+k_1)}]$, 2: $[\\frac{(F_1\\,a)}{k_t}$,$0$,$\\frac{-F_2}{(k_2+k_1)}]$, 3: $[\\frac{(F_1\\,a)}{k_t}$,$0$,$\\frac{-F_2}{k_2}]$)\n",
    "\n",
    "Število poskusov: 1, enote:   "
   ]
  },
  {
   "cell_type": "code",
   "execution_count": null,
   "metadata": {},
   "outputs": [],
   "source": [
    "odgovor3 = #?"
   ]
  },
  {
   "cell_type": "code",
   "execution_count": null,
   "metadata": {},
   "outputs": [],
   "source": [
    "poslji(odgovor3, id=7744368376822, st=3)"
   ]
  },
  {
   "cell_type": "markdown",
   "metadata": {},
   "source": [
    "### 4. vprašanje\n",
    "\n",
    "Določite rang matrike koeficientov.\n",
    "\n",
    "Število poskusov: 3, enote:   "
   ]
  },
  {
   "cell_type": "code",
   "execution_count": null,
   "metadata": {},
   "outputs": [],
   "source": [
    "odgovor4 = #?"
   ]
  },
  {
   "cell_type": "code",
   "execution_count": null,
   "metadata": {},
   "outputs": [],
   "source": [
    "poslji(odgovor4, id=7744368376845, st=4)"
   ]
  },
  {
   "cell_type": "markdown",
   "metadata": {},
   "source": [
    "### 5. vprašanje\n",
    "\n",
    "Določite razširjeno matriko koeficientov z ozirom na razporeditev vektorja konstant in neznank iz prejšnjih vprašanj. Zaradi enoličnosti rešitve naj bodo na diagonali koeficienti $[1,1,1]$\n",
    "\n",
    "Število poskusov: 3, enote:   "
   ]
  },
  {
   "cell_type": "code",
   "execution_count": null,
   "metadata": {},
   "outputs": [],
   "source": [
    "odgovor5 = #?"
   ]
  },
  {
   "cell_type": "code",
   "execution_count": null,
   "metadata": {},
   "outputs": [],
   "source": [
    "poslji(odgovor5, id=7744368376831, st=5)"
   ]
  },
  {
   "cell_type": "markdown",
   "metadata": {},
   "source": [
    "### 6. vprašanje\n",
    "\n",
    "Razširjeno matriko koeficientov z Gaussovo eliminacijo pretvorite v zgornje trikotno matriko. Zaradi enoličnosti rešitve naj bodo na diagonali koeficienti $[1,1,1]$\n",
    "\n",
    "Število poskusov: 3, enote:   "
   ]
  },
  {
   "cell_type": "code",
   "execution_count": null,
   "metadata": {},
   "outputs": [],
   "source": [
    "odgovor6 = #?"
   ]
  },
  {
   "cell_type": "code",
   "execution_count": null,
   "metadata": {},
   "outputs": [],
   "source": [
    "poslji(odgovor6, id=7744368376869, st=6)"
   ]
  },
  {
   "cell_type": "markdown",
   "metadata": {},
   "source": [
    "### 7. vprašanje\n",
    "\n",
    "Sistem z zgornje trikotno matriko rešujemo z (1: določitvijo inverza, 2: direktnim vstavljanjem, 3: obratnim vstavljanjem).\n",
    "\n",
    "Število poskusov: 1, enote:   "
   ]
  },
  {
   "cell_type": "code",
   "execution_count": null,
   "metadata": {},
   "outputs": [],
   "source": [
    "odgovor7 = #?"
   ]
  },
  {
   "cell_type": "code",
   "execution_count": null,
   "metadata": {},
   "outputs": [],
   "source": [
    "poslji(odgovor7, id=7744368376878, st=7)"
   ]
  }
 ],
 "metadata": {
  "kernelspec": {
   "display_name": "Python 3",
   "language": "python",
   "name": "python3"
  },
  "language_info": {
   "codemirror_mode": {
    "name": "ipython",
    "version": 3
   },
   "file_extension": ".py",
   "mimetype": "text/x-python",
   "name": "python",
   "nbconvert_exporter": "python",
   "pygments_lexer": "ipython3",
   "version": "3.7.2"
  }
 },
 "nbformat": 4,
 "nbformat_minor": 1
}
