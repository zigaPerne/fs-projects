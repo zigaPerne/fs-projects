{
 "cells": [
  {
   "cell_type": "code",
   "execution_count": 1,
   "metadata": {},
   "outputs": [
    {
     "name": "stdout",
     "output_type": "stream",
     "text": [
      "Downloading file: mojladisksi.py\n"
     ]
    }
   ],
   "source": [
    "from sync import sync\n",
    "sync('/moj.ladisk.si/mojladisksi.py')\n",
    "from mojladisksi import poslji\n",
    "import numpy as np\n"
   ]
  },
  {
   "cell_type": "markdown",
   "metadata": {},
   "source": [
    "# ING-\n",
    "\n",
    "Perne Žiga, 23170029, ziga.perne@gmail.com\n",
    "\n",
    "Pričetek reševanja: Tue, 21. May 2019, 17:36:11"
   ]
  },
  {
   "cell_type": "markdown",
   "metadata": {},
   "source": [
    "Pospeševanje prototipnega dirkalnika popisuje sledeči izraz: $$a(t) = \\frac{M}{m\\,r} - \\frac{C}{m}\\,\\tanh(k\\,t) ,$$ kjer je $M$ navor dirkalnika, $m$ njegova masa, $r$ polmer koles, faktorja $C$ in $k$ pa ste pridobili z meritvami. Čas opazovanja $t$ je definiran na območju $[0, t_k]$ z $n$ točkami."
   ]
  },
  {
   "cell_type": "markdown",
   "metadata": {},
   "source": [
    "<img width=500 src='Perne_Žiga_ING-_Tue_21_05_19_17-36-16.jpeg'>"
   ]
  },
  {
   "cell_type": "code",
   "execution_count": 2,
   "metadata": {},
   "outputs": [],
   "source": [
    "C = 420 #N\n",
    "k = 0.36 #/\n",
    "M = 970 #Nm\n",
    "m = 1040 #kg\n",
    "n = 40 #/\n",
    "r = 0.25 #m\n",
    "t_k = 12 #s"
   ]
  },
  {
   "cell_type": "markdown",
   "metadata": {},
   "source": [
    "### 1. vprašanje\n",
    "\n",
    "Določite numerično polje vrednosti pospeškov $a(t)$.\n",
    "\n",
    "Število poskusov: 3, enote:  m/s$^2$"
   ]
  },
  {
   "cell_type": "code",
   "execution_count": 7,
   "metadata": {},
   "outputs": [],
   "source": [
    "def a(t_):\n",
    "    return M/(m*r)-(C*np.tanh(k*t_))/m"
   ]
  },
  {
   "cell_type": "code",
   "execution_count": 8,
   "metadata": {},
   "outputs": [],
   "source": [
    "t = np.linspace(0, t_k, n)"
   ]
  },
  {
   "cell_type": "code",
   "execution_count": 10,
   "metadata": {},
   "outputs": [],
   "source": [
    "pospeski = a(t)\n"
   ]
  },
  {
   "cell_type": "code",
   "execution_count": 11,
   "metadata": {},
   "outputs": [],
   "source": [
    "odgovor1 = pospeski#?"
   ]
  },
  {
   "cell_type": "code",
   "execution_count": 12,
   "metadata": {},
   "outputs": [
    {
     "data": {
      "text/plain": [
       "'Odgovor je pravilen. Povprečje naloge: 0.17'"
      ]
     },
     "execution_count": 12,
     "metadata": {},
     "output_type": "execute_result"
    }
   ],
   "source": [
    "poslji(odgovor1, id=3543557172563, st=1)"
   ]
  },
  {
   "cell_type": "code",
   "execution_count": 13,
   "metadata": {},
   "outputs": [],
   "source": [
    "import matplotlib.pyplot as plt"
   ]
  },
  {
   "cell_type": "code",
   "execution_count": 14,
   "metadata": {},
   "outputs": [
    {
     "data": {
      "text/plain": [
       "[<matplotlib.lines.Line2D at 0x1efc5d094a8>]"
      ]
     },
     "execution_count": 14,
     "metadata": {},
     "output_type": "execute_result"
    },
    {
     "data": {
      "image/png": "[encoded data removed]",
      "text/plain": [
       "<Figure size 432x288 with 1 Axes>"
      ]
     },
     "metadata": {
      "needs_background": "light"
     },
     "output_type": "display_data"
    }
   ],
   "source": [
    "plt.plot(t, pospeski)"
   ]
  },
  {
   "cell_type": "markdown",
   "metadata": {},
   "source": [
    "### 2. vprašanje\n",
    "\n",
    "Sestavljeno trapezno pravilo ima napako 2. reda $\\mathcal{O}\\left(h^{2}\\right)$. (1: Da, 2: Ne)\n",
    "\n",
    "Število poskusov: 1, enote:  /"
   ]
  },
  {
   "cell_type": "code",
   "execution_count": 15,
   "metadata": {},
   "outputs": [],
   "source": [
    "odgovor2 = 1#?"
   ]
  },
  {
   "cell_type": "code",
   "execution_count": 16,
   "metadata": {},
   "outputs": [
    {
     "data": {
      "text/plain": [
       "'Odgovor je pravilen. Povprečje naloge: 0.33'"
      ]
     },
     "execution_count": 16,
     "metadata": {},
     "output_type": "execute_result"
    }
   ],
   "source": [
    "poslji(odgovor2, id=3543557172568, st=2)"
   ]
  },
  {
   "cell_type": "markdown",
   "metadata": {},
   "source": [
    "### 3. vprašanje\n",
    "\n",
    "Z uporabo sestavljenega Simpsonovega 1/3 pravila izračunajte končno hitrost dirkalnika. Število delitev opazovanega časa $t$ naj bo $n$ točk, kot ste pripravili pri 1. vprašanju.\n",
    "\n",
    "Število poskusov: 3, enote:  m/s"
   ]
  },
  {
   "cell_type": "code",
   "execution_count": 17,
   "metadata": {},
   "outputs": [],
   "source": [
    "from scipy.integrate import simps"
   ]
  },
  {
   "cell_type": "code",
   "execution_count": 18,
   "metadata": {},
   "outputs": [
    {
     "data": {
      "text/plain": [
       "40.700452698418324"
      ]
     },
     "execution_count": 18,
     "metadata": {},
     "output_type": "execute_result"
    }
   ],
   "source": [
    "simps(pospeski, t, dx = t[1])"
   ]
  },
  {
   "cell_type": "code",
   "execution_count": null,
   "metadata": {},
   "outputs": [],
   "source": []
  },
  {
   "cell_type": "code",
   "execution_count": null,
   "metadata": {},
   "outputs": [],
   "source": []
  },
  {
   "cell_type": "code",
   "execution_count": 19,
   "metadata": {},
   "outputs": [],
   "source": [
    "odgovor3 = simps(pospeski, t, dx = t[1])#?"
   ]
  },
  {
   "cell_type": "code",
   "execution_count": 20,
   "metadata": {},
   "outputs": [
    {
     "data": {
      "text/plain": [
       "'Odgovor je pravilen. Povprečje naloge: 0.50'"
      ]
     },
     "execution_count": 20,
     "metadata": {},
     "output_type": "execute_result"
    }
   ],
   "source": [
    "poslji(odgovor3, id=3543557172543, st=3)"
   ]
  },
  {
   "cell_type": "markdown",
   "metadata": {},
   "source": [
    "### 4. vprašanje\n",
    "\n",
    "Določite numerično polje hitrosti dirkalnika. Uporabite kumulativno trapezno metodo `scipy.integrate.cumtrapz`. Opomba: dirkalnik je na začetku miroval.\n",
    "\n",
    "Število poskusov: 3, enote:  m/s"
   ]
  },
  {
   "cell_type": "code",
   "execution_count": 28,
   "metadata": {},
   "outputs": [
    {
     "data": {
      "text/plain": [
       "array([3.73076923, 3.68621757, 3.64273727, 3.60129906, 3.56269183,\n",
       "       3.52747418, 3.49596228, 3.4682492 , 3.44424489, 3.42372545,\n",
       "       3.40638177, 3.39186163, 3.37980221, 3.36985284, 3.36168925,\n",
       "       3.35502103, 3.34959427, 3.34519106, 3.34162703, 3.33874791,\n",
       "       3.33642579, 3.3345553 , 3.33305017, 3.33184004, 3.33086773,\n",
       "       3.33008694, 3.32946021, 3.32895731, 3.3285539 , 3.32823035,\n",
       "       3.32797092, 3.32776291, 3.32759616, 3.3274625 , 3.32735537,\n",
       "       3.3272695 , 3.32720068, 3.32714553, 3.32710134, 3.32706592])"
      ]
     },
     "execution_count": 28,
     "metadata": {},
     "output_type": "execute_result"
    }
   ],
   "source": [
    "pospeski"
   ]
  },
  {
   "cell_type": "code",
   "execution_count": 21,
   "metadata": {},
   "outputs": [],
   "source": [
    "from scipy.integrate import cumtrapz"
   ]
  },
  {
   "cell_type": "code",
   "execution_count": 33,
   "metadata": {},
   "outputs": [],
   "source": [
    "v = cumtrapz(pospeski, x=t, initial=0)"
   ]
  },
  {
   "cell_type": "code",
   "execution_count": null,
   "metadata": {},
   "outputs": [],
   "source": []
  },
  {
   "cell_type": "code",
   "execution_count": null,
   "metadata": {},
   "outputs": [],
   "source": []
  },
  {
   "cell_type": "code",
   "execution_count": null,
   "metadata": {},
   "outputs": [],
   "source": []
  },
  {
   "cell_type": "code",
   "execution_count": 30,
   "metadata": {},
   "outputs": [],
   "source": [
    "odgovor4 = cumtrapz(pospeski, x=t, initial=0)#?"
   ]
  },
  {
   "cell_type": "code",
   "execution_count": 31,
   "metadata": {},
   "outputs": [
    {
     "data": {
      "text/plain": [
       "'Odgovor je pravilen. Povprečje naloge: 0.67'"
      ]
     },
     "execution_count": 31,
     "metadata": {},
     "output_type": "execute_result"
    }
   ],
   "source": [
    "poslji(odgovor4, id=3543557172592, st=4)"
   ]
  },
  {
   "cell_type": "markdown",
   "metadata": {},
   "source": [
    "### 5. vprašanje\n",
    "\n",
    "Z uporabo sestavljenega trapeznega pravila izračunajte končni pomik (položaj) dirkalnika. Uporabite numerično polje hitrosti iz 4. vprašanja.\n",
    "\n",
    "Število poskusov: 3, enote:  m"
   ]
  },
  {
   "cell_type": "code",
   "execution_count": 35,
   "metadata": {},
   "outputs": [
    {
     "data": {
      "text/plain": [
       "247.5985300301175"
      ]
     },
     "execution_count": 35,
     "metadata": {},
     "output_type": "execute_result"
    }
   ],
   "source": [
    "simps(v, t)"
   ]
  },
  {
   "cell_type": "code",
   "execution_count": null,
   "metadata": {},
   "outputs": [],
   "source": []
  },
  {
   "cell_type": "code",
   "execution_count": null,
   "metadata": {},
   "outputs": [],
   "source": []
  },
  {
   "cell_type": "code",
   "execution_count": 36,
   "metadata": {},
   "outputs": [],
   "source": [
    "odgovor5 = simps(v, t)#?"
   ]
  },
  {
   "cell_type": "code",
   "execution_count": 37,
   "metadata": {},
   "outputs": [
    {
     "data": {
      "text/plain": [
       "'Odgovor je pravilen. Povprečje naloge: 0.83'"
      ]
     },
     "execution_count": 37,
     "metadata": {},
     "output_type": "execute_result"
    }
   ],
   "source": [
    "poslji(odgovor5, id=3543557172557, st=5)"
   ]
  },
  {
   "cell_type": "markdown",
   "metadata": {},
   "source": [
    "### 6. vprašanje\n",
    "\n",
    "Z integracijo numeričnega polja hitrosti s kumulativno trapezno metodo `scipy.integrate.cumtrapz` določite še numerično polje pomikov. Opomba: začetni pomik dirkalnika je 0.\n",
    "\n",
    "Število poskusov: 3, enote:  m"
   ]
  },
  {
   "cell_type": "code",
   "execution_count": 39,
   "metadata": {},
   "outputs": [
    {
     "data": {
      "text/plain": [
       "array([0.00000000e+00, 1.75549983e-01, 7.00116337e-01, 1.56960556e+00,\n",
       "       2.78011317e+00, 4.32799729e+00, 6.20993116e+00, 8.42293362e+00,\n",
       "       1.09643788e+01, 1.38319889e+01, 1.70238138e+01, 2.05382032e+01,\n",
       "       2.43737738e+01, 2.85293756e+01, 3.30040591e+01, 3.77970444e+01,\n",
       "       4.29076942e+01, 4.83354895e+01, 5.40800092e+01, 6.01409122e+01,\n",
       "       6.65179228e+01, 7.32108188e+01, 8.02194209e+01, 8.75435851e+01,\n",
       "       9.51831954e+01, 1.03138159e+02, 1.11408400e+02, 1.19993859e+02,\n",
       "       1.28894489e+02, 1.38110250e+02, 1.47641110e+02, 1.57487047e+02,\n",
       "       1.67648038e+02, 1.78124070e+02, 1.88915128e+02, 2.00021202e+02,\n",
       "       2.11442284e+02, 2.23178368e+02, 2.35229449e+02, 2.47595521e+02])"
      ]
     },
     "execution_count": 39,
     "metadata": {},
     "output_type": "execute_result"
    }
   ],
   "source": [
    "cumtrapz(v, t, initial = 0)"
   ]
  },
  {
   "cell_type": "code",
   "execution_count": null,
   "metadata": {},
   "outputs": [],
   "source": []
  },
  {
   "cell_type": "code",
   "execution_count": null,
   "metadata": {},
   "outputs": [],
   "source": []
  },
  {
   "cell_type": "code",
   "execution_count": null,
   "metadata": {},
   "outputs": [],
   "source": []
  },
  {
   "cell_type": "code",
   "execution_count": 40,
   "metadata": {},
   "outputs": [],
   "source": [
    "odgovor6 = cumtrapz(v, t, initial = 0)#?"
   ]
  },
  {
   "cell_type": "code",
   "execution_count": 41,
   "metadata": {},
   "outputs": [
    {
     "data": {
      "text/plain": [
       "'Odgovor je pravilen. Povprečje naloge: 1.00'"
      ]
     },
     "execution_count": 41,
     "metadata": {},
     "output_type": "execute_result"
    }
   ],
   "source": [
    "poslji(odgovor6, id=3543557172565, st=6)"
   ]
  },
  {
   "cell_type": "code",
   "execution_count": null,
   "metadata": {},
   "outputs": [],
   "source": []
  }
 ],
 "metadata": {
  "kernelspec": {
   "display_name": "Python 3",
   "language": "python",
   "name": "python3"
  },
  "language_info": {
   "codemirror_mode": {
    "name": "ipython",
    "version": 3
   },
   "file_extension": ".py",
   "mimetype": "text/x-python",
   "name": "python",
   "nbconvert_exporter": "python",
   "pygments_lexer": "ipython3",
   "version": "3.7.2"
  }
 },
 "nbformat": 4,
 "nbformat_minor": 1
}
