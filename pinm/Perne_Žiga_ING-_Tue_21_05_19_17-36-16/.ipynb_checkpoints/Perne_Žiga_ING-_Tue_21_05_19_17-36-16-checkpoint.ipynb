{
 "cells": [
  {
   "cell_type": "code",
   "execution_count": 1,
   "metadata": {},
   "outputs": [
    {
     "name": "stdout",
     "output_type": "stream",
     "text": [
      "Downloading file: mojladisksi.py\n"
     ]
    }
   ],
   "source": [
    "from sync import sync\n",
    "sync('/moj.ladisk.si/mojladisksi.py')\n",
    "from mojladisksi import poslji\n",
    "import numpy as np\n"
   ]
  },
  {
   "cell_type": "markdown",
   "metadata": {},
   "source": [
    "# ING-\n",
    "\n",
    "Perne Žiga, 23170029, ziga.perne@gmail.com\n",
    "\n",
    "Pričetek reševanja: Tue, 21. May 2019, 17:36:11"
   ]
  },
  {
   "cell_type": "markdown",
   "metadata": {},
   "source": [
    "Pospeševanje prototipnega dirkalnika popisuje sledeči izraz: $$a(t) = \\frac{M}{m\\,r} - \\frac{C}{m}\\,\\tanh(k\\,t) ,$$ kjer je $M$ navor dirkalnika, $m$ njegova masa, $r$ polmer koles, faktorja $C$ in $k$ pa ste pridobili z meritvami. Čas opazovanja $t$ je definiran na območju $[0, t_k]$ z $n$ točkami."
   ]
  },
  {
   "cell_type": "markdown",
   "metadata": {},
   "source": [
    "<img width=500 src='Perne_Žiga_ING-_Tue_21_05_19_17-36-16.jpeg'>"
   ]
  },
  {
   "cell_type": "code",
   "execution_count": 2,
   "metadata": {},
   "outputs": [],
   "source": [
    "C = 420 #N\n",
    "k = 0.36 #/\n",
    "M = 970 #Nm\n",
    "m = 1040 #kg\n",
    "n = 40 #/\n",
    "r = 0.25 #m\n",
    "t_k = 12 #s"
   ]
  },
  {
   "cell_type": "markdown",
   "metadata": {},
   "source": [
    "### 1. vprašanje\n",
    "\n",
    "Določite numerično polje vrednosti pospeškov $a(t)$.\n",
    "\n",
    "Število poskusov: 3, enote:  m/s$^2$"
   ]
  },
  {
   "cell_type": "code",
   "execution_count": null,
   "metadata": {},
   "outputs": [],
   "source": [
    "def a(t):\n",
    "    return M/(m*r)-(C*np.tanh())"
   ]
  },
  {
   "cell_type": "code",
   "execution_count": null,
   "metadata": {},
   "outputs": [],
   "source": []
  },
  {
   "cell_type": "code",
   "execution_count": null,
   "metadata": {},
   "outputs": [],
   "source": []
  },
  {
   "cell_type": "code",
   "execution_count": null,
   "metadata": {},
   "outputs": [],
   "source": [
    "odgovor1 = #?"
   ]
  },
  {
   "cell_type": "code",
   "execution_count": null,
   "metadata": {},
   "outputs": [],
   "source": [
    "poslji(odgovor1, id=3543557172563, st=1)"
   ]
  },
  {
   "cell_type": "markdown",
   "metadata": {},
   "source": [
    "### 2. vprašanje\n",
    "\n",
    "Sestavljeno trapezno pravilo ima napako 2. reda $\\mathcal{O}\\left(h^{2}\\right)$. (1: Da, 2: Ne)\n",
    "\n",
    "Število poskusov: 1, enote:  /"
   ]
  },
  {
   "cell_type": "code",
   "execution_count": null,
   "metadata": {},
   "outputs": [],
   "source": [
    "odgovor2 = #?"
   ]
  },
  {
   "cell_type": "code",
   "execution_count": null,
   "metadata": {},
   "outputs": [],
   "source": [
    "poslji(odgovor2, id=3543557172568, st=2)"
   ]
  },
  {
   "cell_type": "markdown",
   "metadata": {},
   "source": [
    "### 3. vprašanje\n",
    "\n",
    "Z uporabo sestavljenega Simpsonovega 1/3 pravila izračunajte končno hitrost dirkalnika. Število delitev opazovanega časa $t$ naj bo $n$ točk, kot ste pripravili pri 1. vprašanju.\n",
    "\n",
    "Število poskusov: 3, enote:  m/s"
   ]
  },
  {
   "cell_type": "code",
   "execution_count": null,
   "metadata": {},
   "outputs": [],
   "source": [
    "odgovor3 = #?"
   ]
  },
  {
   "cell_type": "code",
   "execution_count": null,
   "metadata": {},
   "outputs": [],
   "source": [
    "poslji(odgovor3, id=3543557172543, st=3)"
   ]
  },
  {
   "cell_type": "markdown",
   "metadata": {},
   "source": [
    "### 4. vprašanje\n",
    "\n",
    "Določite numerično polje hitrosti dirkalnika. Uporabite kumulativno trapezno metodo `scipy.integrate.cumtrapz`. Opomba: dirkalnik je na začetku miroval.\n",
    "\n",
    "Število poskusov: 3, enote:  m/s"
   ]
  },
  {
   "cell_type": "code",
   "execution_count": null,
   "metadata": {},
   "outputs": [],
   "source": [
    "odgovor4 = #?"
   ]
  },
  {
   "cell_type": "code",
   "execution_count": null,
   "metadata": {},
   "outputs": [],
   "source": [
    "poslji(odgovor4, id=3543557172592, st=4)"
   ]
  },
  {
   "cell_type": "markdown",
   "metadata": {},
   "source": [
    "### 5. vprašanje\n",
    "\n",
    "Z uporabo sestavljenega trapeznega pravila izračunajte končni pomik (položaj) dirkalnika. Uporabite numerično polje hitrosti iz 4. vprašanja.\n",
    "\n",
    "Število poskusov: 3, enote:  m"
   ]
  },
  {
   "cell_type": "code",
   "execution_count": null,
   "metadata": {},
   "outputs": [],
   "source": [
    "odgovor5 = #?"
   ]
  },
  {
   "cell_type": "code",
   "execution_count": null,
   "metadata": {},
   "outputs": [],
   "source": [
    "poslji(odgovor5, id=3543557172557, st=5)"
   ]
  },
  {
   "cell_type": "markdown",
   "metadata": {},
   "source": [
    "### 6. vprašanje\n",
    "\n",
    "Z integracijo numeričnega polja hitrosti s kumulativno trapezno metodo `scipy.integrate.cumtrapz` določite še numerično polje pomikov. Opomba: začetni pomik dirkalnika je 0.\n",
    "\n",
    "Število poskusov: 3, enote:  m"
   ]
  },
  {
   "cell_type": "code",
   "execution_count": null,
   "metadata": {},
   "outputs": [],
   "source": [
    "odgovor6 = #?"
   ]
  },
  {
   "cell_type": "code",
   "execution_count": null,
   "metadata": {},
   "outputs": [],
   "source": [
    "poslji(odgovor6, id=3543557172565, st=6)"
   ]
  }
 ],
 "metadata": {
  "kernelspec": {
   "display_name": "Python 3",
   "language": "python",
   "name": "python3"
  },
  "language_info": {
   "codemirror_mode": {
    "name": "ipython",
    "version": 3
   },
   "file_extension": ".py",
   "mimetype": "text/x-python",
   "name": "python",
   "nbconvert_exporter": "python",
   "pygments_lexer": "ipython3",
   "version": "3.7.2"
  }
 },
 "nbformat": 4,
 "nbformat_minor": 1
}
