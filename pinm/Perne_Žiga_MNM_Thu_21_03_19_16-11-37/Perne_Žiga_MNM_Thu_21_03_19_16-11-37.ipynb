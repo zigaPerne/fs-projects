{
 "cells": [
  {
   "cell_type": "code",
   "execution_count": 1,
   "metadata": {},
   "outputs": [
    {
     "name": "stdout",
     "output_type": "stream",
     "text": [
      "Downloading file: mojladisksi.py\n"
     ]
    }
   ],
   "source": [
    "from sync import sync\n",
    "sync('/moj.ladisk.si/mojladisksi.py')\n",
    "from mojladisksi import poslji\n",
    "import numpy as np\n"
   ]
  },
  {
   "cell_type": "markdown",
   "metadata": {},
   "source": [
    "# MNM\n",
    "\n",
    "Perne Žiga, 23170029, ziga.perne@gmail.com\n",
    "\n",
    "Pričetek reševanja: Wed, 20. March 2019, 13:34:00"
   ]
  },
  {
   "cell_type": "markdown",
   "metadata": {},
   "source": [
    "Ponovitev bistvenih korakov predavanja Moduli, numpy, matplotlib https://github.com/jankoslavic/pypinm."
   ]
  },
  {
   "cell_type": "markdown",
   "metadata": {},
   "source": [
    "<img width=500 src='Perne_Žiga_MNM_Thu_21_03_19_16-11-37.png'>"
   ]
  },
  {
   "cell_type": "code",
   "execution_count": 53,
   "metadata": {},
   "outputs": [],
   "source": [
    "k = 12 #\n",
    "l = 22 #\n",
    "m = 31 #"
   ]
  },
  {
   "cell_type": "markdown",
   "metadata": {},
   "source": [
    "### 1. vprašanje\n",
    "\n",
    "Modul `pip` se uporablja za nameščanje Pythonovih modulov iz portala anaconda.org/pypi! (1: Da, 2: Ne)\n",
    "\n",
    "Število poskusov: 1, enote:  /"
   ]
  },
  {
   "cell_type": "code",
   "execution_count": 3,
   "metadata": {},
   "outputs": [],
   "source": [
    "odgovor1 = 2#?"
   ]
  },
  {
   "cell_type": "code",
   "execution_count": 4,
   "metadata": {},
   "outputs": [
    {
     "data": {
      "text/plain": [
       "'Pravilna rešitev že obstaja.'"
      ]
     },
     "execution_count": 4,
     "metadata": {},
     "output_type": "execute_result"
    }
   ],
   "source": [
    "poslji(odgovor1, id=5766620487356, st=1)"
   ]
  },
  {
   "cell_type": "markdown",
   "metadata": {},
   "source": [
    "### 2. vprašanje\n",
    "\n",
    "Uporabite ukaz `pip show` in poiščite detajlni opis modula ``scipy``. Kot rezultat vnesite prvo vrstico opisa.\n",
    "\n",
    "Število poskusov: 3, enote:  /"
   ]
  },
  {
   "cell_type": "code",
   "execution_count": 12,
   "metadata": {},
   "outputs": [
    {
     "name": "stdout",
     "output_type": "stream",
     "text": [
      "Note: you may need to restart the kernel to use updated packages.\n"
     ]
    }
   ],
   "source": [
    " pip show [scipy]"
   ]
  },
  {
   "cell_type": "code",
   "execution_count": null,
   "metadata": {},
   "outputs": [],
   "source": []
  },
  {
   "cell_type": "code",
   "execution_count": 50,
   "metadata": {},
   "outputs": [],
   "source": [
    "odgovor2 = 1#?"
   ]
  },
  {
   "cell_type": "code",
   "execution_count": 51,
   "metadata": {},
   "outputs": [
    {
     "data": {
      "text/plain": [
       "'Pravilna rešitev že obstaja.'"
      ]
     },
     "execution_count": 51,
     "metadata": {},
     "output_type": "execute_result"
    }
   ],
   "source": [
    "poslji(odgovor2, id=5766620487334, st=2)"
   ]
  },
  {
   "cell_type": "markdown",
   "metadata": {},
   "source": [
    "### 3. vprašanje\n",
    "\n",
    "Uvozite modul `numpy`. Pripravite numerično polje $m$ števil, ki so enakomerno razporejena od $k$ do $l$. Numerično polje shranite v spremenljivko `prvo_polje`. (Namig: uporabite funkcijo `numpy.linspace`.)\n",
    "\n",
    "Število poskusov: 3, enote:  /"
   ]
  },
  {
   "cell_type": "code",
   "execution_count": 13,
   "metadata": {},
   "outputs": [],
   "source": [
    "import numpy as np"
   ]
  },
  {
   "cell_type": "code",
   "execution_count": 26,
   "metadata": {},
   "outputs": [
    {
     "data": {
      "text/plain": [
       "array([12.        , 12.33333333, 12.66666667, 13.        , 13.33333333,\n",
       "       13.66666667, 14.        , 14.33333333, 14.66666667, 15.        ,\n",
       "       15.33333333, 15.66666667, 16.        , 16.33333333, 16.66666667,\n",
       "       17.        , 17.33333333, 17.66666667, 18.        , 18.33333333,\n",
       "       18.66666667, 19.        , 19.33333333, 19.66666667, 20.        ,\n",
       "       20.33333333, 20.66666667, 21.        , 21.33333333, 21.66666667,\n",
       "       22.        ])"
      ]
     },
     "execution_count": 26,
     "metadata": {},
     "output_type": "execute_result"
    }
   ],
   "source": [
    "prvo_polje = np.linspace(k, l, m)\n",
    "prvo_polje"
   ]
  },
  {
   "cell_type": "code",
   "execution_count": null,
   "metadata": {},
   "outputs": [],
   "source": [
    "odgovor3 = #?"
   ]
  },
  {
   "cell_type": "code",
   "execution_count": null,
   "metadata": {},
   "outputs": [],
   "source": [
    "poslji(odgovor3, id=5766620487362, st=3)"
   ]
  },
  {
   "cell_type": "markdown",
   "metadata": {},
   "source": [
    "### 4. vprašanje\n",
    "\n",
    "Pretvorite tip podatkov v spremenljivki `prvo_polje` v cela števila.\n",
    "\n",
    "Število poskusov: 3, enote:  /"
   ]
  },
  {
   "cell_type": "code",
   "execution_count": 33,
   "metadata": {},
   "outputs": [
    {
     "data": {
      "text/plain": [
       "array([12, 12, 12, 13, 13, 13, 14, 14, 14, 15, 15, 15, 16, 16, 16, 17, 17,\n",
       "       17, 18, 18, 18, 19, 19, 19, 20, 20, 20, 21, 21, 21, 22])"
      ]
     },
     "execution_count": 33,
     "metadata": {},
     "output_type": "execute_result"
    }
   ],
   "source": [
    "prvo_polje = np.linspace(k, l, m, dtype = int)\n",
    "\n",
    "odgovor4 = prvo_polje#?\n",
    "prvo_polje"
   ]
  },
  {
   "cell_type": "code",
   "execution_count": 17,
   "metadata": {},
   "outputs": [
    {
     "data": {
      "text/plain": [
       "'Pravilna rešitev že obstaja.'"
      ]
     },
     "execution_count": 17,
     "metadata": {},
     "output_type": "execute_result"
    }
   ],
   "source": [
    "poslji(odgovor4, id=5766620487371, st=4)"
   ]
  },
  {
   "cell_type": "markdown",
   "metadata": {},
   "source": [
    "### 5. vprašanje\n",
    "\n",
    "Iz spremenljivke `prvo_polje` vzemite vsak drugi element (indeksi: 0, 2, 4...) in ga pomnožite s številom $k$. Novo numerično polje shranite v spremenljivko `drugo_polje`.\n",
    "\n",
    "Število poskusov: 3, enote:  /"
   ]
  },
  {
   "cell_type": "code",
   "execution_count": 44,
   "metadata": {},
   "outputs": [
    {
     "data": {
      "text/plain": [
       "array([144, 144, 156, 168, 168, 180, 192, 192, 204, 216, 216, 228, 240,\n",
       "       240, 252, 264])"
      ]
     },
     "execution_count": 44,
     "metadata": {},
     "output_type": "execute_result"
    }
   ],
   "source": [
    "drugo_polje = prvo_polje[::2]*k#?\n",
    "\n",
    "\n",
    "drugo_polje"
   ]
  },
  {
   "cell_type": "code",
   "execution_count": 19,
   "metadata": {},
   "outputs": [
    {
     "data": {
      "text/plain": [
       "'Porabili ste vse poskuse odgovarjanja.'"
      ]
     },
     "execution_count": 19,
     "metadata": {},
     "output_type": "execute_result"
    }
   ],
   "source": [
    "poslji(odgovor5, id=5766620487323, st=5)"
   ]
  },
  {
   "cell_type": "markdown",
   "metadata": {},
   "source": [
    "### 6. vprašanje\n",
    "\n",
    "Vzemite zadnjih pet elementov spremenljivke `drugo_polje` in od njih odštejte zadnjih pet elementov spremenljivke `prvo_polje`.\n",
    "\n",
    "Število poskusov: 3, enote:  /"
   ]
  },
  {
   "cell_type": "code",
   "execution_count": 45,
   "metadata": {},
   "outputs": [
    {
     "name": "stdout",
     "output_type": "stream",
     "text": [
      "[20 21 21 21 22]\n",
      "[228 240 240 252 264]\n"
     ]
    }
   ],
   "source": [
    "zadnjih_pet_drugo = drugo_polje[-5::]\n",
    "zadnjih_pet_prvo = prvo_polje[-5::]\n",
    "print(zadnjih_pet_prvo)\n",
    "print(zadnjih_pet_drugo)"
   ]
  },
  {
   "cell_type": "code",
   "execution_count": 46,
   "metadata": {},
   "outputs": [
    {
     "data": {
      "text/plain": [
       "array([208, 219, 219, 231, 242])"
      ]
     },
     "execution_count": 46,
     "metadata": {},
     "output_type": "execute_result"
    }
   ],
   "source": [
    "razlika = zadnjih_pet_drugo - zadnjih_pet_prvo\n",
    "razlika"
   ]
  },
  {
   "cell_type": "code",
   "execution_count": 47,
   "metadata": {},
   "outputs": [],
   "source": [
    "odgovor6 = razlika#?"
   ]
  },
  {
   "cell_type": "code",
   "execution_count": 48,
   "metadata": {},
   "outputs": [
    {
     "data": {
      "text/plain": [
       "'Odgovor ni pravilen. Imate še 2 poskusov.'"
      ]
     },
     "execution_count": 48,
     "metadata": {},
     "output_type": "execute_result"
    }
   ],
   "source": [
    "poslji(odgovor6, id=5766620487363, st=6)"
   ]
  },
  {
   "cell_type": "markdown",
   "metadata": {},
   "source": [
    "### 7. vprašanje\n",
    "\n",
    "Pripravite kvadratno matriko (dvodimenzionalno numerično polje) naključnih celih števil v razponu od -$l$ do +$m$. Matrika naj ima $k$ stolpcev, shranite pa jo pod imenom `matrika1`. (Namig: za generiranje naključnih vrednosti najprej uporabite `numpy.random.seed(2)`, nato pa `numpy.random.randint`)\n",
    "\n",
    "Število poskusov: 3, enote:  /"
   ]
  },
  {
   "cell_type": "code",
   "execution_count": 192,
   "metadata": {
    "scrolled": true
   },
   "outputs": [
    {
     "data": {
      "text/plain": [
       "array([[ 18,  -7,  23, -14,   0,  21,  -4, -11,  18, -15,  12,  27],\n",
       "       [  9, -11,  -1,  25,   9,   4,  -2,  30,  15,  17, -19,  16],\n",
       "       [-18,  20,  21,  29,  17,  16,  20,  11, -19, -17,   2, -18],\n",
       "       [ 24, -16,   9,  -3,   9, -20,  -6,  30,  24, -10,  28, -18],\n",
       "       [  4,  -7,  27,  17,  24, -14,  28,  23,  -7,  19,  23, -14],\n",
       "       [ -5,   0, -13,  19,  24,   4,  -3,  10,  21,  10,   4,  28],\n",
       "       [-14, -10, -12,  18,  12, -13,  15, -16,   0, -16,  -3,  -4],\n",
       "       [-21, -18,  18,  -5, -16,  15,  11,  -4,  -2,   4,   1,   0],\n",
       "       [ 21,  30,  15, -12, -14,   4,  13,   5,  10,  -6,  -1,  21],\n",
       "       [  7,  -6,  18, -16, -12,  15,  -5,  -7,   8,  -9,   4,  17],\n",
       "       [ 21,  25,  -2,  29,   0,  27,  14,   5, -22,  18,   6,  14],\n",
       "       [-11,  24,  28, -13, -15,  27,  -4, -21,  -7,   5,  24,  10]])"
      ]
     },
     "execution_count": 192,
     "metadata": {},
     "output_type": "execute_result"
    }
   ],
   "source": [
    "np.random.seed(2)\n",
    "\n",
    "matrika1 = np.random.randint(-l, m, size=(k,k))\n",
    "matrika1"
   ]
  },
  {
   "cell_type": "code",
   "execution_count": null,
   "metadata": {},
   "outputs": [],
   "source": []
  },
  {
   "cell_type": "code",
   "execution_count": 99,
   "metadata": {},
   "outputs": [],
   "source": [
    "odgovor7 = matrika1#?"
   ]
  },
  {
   "cell_type": "code",
   "execution_count": 100,
   "metadata": {},
   "outputs": [
    {
     "data": {
      "text/plain": [
       "'Odgovor je pravilen. Povprečje naloge: 0.33'"
      ]
     },
     "execution_count": 100,
     "metadata": {},
     "output_type": "execute_result"
    }
   ],
   "source": [
    "poslji(odgovor7, id=5766620487349, st=7)"
   ]
  },
  {
   "cell_type": "markdown",
   "metadata": {},
   "source": [
    "### 8. vprašanje\n",
    "\n",
    "Poiščite vsoto vseh elementov v spremenljivki `matrika1`.\n",
    "\n",
    "Število poskusov: 3, enote:  /"
   ]
  },
  {
   "cell_type": "code",
   "execution_count": 103,
   "metadata": {},
   "outputs": [
    {
     "data": {
      "text/plain": [
       "719"
      ]
     },
     "execution_count": 103,
     "metadata": {},
     "output_type": "execute_result"
    }
   ],
   "source": [
    "o = sum(sum(matrika1))\n",
    "o"
   ]
  },
  {
   "cell_type": "code",
   "execution_count": 104,
   "metadata": {},
   "outputs": [],
   "source": [
    "odgovor8 = o#?"
   ]
  },
  {
   "cell_type": "code",
   "execution_count": 105,
   "metadata": {},
   "outputs": [
    {
     "data": {
      "text/plain": [
       "'Odgovor je pravilen. Povprečje naloge: 0.40'"
      ]
     },
     "execution_count": 105,
     "metadata": {},
     "output_type": "execute_result"
    }
   ],
   "source": [
    "poslji(odgovor8, id=5766620487320, st=8)"
   ]
  },
  {
   "cell_type": "markdown",
   "metadata": {},
   "source": [
    "### 9. vprašanje\n",
    "\n",
    "Poiščite maksimalne vrednosti elementov v vsakem stolpcu spremenljivke `matrika1`.\n",
    "\n",
    "Število poskusov: 3, enote:  /"
   ]
  },
  {
   "cell_type": "code",
   "execution_count": 107,
   "metadata": {},
   "outputs": [
    {
     "data": {
      "text/plain": [
       "array([[ 18,  -7,  23, -14,   0,  21,  -4, -11,  18, -15,  12,  27],\n",
       "       [  9, -11,  -1,  25,   9,   4,  -2,  30,  15,  17, -19,  16],\n",
       "       [-18,  20,  21,  29,  17,  16,  20,  11, -19, -17,   2, -18],\n",
       "       [ 24, -16,   9,  -3,   9, -20,  -6,  30,  24, -10,  28, -18],\n",
       "       [  4,  -7,  27,  17,  24, -14,  28,  23,  -7,  19,  23, -14],\n",
       "       [ -5,   0, -13,  19,  24,   4,  -3,  10,  21,  10,   4,  28],\n",
       "       [-14, -10, -12,  18,  12, -13,  15, -16,   0, -16,  -3,  -4],\n",
       "       [-21, -18,  18,  -5, -16,  15,  11,  -4,  -2,   4,   1,   0],\n",
       "       [ 21,  30,  15, -12, -14,   4,  13,   5,  10,  -6,  -1,  21],\n",
       "       [  7,  -6,  18, -16, -12,  15,  -5,  -7,   8,  -9,   4,  17],\n",
       "       [ 21,  25,  -2,  29,   0,  27,  14,   5, -22,  18,   6,  14],\n",
       "       [-11,  24,  28, -13, -15,  27,  -4, -21,  -7,   5,  24,  10]])"
      ]
     },
     "execution_count": 107,
     "metadata": {},
     "output_type": "execute_result"
    }
   ],
   "source": [
    "matrika1"
   ]
  },
  {
   "cell_type": "code",
   "execution_count": 109,
   "metadata": {},
   "outputs": [
    {
     "data": {
      "text/plain": [
       "array([24, 30, 28, 29, 24, 27, 28, 30, 24, 19, 28, 28])"
      ]
     },
     "execution_count": 109,
     "metadata": {},
     "output_type": "execute_result"
    }
   ],
   "source": [
    "np.max(matrika1, axis=0)"
   ]
  },
  {
   "cell_type": "code",
   "execution_count": null,
   "metadata": {},
   "outputs": [],
   "source": []
  },
  {
   "cell_type": "code",
   "execution_count": 110,
   "metadata": {},
   "outputs": [],
   "source": [
    "odgovor9 = np.max(matrika1, axis=0)#?"
   ]
  },
  {
   "cell_type": "code",
   "execution_count": 111,
   "metadata": {},
   "outputs": [
    {
     "data": {
      "text/plain": [
       "'Odgovor je pravilen. Povprečje naloge: 0.47'"
      ]
     },
     "execution_count": 111,
     "metadata": {},
     "output_type": "execute_result"
    }
   ],
   "source": [
    "poslji(odgovor9, id=5766620487337, st=9)"
   ]
  },
  {
   "cell_type": "markdown",
   "metadata": {},
   "source": [
    "### 10. vprašanje\n",
    "\n",
    "Preuredite numerično polje `matrika1` tako, da bo imelo le dva stolpca in ustrezno število vrstic. Rezultat shranite v spremenljivko `matrika2`.\n",
    "\n",
    "Število poskusov: 3, enote:  /"
   ]
  },
  {
   "cell_type": "code",
   "execution_count": 191,
   "metadata": {},
   "outputs": [
    {
     "data": {
      "text/plain": [
       "array([[ 27,  -7,  23, -14,   0,  21,  -4, -11,  18, -15,  12,  27],\n",
       "       [  9,  30,  -1,  25,   9,   4,  -2,  30,  15,  17, -19,  16],\n",
       "       [-18,  20,  29,  29,  17,  16,  20,  11, -19, -17,   2, -18],\n",
       "       [ 24, -16,   9,  30,   9, -20,  -6,  30,  24, -10,  28, -18],\n",
       "       [  4,  -7,  27,  17,  28, -14,  28,  23,  -7,  19,  23, -14],\n",
       "       [ -5,   0, -13,  19,  24,  28,  -3,  10,  21,  10,   4,  28],\n",
       "       [-14, -10, -12,  18,  12, -13,  18, -16,   0, -16,  -3,  -4],\n",
       "       [-21, -18,  18,  -5, -16,  15,  11,  18,  -2,   4,   1,   0],\n",
       "       [ 21,  30,  15, -12, -14,   4,  13,   5,  30,  -6,  -1,  21],\n",
       "       [  7,  -6,  18, -16, -12,  15,  -5,  -7,   8,  18,   4,  17],\n",
       "       [ 21,  25,  -2,  29,   0,  27,  14,   5, -22,  18,  29,  14],\n",
       "       [-11,  24,  28, -13, -15,  27,  -4, -21,  -7,   5,  24,  28]])"
      ]
     },
     "execution_count": 191,
     "metadata": {},
     "output_type": "execute_result"
    }
   ],
   "source": [
    "matrika1"
   ]
  },
  {
   "cell_type": "code",
   "execution_count": 128,
   "metadata": {},
   "outputs": [
    {
     "data": {
      "text/plain": [
       "72.0"
      ]
     },
     "execution_count": 128,
     "metadata": {},
     "output_type": "execute_result"
    }
   ],
   "source": [
    "144/2"
   ]
  },
  {
   "cell_type": "code",
   "execution_count": 129,
   "metadata": {},
   "outputs": [
    {
     "data": {
      "text/plain": [
       "array([[ 18,  -7],\n",
       "       [ 23, -14],\n",
       "       [  0,  21],\n",
       "       [ -4, -11],\n",
       "       [ 18, -15],\n",
       "       [ 12,  27],\n",
       "       [  9, -11],\n",
       "       [ -1,  25],\n",
       "       [  9,   4],\n",
       "       [ -2,  30],\n",
       "       [ 15,  17],\n",
       "       [-19,  16],\n",
       "       [-18,  20],\n",
       "       [ 21,  29],\n",
       "       [ 17,  16],\n",
       "       [ 20,  11],\n",
       "       [-19, -17],\n",
       "       [  2, -18],\n",
       "       [ 24, -16],\n",
       "       [  9,  -3],\n",
       "       [  9, -20],\n",
       "       [ -6,  30],\n",
       "       [ 24, -10],\n",
       "       [ 28, -18],\n",
       "       [  4,  -7],\n",
       "       [ 27,  17],\n",
       "       [ 24, -14],\n",
       "       [ 28,  23],\n",
       "       [ -7,  19],\n",
       "       [ 23, -14],\n",
       "       [ -5,   0],\n",
       "       [-13,  19],\n",
       "       [ 24,   4],\n",
       "       [ -3,  10],\n",
       "       [ 21,  10],\n",
       "       [  4,  28],\n",
       "       [-14, -10],\n",
       "       [-12,  18],\n",
       "       [ 12, -13],\n",
       "       [ 15, -16],\n",
       "       [  0, -16],\n",
       "       [ -3,  -4],\n",
       "       [-21, -18],\n",
       "       [ 18,  -5],\n",
       "       [-16,  15],\n",
       "       [ 11,  -4],\n",
       "       [ -2,   4],\n",
       "       [  1,   0],\n",
       "       [ 21,  30],\n",
       "       [ 15, -12],\n",
       "       [-14,   4],\n",
       "       [ 13,   5],\n",
       "       [ 10,  -6],\n",
       "       [ -1,  21],\n",
       "       [  7,  -6],\n",
       "       [ 18, -16],\n",
       "       [-12,  15],\n",
       "       [ -5,  -7],\n",
       "       [  8,  -9],\n",
       "       [  4,  17],\n",
       "       [ 21,  25],\n",
       "       [ -2,  29],\n",
       "       [  0,  27],\n",
       "       [ 14,   5],\n",
       "       [-22,  18],\n",
       "       [  6,  14],\n",
       "       [-11,  24],\n",
       "       [ 28, -13],\n",
       "       [-15,  27],\n",
       "       [ -4, -21],\n",
       "       [ -7,   5],\n",
       "       [ 24,  10]])"
      ]
     },
     "execution_count": 129,
     "metadata": {},
     "output_type": "execute_result"
    }
   ],
   "source": [
    "matrika2 = matrika1.reshape(72,2)\n",
    "matrika2"
   ]
  },
  {
   "cell_type": "code",
   "execution_count": 130,
   "metadata": {},
   "outputs": [],
   "source": [
    "odgovor10 = matrika2#?"
   ]
  },
  {
   "cell_type": "code",
   "execution_count": 131,
   "metadata": {},
   "outputs": [
    {
     "data": {
      "text/plain": [
       "'Odgovor je pravilen. Povprečje naloge: 0.53'"
      ]
     },
     "execution_count": 131,
     "metadata": {},
     "output_type": "execute_result"
    }
   ],
   "source": [
    "poslji(odgovor10, id=5766620487382, st=10)"
   ]
  },
  {
   "cell_type": "markdown",
   "metadata": {},
   "source": [
    "### 11. vprašanje\n",
    "\n",
    "Pripravite kompleksno enotsko matriko velikosti $k$ in jo prištejte kspremenljivki `matrika1`. Kot rezultat vrnite pogled na devet elementov v zgornjem levem kotu (prve tri vrstice, prvi trije stolpci) nove matrike.\n",
    "\n",
    "Število poskusov: 3, enote:  /"
   ]
  },
  {
   "cell_type": "code",
   "execution_count": 134,
   "metadata": {},
   "outputs": [
    {
     "data": {
      "text/plain": [
       "array([[1.+0.j, 0.+0.j, 0.+0.j, 0.+0.j, 0.+0.j, 0.+0.j, 0.+0.j, 0.+0.j,\n",
       "        0.+0.j, 0.+0.j, 0.+0.j, 0.+0.j],\n",
       "       [0.+0.j, 1.+0.j, 0.+0.j, 0.+0.j, 0.+0.j, 0.+0.j, 0.+0.j, 0.+0.j,\n",
       "        0.+0.j, 0.+0.j, 0.+0.j, 0.+0.j],\n",
       "       [0.+0.j, 0.+0.j, 1.+0.j, 0.+0.j, 0.+0.j, 0.+0.j, 0.+0.j, 0.+0.j,\n",
       "        0.+0.j, 0.+0.j, 0.+0.j, 0.+0.j],\n",
       "       [0.+0.j, 0.+0.j, 0.+0.j, 1.+0.j, 0.+0.j, 0.+0.j, 0.+0.j, 0.+0.j,\n",
       "        0.+0.j, 0.+0.j, 0.+0.j, 0.+0.j],\n",
       "       [0.+0.j, 0.+0.j, 0.+0.j, 0.+0.j, 1.+0.j, 0.+0.j, 0.+0.j, 0.+0.j,\n",
       "        0.+0.j, 0.+0.j, 0.+0.j, 0.+0.j],\n",
       "       [0.+0.j, 0.+0.j, 0.+0.j, 0.+0.j, 0.+0.j, 1.+0.j, 0.+0.j, 0.+0.j,\n",
       "        0.+0.j, 0.+0.j, 0.+0.j, 0.+0.j],\n",
       "       [0.+0.j, 0.+0.j, 0.+0.j, 0.+0.j, 0.+0.j, 0.+0.j, 1.+0.j, 0.+0.j,\n",
       "        0.+0.j, 0.+0.j, 0.+0.j, 0.+0.j],\n",
       "       [0.+0.j, 0.+0.j, 0.+0.j, 0.+0.j, 0.+0.j, 0.+0.j, 0.+0.j, 1.+0.j,\n",
       "        0.+0.j, 0.+0.j, 0.+0.j, 0.+0.j],\n",
       "       [0.+0.j, 0.+0.j, 0.+0.j, 0.+0.j, 0.+0.j, 0.+0.j, 0.+0.j, 0.+0.j,\n",
       "        1.+0.j, 0.+0.j, 0.+0.j, 0.+0.j],\n",
       "       [0.+0.j, 0.+0.j, 0.+0.j, 0.+0.j, 0.+0.j, 0.+0.j, 0.+0.j, 0.+0.j,\n",
       "        0.+0.j, 1.+0.j, 0.+0.j, 0.+0.j],\n",
       "       [0.+0.j, 0.+0.j, 0.+0.j, 0.+0.j, 0.+0.j, 0.+0.j, 0.+0.j, 0.+0.j,\n",
       "        0.+0.j, 0.+0.j, 1.+0.j, 0.+0.j],\n",
       "       [0.+0.j, 0.+0.j, 0.+0.j, 0.+0.j, 0.+0.j, 0.+0.j, 0.+0.j, 0.+0.j,\n",
       "        0.+0.j, 0.+0.j, 0.+0.j, 1.+0.j]])"
      ]
     },
     "execution_count": 134,
     "metadata": {},
     "output_type": "execute_result"
    }
   ],
   "source": [
    "enotska = np.identity(k, dtype = complex)\n",
    "enotska"
   ]
  },
  {
   "cell_type": "code",
   "execution_count": 135,
   "metadata": {},
   "outputs": [
    {
     "data": {
      "text/plain": [
       "array([[ 19.+0.j,  -7.+0.j,  23.+0.j, -14.+0.j,   0.+0.j,  21.+0.j,\n",
       "         -4.+0.j, -11.+0.j,  18.+0.j, -15.+0.j,  12.+0.j,  27.+0.j],\n",
       "       [  9.+0.j, -10.+0.j,  -1.+0.j,  25.+0.j,   9.+0.j,   4.+0.j,\n",
       "         -2.+0.j,  30.+0.j,  15.+0.j,  17.+0.j, -19.+0.j,  16.+0.j],\n",
       "       [-18.+0.j,  20.+0.j,  22.+0.j,  29.+0.j,  17.+0.j,  16.+0.j,\n",
       "         20.+0.j,  11.+0.j, -19.+0.j, -17.+0.j,   2.+0.j, -18.+0.j],\n",
       "       [ 24.+0.j, -16.+0.j,   9.+0.j,  -2.+0.j,   9.+0.j, -20.+0.j,\n",
       "         -6.+0.j,  30.+0.j,  24.+0.j, -10.+0.j,  28.+0.j, -18.+0.j],\n",
       "       [  4.+0.j,  -7.+0.j,  27.+0.j,  17.+0.j,  25.+0.j, -14.+0.j,\n",
       "         28.+0.j,  23.+0.j,  -7.+0.j,  19.+0.j,  23.+0.j, -14.+0.j],\n",
       "       [ -5.+0.j,   0.+0.j, -13.+0.j,  19.+0.j,  24.+0.j,   5.+0.j,\n",
       "         -3.+0.j,  10.+0.j,  21.+0.j,  10.+0.j,   4.+0.j,  28.+0.j],\n",
       "       [-14.+0.j, -10.+0.j, -12.+0.j,  18.+0.j,  12.+0.j, -13.+0.j,\n",
       "         16.+0.j, -16.+0.j,   0.+0.j, -16.+0.j,  -3.+0.j,  -4.+0.j],\n",
       "       [-21.+0.j, -18.+0.j,  18.+0.j,  -5.+0.j, -16.+0.j,  15.+0.j,\n",
       "         11.+0.j,  -3.+0.j,  -2.+0.j,   4.+0.j,   1.+0.j,   0.+0.j],\n",
       "       [ 21.+0.j,  30.+0.j,  15.+0.j, -12.+0.j, -14.+0.j,   4.+0.j,\n",
       "         13.+0.j,   5.+0.j,  11.+0.j,  -6.+0.j,  -1.+0.j,  21.+0.j],\n",
       "       [  7.+0.j,  -6.+0.j,  18.+0.j, -16.+0.j, -12.+0.j,  15.+0.j,\n",
       "         -5.+0.j,  -7.+0.j,   8.+0.j,  -8.+0.j,   4.+0.j,  17.+0.j],\n",
       "       [ 21.+0.j,  25.+0.j,  -2.+0.j,  29.+0.j,   0.+0.j,  27.+0.j,\n",
       "         14.+0.j,   5.+0.j, -22.+0.j,  18.+0.j,   7.+0.j,  14.+0.j],\n",
       "       [-11.+0.j,  24.+0.j,  28.+0.j, -13.+0.j, -15.+0.j,  27.+0.j,\n",
       "         -4.+0.j, -21.+0.j,  -7.+0.j,   5.+0.j,  24.+0.j,  11.+0.j]])"
      ]
     },
     "execution_count": 135,
     "metadata": {},
     "output_type": "execute_result"
    }
   ],
   "source": [
    "sestevek = matrika1 + enotska\n",
    "sestevek"
   ]
  },
  {
   "cell_type": "code",
   "execution_count": 138,
   "metadata": {},
   "outputs": [
    {
     "data": {
      "text/plain": [
       "array([[ 19.+0.j,  -7.+0.j,  23.+0.j],\n",
       "       [  9.+0.j, -10.+0.j,  -1.+0.j],\n",
       "       [-18.+0.j,  20.+0.j,  22.+0.j]])"
      ]
     },
     "execution_count": 138,
     "metadata": {},
     "output_type": "execute_result"
    }
   ],
   "source": [
    "prvih_devet = sestevek[:3, :3]\n",
    "prvih_devet\n"
   ]
  },
  {
   "cell_type": "code",
   "execution_count": 139,
   "metadata": {},
   "outputs": [],
   "source": [
    "odgovor11 = prvih_devet#?"
   ]
  },
  {
   "cell_type": "code",
   "execution_count": 140,
   "metadata": {},
   "outputs": [
    {
     "data": {
      "text/plain": [
       "'Odgovor je pravilen. Povprečje naloge: 0.60'"
      ]
     },
     "execution_count": 140,
     "metadata": {},
     "output_type": "execute_result"
    }
   ],
   "source": [
    "poslji(odgovor11, id=5766620487385, st=11)"
   ]
  },
  {
   "cell_type": "markdown",
   "metadata": {},
   "source": [
    "### 12. vprašanje\n",
    "\n",
    "Definirajte funkcijo, ki sprejme kvadratno matriko `M`. Funkcija naj diagonalne elemente v matriki `M` zamenja z maksimalnimi vrednostmi po posamezni vrstici in stolpcu. V vašo funkcijo vstavite matriko `matrika1` in kot rezultat vrnite preurejeno matriko.\n",
    "\n",
    "Število poskusov: 3, enote:  /"
   ]
  },
  {
   "cell_type": "code",
   "execution_count": 228,
   "metadata": {},
   "outputs": [
    {
     "data": {
      "text/plain": [
       "3"
      ]
     },
     "execution_count": 228,
     "metadata": {},
     "output_type": "execute_result"
    }
   ],
   "source": [
    "max(2,3)"
   ]
  },
  {
   "cell_type": "code",
   "execution_count": 250,
   "metadata": {},
   "outputs": [
    {
     "data": {
      "text/plain": [
       "array([[ 18,  -7,  23, -14,   0,  21,  -4, -11,  18, -15,  12,  27],\n",
       "       [  9, -11,  -1,  25,   9,   4,  -2,  30,  15,  17, -19,  16],\n",
       "       [-18,  20,  21,  29,  17,  16,  20,  11, -19, -17,   2, -18],\n",
       "       [ 24, -16,   9,  -3,   9, -20,  -6,  30,  24, -10,  28, -18],\n",
       "       [  4,  -7,  27,  17,  24, -14,  28,  23,  -7,  19,  23, -14],\n",
       "       [ -5,   0, -13,  19,  24,   4,  -3,  10,  21,  10,   4,  28],\n",
       "       [-14, -10, -12,  18,  12, -13,  15, -16,   0, -16,  -3,  -4],\n",
       "       [-21, -18,  18,  -5, -16,  15,  11,  -4,  -2,   4,   1,   0],\n",
       "       [ 21,  30,  15, -12, -14,   4,  13,   5,  10,  -6,  -1,  21],\n",
       "       [  7,  -6,  18, -16, -12,  15,  -5,  -7,   8,  -9,   4,  17],\n",
       "       [ 21,  25,  -2,  29,   0,  27,  14,   5, -22,  18,   6,  14],\n",
       "       [-11,  24,  28, -13, -15,  27,  -4, -21,  -7,   5,  24,  10]])"
      ]
     },
     "execution_count": 250,
     "metadata": {},
     "output_type": "execute_result"
    }
   ],
   "source": [
    "np.random.seed(2)\n",
    "\n",
    "matrika1 = np.random.randint(-l, m, size=(k,k))\n",
    "matrika1"
   ]
  },
  {
   "cell_type": "code",
   "execution_count": 251,
   "metadata": {},
   "outputs": [],
   "source": [
    "def menjaj_diag(M):\n",
    "    \n",
    "    #\n",
    "    #print(maks)\n",
    "    #print(len(M))\n",
    "    #print(M[1][1])\n",
    "    #z = np.where(M[0] == -7)\n",
    "    #print(z[0])\n",
    "    #print(M[z])\n",
    "    max_vrstice = np.max(M, axis=1)\n",
    "    max_stolpci = np.max(M, axis=0)\n",
    "    print(max_vrstice)\n",
    "    print(max_stolpci)\n",
    "    \n",
    "    for i in range(len(M)):\n",
    "        maks = max(max_vrstice[i], max_stolpci[i])\n",
    "        M[i][i] = maks    \n",
    "            \n",
    "        \n",
    "    return M\n",
    "    "
   ]
  },
  {
   "cell_type": "code",
   "execution_count": 252,
   "metadata": {},
   "outputs": [
    {
     "name": "stdout",
     "output_type": "stream",
     "text": [
      "[27 30 29 30 28 28 18 18 30 18 29 28]\n",
      "[24 30 28 29 24 27 28 30 24 19 28 28]\n"
     ]
    },
    {
     "data": {
      "text/plain": [
       "array([[ 27,  -7,  23, -14,   0,  21,  -4, -11,  18, -15,  12,  27],\n",
       "       [  9,  30,  -1,  25,   9,   4,  -2,  30,  15,  17, -19,  16],\n",
       "       [-18,  20,  29,  29,  17,  16,  20,  11, -19, -17,   2, -18],\n",
       "       [ 24, -16,   9,  30,   9, -20,  -6,  30,  24, -10,  28, -18],\n",
       "       [  4,  -7,  27,  17,  28, -14,  28,  23,  -7,  19,  23, -14],\n",
       "       [ -5,   0, -13,  19,  24,  28,  -3,  10,  21,  10,   4,  28],\n",
       "       [-14, -10, -12,  18,  12, -13,  28, -16,   0, -16,  -3,  -4],\n",
       "       [-21, -18,  18,  -5, -16,  15,  11,  30,  -2,   4,   1,   0],\n",
       "       [ 21,  30,  15, -12, -14,   4,  13,   5,  30,  -6,  -1,  21],\n",
       "       [  7,  -6,  18, -16, -12,  15,  -5,  -7,   8,  19,   4,  17],\n",
       "       [ 21,  25,  -2,  29,   0,  27,  14,   5, -22,  18,  29,  14],\n",
       "       [-11,  24,  28, -13, -15,  27,  -4, -21,  -7,   5,  24,  28]])"
      ]
     },
     "execution_count": 252,
     "metadata": {},
     "output_type": "execute_result"
    }
   ],
   "source": [
    "menjana = menjaj_diag(matrika1)\n",
    "menjana"
   ]
  },
  {
   "cell_type": "code",
   "execution_count": 253,
   "metadata": {},
   "outputs": [],
   "source": [
    "odgovor12 = menjana#?"
   ]
  },
  {
   "cell_type": "code",
   "execution_count": 254,
   "metadata": {},
   "outputs": [
    {
     "data": {
      "text/plain": [
       "'Odgovor je pravilen. Povprečje naloge: 0.67'"
      ]
     },
     "execution_count": 254,
     "metadata": {},
     "output_type": "execute_result"
    }
   ],
   "source": [
    "poslji(odgovor12, id=5766620487323, st=12)"
   ]
  },
  {
   "cell_type": "markdown",
   "metadata": {},
   "source": [
    "### 13. vprašanje\n",
    "\n",
    "Metodo `subplot` znotraj modula `matplotlib` lahko uporabimo za prikaz več slik v urejeni mreži. (1: Da, 2: Ne)\n",
    "\n",
    "Število poskusov: 1, enote:  /"
   ]
  },
  {
   "cell_type": "code",
   "execution_count": 255,
   "metadata": {},
   "outputs": [],
   "source": [
    "odgovor13 = 1#?"
   ]
  },
  {
   "cell_type": "code",
   "execution_count": 256,
   "metadata": {},
   "outputs": [
    {
     "data": {
      "text/plain": [
       "'Odgovor je pravilen. Povprečje naloge: 0.73'"
      ]
     },
     "execution_count": 256,
     "metadata": {},
     "output_type": "execute_result"
    }
   ],
   "source": [
    "poslji(odgovor13, id=5766620487316, st=13)"
   ]
  },
  {
   "cell_type": "markdown",
   "metadata": {},
   "source": [
    "### 14. vprašanje\n",
    "\n",
    "Na isti sliki z uporabo modula ``matplotlib`` izrišite funkciji $f(x)=0.3~x^4+0.25~x^3+1~x+7$ z rdečo polno črto in $g(x)=-20~\\cos(\\pi x)$ z rumeno pikčasto črto. Vrednosti ``x`` naj bodo na intervalu od ``-3`` do ``3`` s korakom ``0.05``. Dodajte legendo, ki naj bo postavljena v zgornji levi kot slike. Izrišite tudi koordinatno mrežo. Ali je naslednja trditev pravilna? Naklon krivulj $f(x)$ in $g(x)$ pri vrednosti ``x=1.5`` je istega predznaka. (1: Da, 2: Ne)\n",
    "\n",
    "Število poskusov: 1, enote:  /"
   ]
  },
  {
   "cell_type": "code",
   "execution_count": 257,
   "metadata": {},
   "outputs": [],
   "source": [
    "import matplotlib.pyplot as plt"
   ]
  },
  {
   "cell_type": "code",
   "execution_count": 298,
   "metadata": {},
   "outputs": [
    {
     "data": {
      "image/png": "[encoded data removed]",
      "text/plain": [
       "<Figure size 432x288 with 1 Axes>"
      ]
     },
     "metadata": {
      "needs_background": "light"
     },
     "output_type": "display_data"
    }
   ],
   "source": [
    "x = np.arange(-3, 3, 0.05)\n",
    "f = 0.3*x**4 + 0.25*x**3 + x + 7\n",
    "g = -20 * np.cos(np.pi * x)\n",
    "\n",
    "plt.plot(x, f, \"r\", label = \"f(x)\")\n",
    "plt.plot(x, g, \"y.\", label = \"g(x)\")\n",
    "plt.grid()\n",
    "plt.legend(loc = 0);"
   ]
  },
  {
   "cell_type": "code",
   "execution_count": 284,
   "metadata": {},
   "outputs": [],
   "source": [
    "odgovor14 = 2#?"
   ]
  },
  {
   "cell_type": "code",
   "execution_count": 285,
   "metadata": {},
   "outputs": [
    {
     "data": {
      "text/plain": [
       "'Odgovor je pravilen. Povprečje naloge: 0.80'"
      ]
     },
     "execution_count": 285,
     "metadata": {},
     "output_type": "execute_result"
    }
   ],
   "source": [
    "poslji(odgovor14, id=5766620487387, st=14)"
   ]
  },
  {
   "cell_type": "markdown",
   "metadata": {},
   "source": [
    "### 15. vprašanje\n",
    "\n",
    "Za vsako vrednost `x` iz prejšnje naloge izračunajte vsoto funkcij $f(x)$ in $g(x)$ in rezultat shranite v novo spremenljivko. Za novo spremenljivko nato z uporabo funkcije `ax.errorbar` izrišite intervale zaupanja v abscisni in ordinatni smeri, kjer velja `xerr=0.2` in `yerr=2` (podrobno razlago najdete na https://matplotlib.org/gallery/index.html). Ali je naslednja trditev pravilna? Interval zaupanja izkazuje večji razpon v abscisni smeri. (1: Da, 2: Ne)\n",
    "\n",
    "Število poskusov: 1, enote:  /"
   ]
  },
  {
   "cell_type": "code",
   "execution_count": 302,
   "metadata": {},
   "outputs": [
    {
     "ename": "NameError",
     "evalue": "name 'ax' is not defined",
     "output_type": "error",
     "traceback": [
      "\u001b[1;31m---------------------------------------------------------------------------\u001b[0m",
      "\u001b[1;31mNameError\u001b[0m                                 Traceback (most recent call last)",
      "\u001b[1;32m<ipython-input-302-f30f89311a93>\u001b[0m in \u001b[0;36m<module>\u001b[1;34m\u001b[0m\n\u001b[0;32m      1\u001b[0m \u001b[0msestevek\u001b[0m \u001b[1;33m=\u001b[0m \u001b[0mf\u001b[0m \u001b[1;33m+\u001b[0m \u001b[0mg\u001b[0m\u001b[1;33m\u001b[0m\u001b[1;33m\u001b[0m\u001b[0m\n\u001b[1;32m----> 2\u001b[1;33m \u001b[0max\u001b[0m\u001b[1;33m.\u001b[0m\u001b[0merrorbar\u001b[0m\u001b[1;33m(\u001b[0m\u001b[1;33m)\u001b[0m\u001b[1;33m\u001b[0m\u001b[1;33m\u001b[0m\u001b[0m\n\u001b[0m",
      "\u001b[1;31mNameError\u001b[0m: name 'ax' is not defined"
     ]
    }
   ],
   "source": [
    "sestevek = f + g\n"
   ]
  },
  {
   "cell_type": "code",
   "execution_count": null,
   "metadata": {},
   "outputs": [],
   "source": []
  },
  {
   "cell_type": "code",
   "execution_count": null,
   "metadata": {},
   "outputs": [],
   "source": []
  },
  {
   "cell_type": "code",
   "execution_count": null,
   "metadata": {},
   "outputs": [],
   "source": [
    "odgovor15 = #?"
   ]
  },
  {
   "cell_type": "code",
   "execution_count": null,
   "metadata": {},
   "outputs": [],
   "source": [
    "poslji(odgovor15, id=5766620487355, st=15)"
   ]
  }
 ],
 "metadata": {
  "kernelspec": {
   "display_name": "Python 3",
   "language": "python",
   "name": "python3"
  },
  "language_info": {
   "codemirror_mode": {
    "name": "ipython",
    "version": 3
   },
   "file_extension": ".py",
   "mimetype": "text/x-python",
   "name": "python",
   "nbconvert_exporter": "python",
   "pygments_lexer": "ipython3",
   "version": "3.7.2"
  }
 },
 "nbformat": 4,
 "nbformat_minor": 1
}
