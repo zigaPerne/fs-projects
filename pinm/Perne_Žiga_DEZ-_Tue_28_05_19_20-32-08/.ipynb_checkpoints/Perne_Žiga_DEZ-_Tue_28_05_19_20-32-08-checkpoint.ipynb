{
 "cells": [
  {
   "cell_type": "code",
   "execution_count": 1,
   "metadata": {},
   "outputs": [
    {
     "name": "stdout",
     "output_type": "stream",
     "text": [
      "Downloading file: mojladisksi.py\n"
     ]
    }
   ],
   "source": [
    "from sync import sync\n",
    "sync('/moj.ladisk.si/mojladisksi.py')\n",
    "from mojladisksi import poslji\n",
    "import numpy as np\n"
   ]
  },
  {
   "cell_type": "markdown",
   "metadata": {},
   "source": [
    "# DEZ-\n",
    "\n",
    "Perne Žiga, 23170029, ziga.perne@gmail.com\n",
    "\n",
    "Pričetek reševanja: Tue, 28. May 2019, 20:31:40"
   ]
  },
  {
   "cell_type": "markdown",
   "metadata": {},
   "source": [
    "Preučujete lastno nedušeno nihanje dinamskega sistema, prikazanega na sliki, ki je popisano z gibalno enačbo:  $$(\\frac{1}{2}m_v+m_1)\\,\\ddot{\\varphi}+(k_1+k_2+k_3)\\,\\varphi=0,$$ kjer je $m_v$ masa valja, $m_1$ masa bremena, $k_i$ pa togosti posameznih vzmeti. Nihanje opazujete v $n$ ekvidistantno razporejenih točkah v časovnem intervalu $[0,\\, t_k]$."
   ]
  },
  {
   "cell_type": "markdown",
   "metadata": {},
   "source": [
    "<img width=500 src='Perne_Žiga_DEZ-_Tue_28_05_19_20-32-08.jpeg'>"
   ]
  },
  {
   "cell_type": "code",
   "execution_count": 2,
   "metadata": {},
   "outputs": [],
   "source": [
    "varphi_0 = 4.4 #rad\n",
    "dvarphi_0 = 1.7 #rad/s\n",
    "k_1 = 40 #N/m\n",
    "k_2 = 18 #N/m\n",
    "k_3 = 189 #N/m\n",
    "m_1 = 1.2 #kg\n",
    "m_v = 4.4 #kg\n",
    "n = 275 #/\n",
    "t_k = 5.1 #s"
   ]
  },
  {
   "cell_type": "markdown",
   "metadata": {},
   "source": [
    "### 1. vprašanje\n",
    "\n",
    "Pri reševanju diferencialnih enačb z začetnim problemom moramo diferencialne enačbe $n$-tega reda najprej pretvoriti v sistem $2n$ diferencialnih enačb 1. reda. (1: Da, 2: Ne).\n",
    "\n",
    "Število poskusov: 1, enote:  /"
   ]
  },
  {
   "cell_type": "code",
   "execution_count": null,
   "metadata": {},
   "outputs": [],
   "source": [
    "odgovor1 = #?"
   ]
  },
  {
   "cell_type": "code",
   "execution_count": null,
   "metadata": {},
   "outputs": [],
   "source": [
    "poslji(odgovor1, id=7353871214422, st=1)"
   ]
  },
  {
   "cell_type": "markdown",
   "metadata": {},
   "source": [
    "### 2. vprašanje\n",
    "\n",
    "Določite numerično polje časa $t$. Kot rezultat vrnite časovni korak $\\Delta t$.\n",
    "\n",
    "Število poskusov: 3, enote:  s"
   ]
  },
  {
   "cell_type": "code",
   "execution_count": null,
   "metadata": {},
   "outputs": [],
   "source": [
    "odgovor2 = #?"
   ]
  },
  {
   "cell_type": "code",
   "execution_count": null,
   "metadata": {},
   "outputs": [],
   "source": [
    "poslji(odgovor2, id=7353871214489, st=2)"
   ]
  },
  {
   "cell_type": "markdown",
   "metadata": {},
   "source": [
    "### 3. vprašanje\n",
    "\n",
    "Za reševanje podane gibalne enačbe najprej pripravite funkcijo sistema diferencialnih enačb prvega reda. Izračunajte rezultat funkcije pri času $t=0$ in podanih začetnih pogojih $[\\varphi_0, d\\varphi_0]$.\n",
    "\n",
    "Število poskusov: 3, enote:  [rad/s, rad/s$^2$]"
   ]
  },
  {
   "cell_type": "code",
   "execution_count": null,
   "metadata": {},
   "outputs": [],
   "source": [
    "odgovor3 = #?"
   ]
  },
  {
   "cell_type": "code",
   "execution_count": null,
   "metadata": {},
   "outputs": [],
   "source": [
    "poslji(odgovor3, id=7353871214428, st=3)"
   ]
  },
  {
   "cell_type": "markdown",
   "metadata": {},
   "source": [
    "### 4. vprašanje\n",
    "\n",
    "S pomočjo funkcije `scipy.integrate.solve_ivp` rešite diferencialno enačbo in določite numerično polje kotnih hitrosti $\\dot{\\varphi}(t)$ pri časih $t$. Uporabite podane začetne pogoje, vsi nepodani argumenti funkcije pa naj imajo privzete vrednosti.\n",
    "\n",
    "Število poskusov: 3, enote:  rad/s"
   ]
  },
  {
   "cell_type": "code",
   "execution_count": null,
   "metadata": {},
   "outputs": [],
   "source": [
    "odgovor4 = #?"
   ]
  },
  {
   "cell_type": "code",
   "execution_count": null,
   "metadata": {},
   "outputs": [],
   "source": [
    "poslji(odgovor4, id=7353871214416, st=4)"
   ]
  },
  {
   "cell_type": "markdown",
   "metadata": {},
   "source": [
    "### 5. vprašanje\n",
    "\n",
    "Na podlagi izračunanih zasukov in kotnih hitrosti izračunajte kotni pospešek pri času $t_k$.\n",
    "\n",
    "Število poskusov: 3, enote:  rad/s$^2$"
   ]
  },
  {
   "cell_type": "code",
   "execution_count": null,
   "metadata": {},
   "outputs": [],
   "source": [
    "odgovor5 = #?"
   ]
  },
  {
   "cell_type": "code",
   "execution_count": null,
   "metadata": {},
   "outputs": [],
   "source": [
    "poslji(odgovor5, id=7353871214476, st=5)"
   ]
  }
 ],
 "metadata": {
  "kernelspec": {
   "display_name": "Python 3",
   "language": "python",
   "name": "python3"
  },
  "language_info": {
   "codemirror_mode": {
    "name": "ipython",
    "version": 3
   },
   "file_extension": ".py",
   "mimetype": "text/x-python",
   "name": "python",
   "nbconvert_exporter": "python",
   "pygments_lexer": "ipython3",
   "version": "3.7.2"
  }
 },
 "nbformat": 4,
 "nbformat_minor": 1
}
