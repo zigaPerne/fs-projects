{
 "cells": [
  {
   "cell_type": "code",
   "execution_count": 1,
   "metadata": {},
   "outputs": [
    {
     "name": "stdout",
     "output_type": "stream",
     "text": [
      "Downloading file: mojladisksi.py\n",
      "Downloading file: data.txt\n",
      "Downloading file: zapis_labview.lvm\n"
     ]
    }
   ],
   "source": [
    "from sync import sync\n",
    "sync('/moj.ladisk.si/mojladisksi.py')\n",
    "from mojladisksi import poslji\n",
    "import numpy as np\n",
    "sync('/moj.ladisk.si/data.txt')\n",
    "sync('/moj.ladisk.si/zapis_labview.lvm')"
   ]
  },
  {
   "cell_type": "markdown",
   "metadata": {},
   "source": [
    "# DFM\n",
    "\n",
    "Perne Žiga, 23170029, ziga.perne@gmail.com\n",
    "\n",
    "Pričetek reševanja: Tue, 12. March 2019, 16:10:49"
   ]
  },
  {
   "cell_type": "markdown",
   "metadata": {},
   "source": [
    "Ponovitev bistvenih korakov predavanja Print, delo z datotekami, funkcije, moduli https://github.com/jankoslavic/pypinm. Priložene datoteke, potrebne za reševanje nalog, se nahajajo tudi na: https://github.com/jankoslavic/pypinm/tree/master/moj.ladisk.si"
   ]
  },
  {
   "cell_type": "markdown",
   "metadata": {},
   "source": [
    "<img width=500 src='Perne_Žiga_DFM_Tue_12_03_19_16-11-23.png'>"
   ]
  },
  {
   "cell_type": "code",
   "execution_count": 7,
   "metadata": {},
   "outputs": [],
   "source": [
    "a = 7 # \n",
    "b = 13 # \n",
    "c = 26 # \n",
    "l = 5308.66 # mm"
   ]
  },
  {
   "cell_type": "markdown",
   "metadata": {},
   "source": [
    "### 1. vprašanje\n",
    "\n",
    "Z uporabo f-nizov ali funkcije ``format`` pri formatiranju nizov določimo obliko zapisa podanih argumentov! (1: Da, 2: Ne)\n",
    "\n",
    "Število poskusov: 1, enote:   "
   ]
  },
  {
   "cell_type": "code",
   "execution_count": 2,
   "metadata": {},
   "outputs": [],
   "source": [
    "odgovor1 = 1#?"
   ]
  },
  {
   "cell_type": "code",
   "execution_count": 3,
   "metadata": {},
   "outputs": [
    {
     "data": {
      "text/plain": [
       "'Odgovor je pravilen. Povprečje naloge: 0.06'"
      ]
     },
     "execution_count": 3,
     "metadata": {},
     "output_type": "execute_result"
    }
   ],
   "source": [
    "poslji(odgovor1, id=3862385317433, st=1)"
   ]
  },
  {
   "cell_type": "markdown",
   "metadata": {},
   "source": [
    "### 2. vprašanje\n",
    "\n",
    "Funkcija ``print`` izpiše znak '\\n' znotraj niza kot prehod v novo vrstico! (1: Da, 2: Ne)\n",
    "\n",
    "Število poskusov: 1, enote:   "
   ]
  },
  {
   "cell_type": "code",
   "execution_count": 4,
   "metadata": {},
   "outputs": [],
   "source": [
    "odgovor2 = 1#?"
   ]
  },
  {
   "cell_type": "code",
   "execution_count": 5,
   "metadata": {},
   "outputs": [
    {
     "data": {
      "text/plain": [
       "'Odgovor je pravilen. Povprečje naloge: 0.12'"
      ]
     },
     "execution_count": 5,
     "metadata": {},
     "output_type": "execute_result"
    }
   ],
   "source": [
    "poslji(odgovor2, id=3862385317416, st=2)"
   ]
  },
  {
   "cell_type": "markdown",
   "metadata": {},
   "source": [
    "### 3. vprašanje\n",
    "\n",
    "Z uporabo f-nizov pripravite niz, ki  ga funkcija ``print`` izpiše v obliki 'l = $l$ enota'. Pri tem $l$ nadomestite z vrednostjo iz podatkov naloge, 'enota' pa z ustrezno enoto. (primer: 'l = 1 mm'). $l$ naj bo zapisan v centimetrih in predstavljen z eksponentom. Ne pozabite na pretvorbo enot! Pri izpisu $l$ uporabite minimalno skupno širino izpisa $b$ `` // `` $2$ in $a$ ``// `` $2$ decimalnh mest.\n",
    "\n",
    "Število poskusov: 3, enote:   "
   ]
  },
  {
   "cell_type": "code",
   "execution_count": 28,
   "metadata": {},
   "outputs": [
    {
     "data": {
      "text/plain": [
       "6"
      ]
     },
     "execution_count": 28,
     "metadata": {},
     "output_type": "execute_result"
    }
   ],
   "source": [
    "b//2\n"
   ]
  },
  {
   "cell_type": "code",
   "execution_count": 279,
   "metadata": {},
   "outputs": [
    {
     "name": "stdout",
     "output_type": "stream",
     "text": [
      "l = 5.309e+02 cm\n"
     ]
    }
   ],
   "source": [
    "l = 5308.66\n",
    "\n",
    "\n",
    "print(f\"l = {(l/10):{b//2}.{a//2}e} cm\")\n",
    "\n",
    "#odgovor3 = (f\"l = {(l/10):6.3e} cm\")"
   ]
  },
  {
   "cell_type": "code",
   "execution_count": 31,
   "metadata": {},
   "outputs": [
    {
     "data": {
      "text/plain": [
       "'Odgovor je pravilen. Povprečje naloge: 0.18'"
      ]
     },
     "execution_count": 31,
     "metadata": {},
     "output_type": "execute_result"
    }
   ],
   "source": [
    "poslji(odgovor3, id=3862385317444, st=3)"
   ]
  },
  {
   "cell_type": "markdown",
   "metadata": {},
   "source": [
    "### 4. vprašanje\n",
    "\n",
    "Z uporabo f-nizov pripravite seznam nizov, ki izpisani eden pod drugim s funkcijo ``print`` oblikujejo simetrično piramido znakov 'x' z $b$ vrsticami. Vsaka naslednja vrstica naj ima dva dodatna sredinsko poravnana znaka 'x'. Prazen prostor naj predstavljajo prazni znaki (' '). Primer za $b = 2$: [' x ', 'xxx']. (Namig: uporabite sredinsko poravnavo. Skupno število znakov v eni vrstici je $2b-1$, število znakov 'x' v vrstici ``i`` pa $2i-1$).\n",
    "\n",
    "Število poskusov: 3, enote:   "
   ]
  },
  {
   "cell_type": "code",
   "execution_count": 70,
   "metadata": {},
   "outputs": [
    {
     "data": {
      "text/plain": [
       "25"
      ]
     },
     "execution_count": 70,
     "metadata": {},
     "output_type": "execute_result"
    }
   ],
   "source": [
    "2 * b - 1"
   ]
  },
  {
   "cell_type": "code",
   "execution_count": 173,
   "metadata": {},
   "outputs": [],
   "source": [
    "\n",
    "x = \"x\"\n",
    "piramida = []\n",
    "\n",
    "for i in range(1, b+1):\n",
    "    piramida.append(f\"{x * (2*i - 1):^{2 * b - 1}}\")\n",
    "    "
   ]
  },
  {
   "cell_type": "code",
   "execution_count": 174,
   "metadata": {},
   "outputs": [
    {
     "data": {
      "text/plain": [
       "['            x            ',\n",
       " '           xxx           ',\n",
       " '          xxxxx          ',\n",
       " '         xxxxxxx         ',\n",
       " '        xxxxxxxxx        ',\n",
       " '       xxxxxxxxxxx       ',\n",
       " '      xxxxxxxxxxxxx      ',\n",
       " '     xxxxxxxxxxxxxxx     ',\n",
       " '    xxxxxxxxxxxxxxxxx    ',\n",
       " '   xxxxxxxxxxxxxxxxxxx   ',\n",
       " '  xxxxxxxxxxxxxxxxxxxxx  ',\n",
       " ' xxxxxxxxxxxxxxxxxxxxxxx ',\n",
       " 'xxxxxxxxxxxxxxxxxxxxxxxxx']"
      ]
     },
     "execution_count": 174,
     "metadata": {},
     "output_type": "execute_result"
    }
   ],
   "source": [
    "piramida"
   ]
  },
  {
   "cell_type": "code",
   "execution_count": null,
   "metadata": {},
   "outputs": [],
   "source": []
  },
  {
   "cell_type": "code",
   "execution_count": 74,
   "metadata": {},
   "outputs": [],
   "source": [
    "odgovor4 = piramida"
   ]
  },
  {
   "cell_type": "code",
   "execution_count": 75,
   "metadata": {},
   "outputs": [
    {
     "data": {
      "text/plain": [
       "'Odgovor je pravilen. Povprečje naloge: 0.24'"
      ]
     },
     "execution_count": 75,
     "metadata": {},
     "output_type": "execute_result"
    }
   ],
   "source": [
    "poslji(odgovor4, id=3862385317441, st=4)"
   ]
  },
  {
   "cell_type": "markdown",
   "metadata": {},
   "source": [
    "### 5. vprašanje\n",
    "\n",
    "Funkcija ``open`` v načinu (``mode``) 'r+' odpre datoteko samo za branje! (1: Da, 2: Ne)\n",
    "\n",
    "Število poskusov: 1, enote:   "
   ]
  },
  {
   "cell_type": "code",
   "execution_count": 76,
   "metadata": {},
   "outputs": [],
   "source": [
    "odgovor5 = 2#?"
   ]
  },
  {
   "cell_type": "code",
   "execution_count": 77,
   "metadata": {},
   "outputs": [
    {
     "data": {
      "text/plain": [
       "'Odgovor je pravilen. Povprečje naloge: 0.29'"
      ]
     },
     "execution_count": 77,
     "metadata": {},
     "output_type": "execute_result"
    }
   ],
   "source": [
    "poslji(odgovor5, id=3862385317480, st=5)"
   ]
  },
  {
   "cell_type": "markdown",
   "metadata": {},
   "source": [
    "### 6. vprašanje\n",
    "\n",
    "Pri uporabi funkcije ``open`` in stavka ``with``, se odprta datoteka po branju samodejno zapre! (1: Da, 2: Ne)\n",
    "\n",
    "Število poskusov: 1, enote:   "
   ]
  },
  {
   "cell_type": "code",
   "execution_count": 78,
   "metadata": {},
   "outputs": [],
   "source": [
    "odgovor6 = 1#?"
   ]
  },
  {
   "cell_type": "code",
   "execution_count": 79,
   "metadata": {},
   "outputs": [
    {
     "data": {
      "text/plain": [
       "'Odgovor je pravilen. Povprečje naloge: 0.35'"
      ]
     },
     "execution_count": 79,
     "metadata": {},
     "output_type": "execute_result"
    }
   ],
   "source": [
    "poslji(odgovor6, id=3862385317442, st=6)"
   ]
  },
  {
   "cell_type": "markdown",
   "metadata": {},
   "source": [
    "### 7. vprašanje\n",
    "\n",
    "Z izpeljevanjem seznamov lahko tvorimo nov seznam z uporabo elementov že obstoječega seznama, množice, terke ali slovarja! (1: Da, 2: Ne)\n",
    "\n",
    "Število poskusov: 1, enote:   "
   ]
  },
  {
   "cell_type": "code",
   "execution_count": 80,
   "metadata": {},
   "outputs": [],
   "source": [
    "odgovor7 = 1#?"
   ]
  },
  {
   "cell_type": "code",
   "execution_count": 81,
   "metadata": {},
   "outputs": [
    {
     "data": {
      "text/plain": [
       "'Odgovor je pravilen. Povprečje naloge: 0.41'"
      ]
     },
     "execution_count": 81,
     "metadata": {},
     "output_type": "execute_result"
    }
   ],
   "source": [
    "poslji(odgovor7, id=3862385317474, st=7)"
   ]
  },
  {
   "cell_type": "markdown",
   "metadata": {},
   "source": [
    "### 8. vprašanje\n",
    "\n",
    "Preberite vsebino priložene datoteke 'data.txt', iz konca vsake posamezne vrstice odstranite znak '\\n' ter vse posamezne vrstice shranite v seznam ``seznam_vrstic``. Uporabite izpeljevanje seznamov! Dobljen seznam vrstic posredujte kot odgovor. (Namig: uporabite funkcijo ``file.readlines``. Pomagate si lahko tudi s funkcijo ``str.rstrip``).\n",
    "\n",
    "Število poskusov: 3, enote:   "
   ]
  },
  {
   "cell_type": "code",
   "execution_count": 90,
   "metadata": {},
   "outputs": [
    {
     "data": {
      "text/plain": [
       "['0.00e+00',\n",
       " '1.00e+00',\n",
       " '2.00e+00',\n",
       " '3.00e+00',\n",
       " '4.00e+00',\n",
       " '5.00e+00',\n",
       " '6.00e+00',\n",
       " '7.00e+00',\n",
       " '8.00e+00',\n",
       " '9.00e+00',\n",
       " '1.00e+01',\n",
       " '1.10e+01',\n",
       " '1.20e+01',\n",
       " '1.30e+01',\n",
       " '1.40e+01',\n",
       " '1.50e+01',\n",
       " '1.60e+01',\n",
       " '1.70e+01',\n",
       " '1.80e+01',\n",
       " '1.90e+01',\n",
       " '2.00e+01',\n",
       " '2.10e+01',\n",
       " '2.20e+01',\n",
       " '2.30e+01',\n",
       " '2.40e+01',\n",
       " '2.50e+01',\n",
       " '2.60e+01',\n",
       " '2.70e+01',\n",
       " '2.80e+01',\n",
       " '2.90e+01',\n",
       " '3.00e+01',\n",
       " '3.10e+01',\n",
       " '3.20e+01',\n",
       " '3.30e+01',\n",
       " '3.40e+01',\n",
       " '3.50e+01',\n",
       " '3.60e+01',\n",
       " '3.70e+01',\n",
       " '3.80e+01',\n",
       " '3.90e+01',\n",
       " '4.00e+01',\n",
       " '4.10e+01',\n",
       " '4.20e+01',\n",
       " '4.30e+01',\n",
       " '4.40e+01',\n",
       " '4.50e+01',\n",
       " '4.60e+01',\n",
       " '4.70e+01',\n",
       " '4.80e+01',\n",
       " '4.90e+01',\n",
       " '5.00e+01',\n",
       " '5.10e+01',\n",
       " '5.20e+01',\n",
       " '5.30e+01',\n",
       " '5.40e+01',\n",
       " '5.50e+01',\n",
       " '5.60e+01',\n",
       " '5.70e+01',\n",
       " '5.80e+01',\n",
       " '5.90e+01',\n",
       " '6.00e+01',\n",
       " '6.10e+01',\n",
       " '6.20e+01',\n",
       " '6.30e+01',\n",
       " '6.40e+01',\n",
       " '6.50e+01',\n",
       " '6.60e+01',\n",
       " '6.70e+01',\n",
       " '6.80e+01',\n",
       " '6.90e+01',\n",
       " '7.00e+01',\n",
       " '7.10e+01',\n",
       " '7.20e+01',\n",
       " '7.30e+01',\n",
       " '7.40e+01',\n",
       " '7.50e+01',\n",
       " '7.60e+01',\n",
       " '7.70e+01',\n",
       " '7.80e+01',\n",
       " '7.90e+01',\n",
       " '8.00e+01',\n",
       " '8.10e+01',\n",
       " '8.20e+01',\n",
       " '8.30e+01',\n",
       " '8.40e+01',\n",
       " '8.50e+01',\n",
       " '8.60e+01',\n",
       " '8.70e+01',\n",
       " '8.80e+01',\n",
       " '8.90e+01',\n",
       " '9.00e+01',\n",
       " '9.10e+01',\n",
       " '9.20e+01',\n",
       " '9.30e+01',\n",
       " '9.40e+01',\n",
       " '9.50e+01',\n",
       " '9.60e+01',\n",
       " '9.70e+01',\n",
       " '9.80e+01',\n",
       " '9.90e+01',\n",
       " '1.00e+02',\n",
       " '1.01e+02',\n",
       " '1.02e+02',\n",
       " '1.03e+02',\n",
       " '1.04e+02',\n",
       " '1.05e+02',\n",
       " '1.06e+02',\n",
       " '1.07e+02',\n",
       " '1.08e+02',\n",
       " '1.09e+02',\n",
       " '1.10e+02',\n",
       " '1.11e+02',\n",
       " '1.12e+02',\n",
       " '1.13e+02',\n",
       " '1.14e+02',\n",
       " '1.15e+02',\n",
       " '1.16e+02',\n",
       " '1.17e+02',\n",
       " '1.18e+02',\n",
       " '1.19e+02',\n",
       " '1.20e+02',\n",
       " '1.21e+02',\n",
       " '1.22e+02',\n",
       " '1.23e+02',\n",
       " '1.24e+02',\n",
       " '1.25e+02',\n",
       " '1.26e+02',\n",
       " '1.27e+02',\n",
       " '1.28e+02',\n",
       " '1.29e+02',\n",
       " '1.30e+02',\n",
       " '1.31e+02',\n",
       " '1.32e+02',\n",
       " '1.33e+02',\n",
       " '1.34e+02',\n",
       " '1.35e+02',\n",
       " '1.36e+02',\n",
       " '1.37e+02',\n",
       " '1.38e+02',\n",
       " '1.39e+02',\n",
       " '1.40e+02',\n",
       " '1.41e+02',\n",
       " '1.42e+02',\n",
       " '1.43e+02',\n",
       " '1.44e+02',\n",
       " '1.45e+02',\n",
       " '1.46e+02',\n",
       " '1.47e+02',\n",
       " '1.48e+02',\n",
       " '1.49e+02',\n",
       " '1.50e+02',\n",
       " '1.51e+02',\n",
       " '1.52e+02',\n",
       " '1.53e+02',\n",
       " '1.54e+02',\n",
       " '1.55e+02',\n",
       " '1.56e+02',\n",
       " '1.57e+02',\n",
       " '1.58e+02',\n",
       " '1.59e+02',\n",
       " '1.60e+02',\n",
       " '1.61e+02',\n",
       " '1.62e+02',\n",
       " '1.63e+02',\n",
       " '1.64e+02',\n",
       " '1.65e+02',\n",
       " '1.66e+02',\n",
       " '1.67e+02',\n",
       " '1.68e+02',\n",
       " '1.69e+02',\n",
       " '1.70e+02',\n",
       " '1.71e+02',\n",
       " '1.72e+02',\n",
       " '1.73e+02',\n",
       " '1.74e+02',\n",
       " '1.75e+02',\n",
       " '1.76e+02',\n",
       " '1.77e+02',\n",
       " '1.78e+02',\n",
       " '1.79e+02',\n",
       " '1.80e+02',\n",
       " '1.81e+02',\n",
       " '1.82e+02',\n",
       " '1.83e+02',\n",
       " '1.84e+02',\n",
       " '1.85e+02',\n",
       " '1.86e+02',\n",
       " '1.87e+02',\n",
       " '1.88e+02',\n",
       " '1.89e+02',\n",
       " '1.90e+02',\n",
       " '1.91e+02',\n",
       " '1.92e+02',\n",
       " '1.93e+02',\n",
       " '1.94e+02',\n",
       " '1.95e+02',\n",
       " '1.96e+02',\n",
       " '1.97e+02',\n",
       " '1.98e+02',\n",
       " '1.99e+02',\n",
       " '2.00e+02',\n",
       " '2.01e+02',\n",
       " '2.02e+02',\n",
       " '2.03e+02',\n",
       " '2.04e+02',\n",
       " '2.05e+02',\n",
       " '2.06e+02',\n",
       " '2.07e+02',\n",
       " '2.08e+02',\n",
       " '2.09e+02',\n",
       " '2.10e+02',\n",
       " '2.11e+02',\n",
       " '2.12e+02',\n",
       " '2.13e+02',\n",
       " '2.14e+02',\n",
       " '2.15e+02',\n",
       " '2.16e+02',\n",
       " '2.17e+02',\n",
       " '2.18e+02',\n",
       " '2.19e+02',\n",
       " '2.20e+02',\n",
       " '2.21e+02',\n",
       " '2.22e+02',\n",
       " '2.23e+02',\n",
       " '2.24e+02',\n",
       " '2.25e+02',\n",
       " '2.26e+02',\n",
       " '2.27e+02',\n",
       " '2.28e+02',\n",
       " '2.29e+02',\n",
       " '2.30e+02',\n",
       " '2.31e+02',\n",
       " '2.32e+02',\n",
       " '2.33e+02',\n",
       " '2.34e+02',\n",
       " '2.35e+02',\n",
       " '2.36e+02',\n",
       " '2.37e+02',\n",
       " '2.38e+02',\n",
       " '2.39e+02',\n",
       " '2.40e+02',\n",
       " '2.41e+02',\n",
       " '2.42e+02',\n",
       " '2.43e+02',\n",
       " '2.44e+02',\n",
       " '2.45e+02',\n",
       " '2.46e+02',\n",
       " '2.47e+02',\n",
       " '2.48e+02',\n",
       " '2.49e+02',\n",
       " '2.50e+02',\n",
       " '2.51e+02',\n",
       " '2.52e+02',\n",
       " '2.53e+02',\n",
       " '2.54e+02',\n",
       " '2.55e+02',\n",
       " '2.56e+02',\n",
       " '2.57e+02',\n",
       " '2.58e+02',\n",
       " '2.59e+02',\n",
       " '2.60e+02',\n",
       " '2.61e+02',\n",
       " '2.62e+02',\n",
       " '2.63e+02',\n",
       " '2.64e+02',\n",
       " '2.65e+02',\n",
       " '2.66e+02',\n",
       " '2.67e+02',\n",
       " '2.68e+02',\n",
       " '2.69e+02',\n",
       " '2.70e+02',\n",
       " '2.71e+02',\n",
       " '2.72e+02',\n",
       " '2.73e+02',\n",
       " '2.74e+02',\n",
       " '2.75e+02',\n",
       " '2.76e+02',\n",
       " '2.77e+02',\n",
       " '2.78e+02',\n",
       " '2.79e+02',\n",
       " '2.80e+02',\n",
       " '2.81e+02',\n",
       " '2.82e+02',\n",
       " '2.83e+02',\n",
       " '2.84e+02',\n",
       " '2.85e+02',\n",
       " '2.86e+02',\n",
       " '2.87e+02',\n",
       " '2.88e+02',\n",
       " '2.89e+02',\n",
       " '2.90e+02',\n",
       " '2.91e+02',\n",
       " '2.92e+02',\n",
       " '2.93e+02',\n",
       " '2.94e+02',\n",
       " '2.95e+02',\n",
       " '2.96e+02',\n",
       " '2.97e+02',\n",
       " '2.98e+02',\n",
       " '2.99e+02',\n",
       " '3.00e+02',\n",
       " '3.01e+02',\n",
       " '3.02e+02',\n",
       " '3.03e+02',\n",
       " '3.04e+02',\n",
       " '3.05e+02',\n",
       " '3.06e+02',\n",
       " '3.07e+02',\n",
       " '3.08e+02',\n",
       " '3.09e+02',\n",
       " '3.10e+02',\n",
       " '3.11e+02',\n",
       " '3.12e+02',\n",
       " '3.13e+02',\n",
       " '3.14e+02',\n",
       " '3.15e+02',\n",
       " '3.16e+02',\n",
       " '3.17e+02',\n",
       " '3.18e+02',\n",
       " '3.19e+02',\n",
       " '3.20e+02',\n",
       " '3.21e+02',\n",
       " '3.22e+02',\n",
       " '3.23e+02',\n",
       " '3.24e+02',\n",
       " '3.25e+02',\n",
       " '3.26e+02',\n",
       " '3.27e+02',\n",
       " '3.28e+02',\n",
       " '3.29e+02',\n",
       " '3.30e+02',\n",
       " '3.31e+02',\n",
       " '3.32e+02',\n",
       " '3.33e+02',\n",
       " '3.34e+02',\n",
       " '3.35e+02',\n",
       " '3.36e+02',\n",
       " '3.37e+02',\n",
       " '3.38e+02',\n",
       " '3.39e+02',\n",
       " '3.40e+02',\n",
       " '3.41e+02',\n",
       " '3.42e+02',\n",
       " '3.43e+02',\n",
       " '3.44e+02',\n",
       " '3.45e+02',\n",
       " '3.46e+02',\n",
       " '3.47e+02',\n",
       " '3.48e+02',\n",
       " '3.49e+02',\n",
       " '3.50e+02',\n",
       " '3.51e+02',\n",
       " '3.52e+02',\n",
       " '3.53e+02',\n",
       " '3.54e+02',\n",
       " '3.55e+02',\n",
       " '3.56e+02',\n",
       " '3.57e+02',\n",
       " '3.58e+02',\n",
       " '3.59e+02',\n",
       " '3.60e+02',\n",
       " '3.61e+02',\n",
       " '3.62e+02',\n",
       " '3.63e+02',\n",
       " '3.64e+02',\n",
       " '3.65e+02',\n",
       " '3.66e+02',\n",
       " '3.67e+02',\n",
       " '3.68e+02',\n",
       " '3.69e+02',\n",
       " '3.70e+02',\n",
       " '3.71e+02',\n",
       " '3.72e+02',\n",
       " '3.73e+02',\n",
       " '3.74e+02',\n",
       " '3.75e+02',\n",
       " '3.76e+02',\n",
       " '3.77e+02',\n",
       " '3.78e+02',\n",
       " '3.79e+02',\n",
       " '3.80e+02',\n",
       " '3.81e+02',\n",
       " '3.82e+02',\n",
       " '3.83e+02',\n",
       " '3.84e+02',\n",
       " '3.85e+02',\n",
       " '3.86e+02',\n",
       " '3.87e+02',\n",
       " '3.88e+02',\n",
       " '3.89e+02',\n",
       " '3.90e+02',\n",
       " '3.91e+02',\n",
       " '3.92e+02',\n",
       " '3.93e+02',\n",
       " '3.94e+02',\n",
       " '3.95e+02',\n",
       " '3.96e+02',\n",
       " '3.97e+02',\n",
       " '3.98e+02',\n",
       " '3.99e+02',\n",
       " '4.00e+02',\n",
       " '4.01e+02',\n",
       " '4.02e+02',\n",
       " '4.03e+02',\n",
       " '4.04e+02',\n",
       " '4.05e+02',\n",
       " '4.06e+02',\n",
       " '4.07e+02',\n",
       " '4.08e+02',\n",
       " '4.09e+02',\n",
       " '4.10e+02',\n",
       " '4.11e+02',\n",
       " '4.12e+02',\n",
       " '4.13e+02',\n",
       " '4.14e+02',\n",
       " '4.15e+02',\n",
       " '4.16e+02',\n",
       " '4.17e+02',\n",
       " '4.18e+02',\n",
       " '4.19e+02',\n",
       " '4.20e+02',\n",
       " '4.21e+02',\n",
       " '4.22e+02',\n",
       " '4.23e+02',\n",
       " '4.24e+02',\n",
       " '4.25e+02',\n",
       " '4.26e+02',\n",
       " '4.27e+02',\n",
       " '4.28e+02',\n",
       " '4.29e+02',\n",
       " '4.30e+02',\n",
       " '4.31e+02',\n",
       " '4.32e+02',\n",
       " '4.33e+02',\n",
       " '4.34e+02',\n",
       " '4.35e+02',\n",
       " '4.36e+02',\n",
       " '4.37e+02',\n",
       " '4.38e+02',\n",
       " '4.39e+02',\n",
       " '4.40e+02',\n",
       " '4.41e+02',\n",
       " '4.42e+02',\n",
       " '4.43e+02',\n",
       " '4.44e+02',\n",
       " '4.45e+02',\n",
       " '4.46e+02',\n",
       " '4.47e+02',\n",
       " '4.48e+02',\n",
       " '4.49e+02',\n",
       " '4.50e+02',\n",
       " '4.51e+02',\n",
       " '4.52e+02',\n",
       " '4.53e+02',\n",
       " '4.54e+02',\n",
       " '4.55e+02',\n",
       " '4.56e+02',\n",
       " '4.57e+02',\n",
       " '4.58e+02',\n",
       " '4.59e+02',\n",
       " '4.60e+02',\n",
       " '4.61e+02',\n",
       " '4.62e+02',\n",
       " '4.63e+02',\n",
       " '4.64e+02',\n",
       " '4.65e+02',\n",
       " '4.66e+02',\n",
       " '4.67e+02',\n",
       " '4.68e+02',\n",
       " '4.69e+02',\n",
       " '4.70e+02',\n",
       " '4.71e+02',\n",
       " '4.72e+02',\n",
       " '4.73e+02',\n",
       " '4.74e+02',\n",
       " '4.75e+02',\n",
       " '4.76e+02',\n",
       " '4.77e+02',\n",
       " '4.78e+02',\n",
       " '4.79e+02',\n",
       " '4.80e+02',\n",
       " '4.81e+02',\n",
       " '4.82e+02',\n",
       " '4.83e+02',\n",
       " '4.84e+02',\n",
       " '4.85e+02',\n",
       " '4.86e+02',\n",
       " '4.87e+02',\n",
       " '4.88e+02',\n",
       " '4.89e+02',\n",
       " '4.90e+02',\n",
       " '4.91e+02',\n",
       " '4.92e+02',\n",
       " '4.93e+02',\n",
       " '4.94e+02',\n",
       " '4.95e+02',\n",
       " '4.96e+02',\n",
       " '4.97e+02',\n",
       " '4.98e+02',\n",
       " '4.99e+02',\n",
       " '5.00e+02',\n",
       " '5.01e+02',\n",
       " '5.02e+02',\n",
       " '5.03e+02',\n",
       " '5.04e+02',\n",
       " '5.05e+02',\n",
       " '5.06e+02',\n",
       " '5.07e+02',\n",
       " '5.08e+02',\n",
       " '5.09e+02',\n",
       " '5.10e+02',\n",
       " '5.11e+02',\n",
       " '5.12e+02',\n",
       " '5.13e+02',\n",
       " '5.14e+02',\n",
       " '5.15e+02',\n",
       " '5.16e+02',\n",
       " '5.17e+02',\n",
       " '5.18e+02',\n",
       " '5.19e+02',\n",
       " '5.20e+02',\n",
       " '5.21e+02',\n",
       " '5.22e+02',\n",
       " '5.23e+02',\n",
       " '5.24e+02',\n",
       " '5.25e+02',\n",
       " '5.26e+02',\n",
       " '5.27e+02',\n",
       " '5.28e+02',\n",
       " '5.29e+02',\n",
       " '5.30e+02',\n",
       " '5.31e+02',\n",
       " '5.32e+02',\n",
       " '5.33e+02',\n",
       " '5.34e+02',\n",
       " '5.35e+02',\n",
       " '5.36e+02',\n",
       " '5.37e+02',\n",
       " '5.38e+02',\n",
       " '5.39e+02',\n",
       " '5.40e+02',\n",
       " '5.41e+02',\n",
       " '5.42e+02',\n",
       " '5.43e+02',\n",
       " '5.44e+02',\n",
       " '5.45e+02',\n",
       " '5.46e+02',\n",
       " '5.47e+02',\n",
       " '5.48e+02',\n",
       " '5.49e+02',\n",
       " '5.50e+02',\n",
       " '5.51e+02',\n",
       " '5.52e+02',\n",
       " '5.53e+02',\n",
       " '5.54e+02',\n",
       " '5.55e+02',\n",
       " '5.56e+02',\n",
       " '5.57e+02',\n",
       " '5.58e+02',\n",
       " '5.59e+02',\n",
       " '5.60e+02',\n",
       " '5.61e+02',\n",
       " '5.62e+02',\n",
       " '5.63e+02',\n",
       " '5.64e+02',\n",
       " '5.65e+02',\n",
       " '5.66e+02',\n",
       " '5.67e+02',\n",
       " '5.68e+02',\n",
       " '5.69e+02',\n",
       " '5.70e+02',\n",
       " '5.71e+02',\n",
       " '5.72e+02',\n",
       " '5.73e+02',\n",
       " '5.74e+02',\n",
       " '5.75e+02',\n",
       " '5.76e+02',\n",
       " '5.77e+02',\n",
       " '5.78e+02',\n",
       " '5.79e+02',\n",
       " '5.80e+02',\n",
       " '5.81e+02',\n",
       " '5.82e+02',\n",
       " '5.83e+02',\n",
       " '5.84e+02',\n",
       " '5.85e+02',\n",
       " '5.86e+02',\n",
       " '5.87e+02',\n",
       " '5.88e+02',\n",
       " '5.89e+02',\n",
       " '5.90e+02',\n",
       " '5.91e+02',\n",
       " '5.92e+02',\n",
       " '5.93e+02',\n",
       " '5.94e+02',\n",
       " '5.95e+02',\n",
       " '5.96e+02',\n",
       " '5.97e+02',\n",
       " '5.98e+02',\n",
       " '5.99e+02',\n",
       " '6.00e+02',\n",
       " '6.01e+02',\n",
       " '6.02e+02',\n",
       " '6.03e+02',\n",
       " '6.04e+02',\n",
       " '6.05e+02',\n",
       " '6.06e+02',\n",
       " '6.07e+02',\n",
       " '6.08e+02',\n",
       " '6.09e+02',\n",
       " '6.10e+02',\n",
       " '6.11e+02',\n",
       " '6.12e+02',\n",
       " '6.13e+02',\n",
       " '6.14e+02',\n",
       " '6.15e+02',\n",
       " '6.16e+02',\n",
       " '6.17e+02',\n",
       " '6.18e+02',\n",
       " '6.19e+02',\n",
       " '6.20e+02',\n",
       " '6.21e+02',\n",
       " '6.22e+02',\n",
       " '6.23e+02',\n",
       " '6.24e+02',\n",
       " '6.25e+02',\n",
       " '6.26e+02',\n",
       " '6.27e+02',\n",
       " '6.28e+02',\n",
       " '6.29e+02',\n",
       " '6.30e+02',\n",
       " '6.31e+02',\n",
       " '6.32e+02',\n",
       " '6.33e+02',\n",
       " '6.34e+02',\n",
       " '6.35e+02',\n",
       " '6.36e+02',\n",
       " '6.37e+02',\n",
       " '6.38e+02',\n",
       " '6.39e+02',\n",
       " '6.40e+02',\n",
       " '6.41e+02',\n",
       " '6.42e+02',\n",
       " '6.43e+02',\n",
       " '6.44e+02',\n",
       " '6.45e+02',\n",
       " '6.46e+02',\n",
       " '6.47e+02',\n",
       " '6.48e+02',\n",
       " '6.49e+02',\n",
       " '6.50e+02',\n",
       " '6.51e+02',\n",
       " '6.52e+02',\n",
       " '6.53e+02',\n",
       " '6.54e+02',\n",
       " '6.55e+02',\n",
       " '6.56e+02',\n",
       " '6.57e+02',\n",
       " '6.58e+02',\n",
       " '6.59e+02',\n",
       " '6.60e+02',\n",
       " '6.61e+02',\n",
       " '6.62e+02',\n",
       " '6.63e+02',\n",
       " '6.64e+02',\n",
       " '6.65e+02',\n",
       " '6.66e+02',\n",
       " '6.67e+02',\n",
       " '6.68e+02',\n",
       " '6.69e+02',\n",
       " '6.70e+02',\n",
       " '6.71e+02',\n",
       " '6.72e+02',\n",
       " '6.73e+02',\n",
       " '6.74e+02',\n",
       " '6.75e+02',\n",
       " '6.76e+02',\n",
       " '6.77e+02',\n",
       " '6.78e+02',\n",
       " '6.79e+02',\n",
       " '6.80e+02',\n",
       " '6.81e+02',\n",
       " '6.82e+02',\n",
       " '6.83e+02',\n",
       " '6.84e+02',\n",
       " '6.85e+02',\n",
       " '6.86e+02',\n",
       " '6.87e+02',\n",
       " '6.88e+02',\n",
       " '6.89e+02',\n",
       " '6.90e+02',\n",
       " '6.91e+02',\n",
       " '6.92e+02',\n",
       " '6.93e+02',\n",
       " '6.94e+02',\n",
       " '6.95e+02',\n",
       " '6.96e+02',\n",
       " '6.97e+02',\n",
       " '6.98e+02',\n",
       " '6.99e+02',\n",
       " '7.00e+02',\n",
       " '7.01e+02',\n",
       " '7.02e+02',\n",
       " '7.03e+02',\n",
       " '7.04e+02',\n",
       " '7.05e+02',\n",
       " '7.06e+02',\n",
       " '7.07e+02',\n",
       " '7.08e+02',\n",
       " '7.09e+02',\n",
       " '7.10e+02',\n",
       " '7.11e+02',\n",
       " '7.12e+02',\n",
       " '7.13e+02',\n",
       " '7.14e+02',\n",
       " '7.15e+02',\n",
       " '7.16e+02',\n",
       " '7.17e+02',\n",
       " '7.18e+02',\n",
       " '7.19e+02',\n",
       " '7.20e+02',\n",
       " '7.21e+02',\n",
       " '7.22e+02',\n",
       " '7.23e+02',\n",
       " '7.24e+02',\n",
       " '7.25e+02',\n",
       " '7.26e+02',\n",
       " '7.27e+02',\n",
       " '7.28e+02',\n",
       " '7.29e+02',\n",
       " '7.30e+02',\n",
       " '7.31e+02',\n",
       " '7.32e+02',\n",
       " '7.33e+02',\n",
       " '7.34e+02',\n",
       " '7.35e+02',\n",
       " '7.36e+02',\n",
       " '7.37e+02',\n",
       " '7.38e+02',\n",
       " '7.39e+02',\n",
       " '7.40e+02',\n",
       " '7.41e+02',\n",
       " '7.42e+02',\n",
       " '7.43e+02',\n",
       " '7.44e+02',\n",
       " '7.45e+02',\n",
       " '7.46e+02',\n",
       " '7.47e+02',\n",
       " '7.48e+02',\n",
       " '7.49e+02',\n",
       " '7.50e+02',\n",
       " '7.51e+02',\n",
       " '7.52e+02',\n",
       " '7.53e+02',\n",
       " '7.54e+02',\n",
       " '7.55e+02',\n",
       " '7.56e+02',\n",
       " '7.57e+02',\n",
       " '7.58e+02',\n",
       " '7.59e+02',\n",
       " '7.60e+02',\n",
       " '7.61e+02',\n",
       " '7.62e+02',\n",
       " '7.63e+02',\n",
       " '7.64e+02',\n",
       " '7.65e+02',\n",
       " '7.66e+02',\n",
       " '7.67e+02',\n",
       " '7.68e+02',\n",
       " '7.69e+02',\n",
       " '7.70e+02',\n",
       " '7.71e+02',\n",
       " '7.72e+02',\n",
       " '7.73e+02',\n",
       " '7.74e+02',\n",
       " '7.75e+02',\n",
       " '7.76e+02',\n",
       " '7.77e+02',\n",
       " '7.78e+02',\n",
       " '7.79e+02',\n",
       " '7.80e+02',\n",
       " '7.81e+02',\n",
       " '7.82e+02',\n",
       " '7.83e+02',\n",
       " '7.84e+02',\n",
       " '7.85e+02',\n",
       " '7.86e+02',\n",
       " '7.87e+02',\n",
       " '7.88e+02',\n",
       " '7.89e+02',\n",
       " '7.90e+02',\n",
       " '7.91e+02',\n",
       " '7.92e+02',\n",
       " '7.93e+02',\n",
       " '7.94e+02',\n",
       " '7.95e+02',\n",
       " '7.96e+02',\n",
       " '7.97e+02',\n",
       " '7.98e+02',\n",
       " '7.99e+02',\n",
       " '8.00e+02',\n",
       " '8.01e+02',\n",
       " '8.02e+02',\n",
       " '8.03e+02',\n",
       " '8.04e+02',\n",
       " '8.05e+02',\n",
       " '8.06e+02',\n",
       " '8.07e+02',\n",
       " '8.08e+02',\n",
       " '8.09e+02',\n",
       " '8.10e+02',\n",
       " '8.11e+02',\n",
       " '8.12e+02',\n",
       " '8.13e+02',\n",
       " '8.14e+02',\n",
       " '8.15e+02',\n",
       " '8.16e+02',\n",
       " '8.17e+02',\n",
       " '8.18e+02',\n",
       " '8.19e+02',\n",
       " '8.20e+02',\n",
       " '8.21e+02',\n",
       " '8.22e+02',\n",
       " '8.23e+02',\n",
       " '8.24e+02',\n",
       " '8.25e+02',\n",
       " '8.26e+02',\n",
       " '8.27e+02',\n",
       " '8.28e+02',\n",
       " '8.29e+02',\n",
       " '8.30e+02',\n",
       " '8.31e+02',\n",
       " '8.32e+02',\n",
       " '8.33e+02',\n",
       " '8.34e+02',\n",
       " '8.35e+02',\n",
       " '8.36e+02',\n",
       " '8.37e+02',\n",
       " '8.38e+02',\n",
       " '8.39e+02',\n",
       " '8.40e+02',\n",
       " '8.41e+02',\n",
       " '8.42e+02',\n",
       " '8.43e+02',\n",
       " '8.44e+02',\n",
       " '8.45e+02',\n",
       " '8.46e+02',\n",
       " '8.47e+02',\n",
       " '8.48e+02',\n",
       " '8.49e+02',\n",
       " '8.50e+02',\n",
       " '8.51e+02',\n",
       " '8.52e+02',\n",
       " '8.53e+02',\n",
       " '8.54e+02',\n",
       " '8.55e+02',\n",
       " '8.56e+02',\n",
       " '8.57e+02',\n",
       " '8.58e+02',\n",
       " '8.59e+02',\n",
       " '8.60e+02',\n",
       " '8.61e+02',\n",
       " '8.62e+02',\n",
       " '8.63e+02',\n",
       " '8.64e+02',\n",
       " '8.65e+02',\n",
       " '8.66e+02',\n",
       " '8.67e+02',\n",
       " '8.68e+02',\n",
       " '8.69e+02',\n",
       " '8.70e+02',\n",
       " '8.71e+02',\n",
       " '8.72e+02',\n",
       " '8.73e+02',\n",
       " '8.74e+02',\n",
       " '8.75e+02',\n",
       " '8.76e+02',\n",
       " '8.77e+02',\n",
       " '8.78e+02',\n",
       " '8.79e+02',\n",
       " '8.80e+02',\n",
       " '8.81e+02',\n",
       " '8.82e+02',\n",
       " '8.83e+02',\n",
       " '8.84e+02',\n",
       " '8.85e+02',\n",
       " '8.86e+02',\n",
       " '8.87e+02',\n",
       " '8.88e+02',\n",
       " '8.89e+02',\n",
       " '8.90e+02',\n",
       " '8.91e+02',\n",
       " '8.92e+02',\n",
       " '8.93e+02',\n",
       " '8.94e+02',\n",
       " '8.95e+02',\n",
       " '8.96e+02',\n",
       " '8.97e+02',\n",
       " '8.98e+02',\n",
       " '8.99e+02',\n",
       " '9.00e+02',\n",
       " '9.01e+02',\n",
       " '9.02e+02',\n",
       " '9.03e+02',\n",
       " '9.04e+02',\n",
       " '9.05e+02',\n",
       " '9.06e+02',\n",
       " '9.07e+02',\n",
       " '9.08e+02',\n",
       " '9.09e+02',\n",
       " '9.10e+02',\n",
       " '9.11e+02',\n",
       " '9.12e+02',\n",
       " '9.13e+02',\n",
       " '9.14e+02',\n",
       " '9.15e+02',\n",
       " '9.16e+02',\n",
       " '9.17e+02',\n",
       " '9.18e+02',\n",
       " '9.19e+02',\n",
       " '9.20e+02',\n",
       " '9.21e+02',\n",
       " '9.22e+02',\n",
       " '9.23e+02',\n",
       " '9.24e+02',\n",
       " '9.25e+02',\n",
       " '9.26e+02',\n",
       " '9.27e+02',\n",
       " '9.28e+02',\n",
       " '9.29e+02',\n",
       " '9.30e+02',\n",
       " '9.31e+02',\n",
       " '9.32e+02',\n",
       " '9.33e+02',\n",
       " '9.34e+02',\n",
       " '9.35e+02',\n",
       " '9.36e+02',\n",
       " '9.37e+02',\n",
       " '9.38e+02',\n",
       " '9.39e+02',\n",
       " '9.40e+02',\n",
       " '9.41e+02',\n",
       " '9.42e+02',\n",
       " '9.43e+02',\n",
       " '9.44e+02',\n",
       " '9.45e+02',\n",
       " '9.46e+02',\n",
       " '9.47e+02',\n",
       " '9.48e+02',\n",
       " '9.49e+02',\n",
       " '9.50e+02',\n",
       " '9.51e+02',\n",
       " '9.52e+02',\n",
       " '9.53e+02',\n",
       " '9.54e+02',\n",
       " '9.55e+02',\n",
       " '9.56e+02',\n",
       " '9.57e+02',\n",
       " '9.58e+02',\n",
       " '9.59e+02',\n",
       " '9.60e+02',\n",
       " '9.61e+02',\n",
       " '9.62e+02',\n",
       " '9.63e+02',\n",
       " '9.64e+02',\n",
       " '9.65e+02',\n",
       " '9.66e+02',\n",
       " '9.67e+02',\n",
       " '9.68e+02',\n",
       " '9.69e+02',\n",
       " '9.70e+02',\n",
       " '9.71e+02',\n",
       " '9.72e+02',\n",
       " '9.73e+02',\n",
       " '9.74e+02',\n",
       " '9.75e+02',\n",
       " '9.76e+02',\n",
       " '9.77e+02',\n",
       " '9.78e+02',\n",
       " '9.79e+02',\n",
       " '9.80e+02',\n",
       " '9.81e+02',\n",
       " '9.82e+02',\n",
       " '9.83e+02',\n",
       " '9.84e+02',\n",
       " '9.85e+02',\n",
       " '9.86e+02',\n",
       " '9.87e+02',\n",
       " '9.88e+02',\n",
       " '9.89e+02',\n",
       " '9.90e+02',\n",
       " '9.91e+02',\n",
       " '9.92e+02',\n",
       " '9.93e+02',\n",
       " '9.94e+02',\n",
       " '9.95e+02',\n",
       " '9.96e+02',\n",
       " '9.97e+02',\n",
       " '9.98e+02',\n",
       " '9.99e+02',\n",
       " ...]"
      ]
     },
     "execution_count": 90,
     "metadata": {},
     "output_type": "execute_result"
    }
   ],
   "source": [
    "datoteka = open(\"data.txt\", mode=\"r\")\n",
    "\n",
    "seznam_vrstic_n = datoteka.readlines()\n",
    "seznam_vrstic = [i.replace(\"\\n\", \"\") for i in seznam_vrstic_n]\n",
    "seznam_vrstic\n"
   ]
  },
  {
   "cell_type": "code",
   "execution_count": 91,
   "metadata": {},
   "outputs": [],
   "source": [
    "odgovor8 = seznam_vrstic#?"
   ]
  },
  {
   "cell_type": "code",
   "execution_count": 92,
   "metadata": {},
   "outputs": [
    {
     "data": {
      "text/plain": [
       "'Odgovor je pravilen. Povprečje naloge: 0.47'"
      ]
     },
     "execution_count": 92,
     "metadata": {},
     "output_type": "execute_result"
    }
   ],
   "source": [
    "poslji(odgovor8, id=3862385317427, st=8)"
   ]
  },
  {
   "cell_type": "markdown",
   "metadata": {},
   "source": [
    "### 9. vprašanje\n",
    "\n",
    "Funkcija ``file.readlines`` vse vrstice odprte datoteke ``file`` prebere in shrani v seznam! (1: Da, 2: Ne)\n",
    "\n",
    "Število poskusov: 1, enote:   "
   ]
  },
  {
   "cell_type": "code",
   "execution_count": 93,
   "metadata": {},
   "outputs": [],
   "source": [
    "odgovor9 = 1#?"
   ]
  },
  {
   "cell_type": "code",
   "execution_count": 94,
   "metadata": {},
   "outputs": [
    {
     "data": {
      "text/plain": [
       "'Odgovor je pravilen. Povprečje naloge: 0.53'"
      ]
     },
     "execution_count": 94,
     "metadata": {},
     "output_type": "execute_result"
    }
   ],
   "source": [
    "poslji(odgovor9, id=3862385317458, st=9)"
   ]
  },
  {
   "cell_type": "markdown",
   "metadata": {},
   "source": [
    "### 10. vprašanje\n",
    "\n",
    "Izračunajte vsoto vseh števil v tekstovni datoteki 'data.txt'. Rezultat vnesite v obliki števila s plavajočo vejico. (Namig: iz seznama ``seznam_vrstic`` lahko z izpeljevanjem seznamov tvorite seznam števil s plavajočo vejico s funkcijo ``float``. Pri računanju vsote lahko uporabite funkcijo ``sum``).\n",
    "\n",
    "Število poskusov: 3, enote:   "
   ]
  },
  {
   "cell_type": "code",
   "execution_count": 97,
   "metadata": {},
   "outputs": [
    {
     "data": {
      "text/plain": [
       "1249975000.0"
      ]
     },
     "execution_count": 97,
     "metadata": {},
     "output_type": "execute_result"
    }
   ],
   "source": [
    "tabela_float = [float(i) for i in seznam_vrstic]\n",
    "\n",
    "suma = sum(tabela_float)\n",
    "suma"
   ]
  },
  {
   "cell_type": "code",
   "execution_count": null,
   "metadata": {},
   "outputs": [],
   "source": []
  },
  {
   "cell_type": "code",
   "execution_count": 98,
   "metadata": {},
   "outputs": [],
   "source": [
    "\n",
    "\n",
    "odgovor10 = suma#?"
   ]
  },
  {
   "cell_type": "code",
   "execution_count": 99,
   "metadata": {},
   "outputs": [
    {
     "data": {
      "text/plain": [
       "'Odgovor je pravilen. Povprečje naloge: 0.59'"
      ]
     },
     "execution_count": 99,
     "metadata": {},
     "output_type": "execute_result"
    }
   ],
   "source": [
    "poslji(odgovor10, id=3862385317448, st=10)"
   ]
  },
  {
   "cell_type": "markdown",
   "metadata": {},
   "source": [
    "### 11. vprašanje\n",
    "\n",
    "Preberite vsebino priložene datoteke 'zapis_labview.lvm'. Iz vrstic $a$, $b$ in $c$ izbrišite tabulator in znak '\\n' in jih shranite v seznam nizov. Tega posredujte kot odgovor.\n",
    "\n",
    "\n",
    "Število poskusov: 3, enote:   "
   ]
  },
  {
   "cell_type": "code",
   "execution_count": 121,
   "metadata": {
    "scrolled": false
   },
   "outputs": [
    {
     "name": "stdout",
     "output_type": "stream",
     "text": [
      "['LabVIEW Measurement\\t\\n', 'Writer_Version\\t2\\n', 'Reader_Version\\t2\\n', 'Separator\\tTab\\n', 'Decimal_Separator\\t,\\n', 'Multi_Headings\\tYes\\n', 'X_Columns\\tNo\\n', 'Time_Pref\\tAbsolute\\n', 'Operator\\tJS\\n', 'Date\\t2013/02/19\\n', 'Time\\t09:51:39,1970510124996275989\\n', '***End_of_Header***\\t\\n', '\\t\\n', 'Channels\\t2\\t\\t\\n', 'Samples\\t10\\t10\\t\\n', 'Date\\t2013/02/19\\t2013/02/19\\t\\n', 'Time\\t09:51:40,7271890640258789063\\t09:51:40,7271890640258789063\\t\\n', 'Y_Unit_Label\\tNewtons\\tm/s^2\\t\\n', 'X_Dimension\\tTime\\tTime\\t\\n', 'X0\\t0,0000000000000000E+0\\t0,0000000000000000E+0\\t\\n', 'Delta_X\\t3,906250E-5\\t3,906250E-5\\t\\n', '***End_of_Header***\\t\\t\\t\\n', 'X_Value\\tVzbujanje (Trigger)\\tOdziv1 (Trigger)\\tComment\\n', '\\t0,914018\\t1,204792\\n', '\\t0,537321\\t1,208403\\n', '\\t0,616905\\t1,213915\\n', '\\t0,895449\\t1,212205\\n', '\\t0,574460\\t1,222088\\n', '\\t0,516099\\t1,218223\\n', '\\t1,046658\\t1,213408\\n', '\\t0,394070\\t1,221011\\n', '\\t0,741586\\t1,211888\\n', '\\t0,680572\\t1,212775\\n']\n"
     ]
    },
    {
     "data": {
      "text/plain": [
       "['Time_PrefAbsolute', 'Channels2', '0,8954491,212205']"
      ]
     },
     "execution_count": 121,
     "metadata": {},
     "output_type": "execute_result"
    }
   ],
   "source": [
    "a = 7 # \n",
    "b = 13 # \n",
    "c = 26 # \n",
    "l = 5308.66 # mm\n",
    "\n",
    "zapis = open(\"zapis_labview.lvm\", mode=\"r\")\n",
    "\n",
    "zapis_vrstice = zapis.readlines()\n",
    "print(zapis_vrstice)\n",
    "\n",
    "brez = []\n",
    "\n",
    "for i in range(0, len(zapis_vrstice)):\n",
    "    if(i == a or i == b or i == c):\n",
    "        temp = zapis_vrstice[i].replace(\"\\n\", \"\")\n",
    "        brez.append(temp.replace(\"\\t\", \"\"))\n",
    "        \n",
    "        \n",
    "(brez)\n",
    "        "
   ]
  },
  {
   "cell_type": "code",
   "execution_count": null,
   "metadata": {},
   "outputs": [],
   "source": []
  },
  {
   "cell_type": "code",
   "execution_count": 114,
   "metadata": {},
   "outputs": [
    {
     "data": {
      "text/plain": [
       "['Time_PrefAbsolute', 'Channels2', '0,8954491,212205']"
      ]
     },
     "execution_count": 114,
     "metadata": {},
     "output_type": "execute_result"
    }
   ],
   "source": [
    "odgovor11 = brez#?\n",
    "odgovor11\n"
   ]
  },
  {
   "cell_type": "code",
   "execution_count": 115,
   "metadata": {},
   "outputs": [
    {
     "data": {
      "text/plain": [
       "'Odgovor je pravilen. Povprečje naloge: 0.65'"
      ]
     },
     "execution_count": 115,
     "metadata": {},
     "output_type": "execute_result"
    }
   ],
   "source": [
    "poslji(odgovor11, id=3862385317491, st=11)"
   ]
  },
  {
   "cell_type": "markdown",
   "metadata": {},
   "source": [
    "### 12. vprašanje\n",
    "\n",
    "Za vse informacije o meritvi, zapisane v glavi datoteke 'zapis_labview.lvm' (vrstice od 1 do vključno 10), pripravite slovar parov {'ključ': 'vrednost'}. Pare ('ključ', 'vrednost') pripravite z ločitvijo prebrane vrstice na mestu znaka '\\t', po vzoru prejšnje naloge. Vnesite po abecednem vrstnem redu urejen seznam ključev pripravljenega seznama. (Namig: uporabite funckijo ``sorted``.)\n",
    "\n",
    "Število poskusov: 3, enote:   "
   ]
  },
  {
   "cell_type": "code",
   "execution_count": 123,
   "metadata": {},
   "outputs": [
    {
     "data": {
      "text/plain": [
       "['Reader_Version', '2\\n']"
      ]
     },
     "execution_count": 123,
     "metadata": {},
     "output_type": "execute_result"
    }
   ],
   "source": [
    "a = \"Reader_Version\\t2\\n\"\n",
    "\n",
    "a.split(\"\\t\")"
   ]
  },
  {
   "cell_type": "code",
   "execution_count": 136,
   "metadata": {},
   "outputs": [
    {
     "name": "stdout",
     "output_type": "stream",
     "text": [
      "{'Writer_Version': '2', 'Reader_Version': '2', 'Separator': 'Tab', 'Decimal_Separator': ',', 'Multi_Headings': 'Yes', 'X_Columns': 'No', 'Time_Pref': 'Absolute', 'Operator': 'JS', 'Date': '2013/02/19', 'Time': '09:51:39,1970510124996275989'}\n"
     ]
    },
    {
     "data": {
      "text/plain": [
       "['Date',\n",
       " 'Decimal_Separator',\n",
       " 'Multi_Headings',\n",
       " 'Operator',\n",
       " 'Reader_Version',\n",
       " 'Separator',\n",
       " 'Time',\n",
       " 'Time_Pref',\n",
       " 'Writer_Version',\n",
       " 'X_Columns']"
      ]
     },
     "execution_count": 136,
     "metadata": {},
     "output_type": "execute_result"
    }
   ],
   "source": [
    "brez_n = [i.replace(\"\\n\", \"\") for i in zapis_vrstice]\n",
    "\n",
    "slovar = {}\n",
    "\n",
    "\n",
    "for i in range(1, 10 + 1):\n",
    "    kljuc, vrednost = brez_n[i].split(\"\\t\")\n",
    "    slovar[kljuc] = vrednost\n",
    "    \n",
    "print(slovar) \n",
    "\n",
    "kljuci = [i for i in slovar]\n",
    "\n",
    "sorted(kljuci)\n",
    "\n",
    "    \n",
    "\n",
    "    \n",
    "    "
   ]
  },
  {
   "cell_type": "code",
   "execution_count": null,
   "metadata": {},
   "outputs": [],
   "source": []
  },
  {
   "cell_type": "code",
   "execution_count": null,
   "metadata": {},
   "outputs": [],
   "source": []
  },
  {
   "cell_type": "code",
   "execution_count": 133,
   "metadata": {},
   "outputs": [],
   "source": [
    "odgovor12 = sorted(kljuci)"
   ]
  },
  {
   "cell_type": "code",
   "execution_count": 134,
   "metadata": {},
   "outputs": [
    {
     "data": {
      "text/plain": [
       "'Odgovor je pravilen. Povprečje naloge: 0.71'"
      ]
     },
     "execution_count": 134,
     "metadata": {},
     "output_type": "execute_result"
    }
   ],
   "source": [
    "poslji(odgovor12, id=3862385317470, st=12)"
   ]
  },
  {
   "cell_type": "markdown",
   "metadata": {},
   "source": [
    "### 13. vprašanje\n",
    "\n",
    "Z definicijo lastnih funkcij lahko že napisano kodo ponovno uporabimo! (1: Da, 2: Ne)\n",
    "\n",
    "Število poskusov: 1, enote:   "
   ]
  },
  {
   "cell_type": "code",
   "execution_count": 137,
   "metadata": {},
   "outputs": [],
   "source": [
    "odgovor13 = 1#?"
   ]
  },
  {
   "cell_type": "code",
   "execution_count": 138,
   "metadata": {},
   "outputs": [
    {
     "data": {
      "text/plain": [
       "'Odgovor je pravilen. Povprečje naloge: 0.76'"
      ]
     },
     "execution_count": 138,
     "metadata": {},
     "output_type": "execute_result"
    }
   ],
   "source": [
    "poslji(odgovor13, id=3862385317431, st=13)"
   ]
  },
  {
   "cell_type": "markdown",
   "metadata": {},
   "source": [
    "### 14. vprašanje\n",
    "\n",
    "Definirajte funkcijo ``piramida``, ki vrne seznam nizov, ki izpisani eden pod drugim tvorijo piramido (zgledujte se po nalogi zgoraj). Število vrstic ``n`` in ``znak``, ki se izpisuje namesto znaka 'x' iz zgornje naloge, naj bosta argumenta funkcije. Vnesite rezultat klica funkcije z argumentoma (``n``=$a$, ``znak``='o'). $a$ je podatek iz začetka naloge.\n",
    "\n",
    "Število poskusov: 3, enote:   "
   ]
  },
  {
   "cell_type": "code",
   "execution_count": 186,
   "metadata": {},
   "outputs": [],
   "source": [
    "def piramida(n, znak):\n",
    "    \n",
    "    x = znak\n",
    "    piramida = []\n",
    "\n",
    "    for i in range(1, n+1):\n",
    "        piramida.append(f\"{x * (2*i - 1):^{n * 2 - 1}}\")\n",
    "        \n",
    "    return piramida"
   ]
  },
  {
   "cell_type": "code",
   "execution_count": 187,
   "metadata": {},
   "outputs": [
    {
     "data": {
      "text/plain": [
       "['      o      ',\n",
       " '     ooo     ',\n",
       " '    ooooo    ',\n",
       " '   ooooooo   ',\n",
       " '  ooooooooo  ',\n",
       " ' ooooooooooo ',\n",
       " 'ooooooooooooo']"
      ]
     },
     "execution_count": 187,
     "metadata": {},
     "output_type": "execute_result"
    }
   ],
   "source": [
    "a = 7\n",
    "(piramida(a, \"o\"))"
   ]
  },
  {
   "cell_type": "code",
   "execution_count": 188,
   "metadata": {},
   "outputs": [
    {
     "data": {
      "text/plain": [
       "['      o      ',\n",
       " '     ooo     ',\n",
       " '    ooooo    ',\n",
       " '   ooooooo   ',\n",
       " '  ooooooooo  ',\n",
       " ' ooooooooooo ',\n",
       " 'ooooooooooooo']"
      ]
     },
     "execution_count": 188,
     "metadata": {},
     "output_type": "execute_result"
    }
   ],
   "source": [
    "odgovor14 = piramida(a, \"o\")\n",
    "odgovor14"
   ]
  },
  {
   "cell_type": "code",
   "execution_count": 178,
   "metadata": {},
   "outputs": [
    {
     "data": {
      "text/plain": [
       "'Pravilna rešitev že obstaja.'"
      ]
     },
     "execution_count": 178,
     "metadata": {},
     "output_type": "execute_result"
    }
   ],
   "source": [
    "poslji(odgovor14, id=3862385317470, st=14)"
   ]
  },
  {
   "cell_type": "markdown",
   "metadata": {},
   "source": [
    "### 15. vprašanje\n",
    "\n",
    "Funkcijo ``piramida`` nadgradite tako, da bo sprožila izjemo ``Exception`` z ustreznim opisom, če bo argument ``n`` manjši od 1 ali večji od $c$. Vnesite rezultat klica funkcije ``piramida`` z argumentoma (``n``=$a$, ``znak``='-').\n",
    "\n",
    "Število poskusov: 3, enote:   "
   ]
  },
  {
   "cell_type": "code",
   "execution_count": 266,
   "metadata": {},
   "outputs": [],
   "source": [
    "def piramida(n, znak):\n",
    "    try:\n",
    "        if(n < 1 or n > c): raise Exception(\"Število vrstic ne sme biti večje od c ali manjše od 1\")\n",
    "        x = znak\n",
    "        piramida = []\n",
    "\n",
    "        for i in range(1, n+1):\n",
    "            piramida.append(f\"{x * (2*i - 1):^{n * 2 - 1}}\")\n",
    "\n",
    "        return piramida\n",
    "\n",
    "    except Exception as izjema:\n",
    "        return(Exception)"
   ]
  },
  {
   "cell_type": "code",
   "execution_count": 267,
   "metadata": {},
   "outputs": [
    {
     "data": {
      "text/plain": [
       "Exception"
      ]
     },
     "execution_count": 267,
     "metadata": {},
     "output_type": "execute_result"
    }
   ],
   "source": [
    "piramida(0, \"-\")"
   ]
  },
  {
   "cell_type": "code",
   "execution_count": 209,
   "metadata": {},
   "outputs": [],
   "source": [
    "odgovor15 = piramida(a, \"-\")"
   ]
  },
  {
   "cell_type": "code",
   "execution_count": 210,
   "metadata": {},
   "outputs": [
    {
     "data": {
      "text/plain": [
       "'Odgovor je pravilen. Povprečje naloge: 0.88'"
      ]
     },
     "execution_count": 210,
     "metadata": {},
     "output_type": "execute_result"
    }
   ],
   "source": [
    "poslji(odgovor15, id=3862385317495, st=15)"
   ]
  },
  {
   "cell_type": "markdown",
   "metadata": {},
   "source": [
    "### 16. vprašanje\n",
    "\n",
    "Napišite novo funkcijo ``klicanje_piramide``, ki sprejme argumenta ``n`` in ``znak``, z njima kliče funkcijo ``piramida`` in lovi izjeme. Če argumenta ``znak`` ne podate, naj bo uporabljen privzeti znak, 'x'. Kadar ``klicanje_piramide`` naleti na izjemo, naj vrne rezultat klica funkcije ``piramida`` z argumentoma (``n``=1, ``znak``='!'). Vnesite rezultat  klica ``klicanje_piramide(-1)``.\n",
    "\n",
    "Število poskusov: 3, enote:   "
   ]
  },
  {
   "cell_type": "code",
   "execution_count": 270,
   "metadata": {},
   "outputs": [],
   "source": [
    "def klicanje_piramide(n, znak = \"x\"):\n",
    "    try: \n",
    "        if(n < 1 or n > c): raise Exception\n",
    "        return(piramida(n, znak))\n",
    "    except: return(piramida(1, \"!\"))\n"
   ]
  },
  {
   "cell_type": "code",
   "execution_count": 271,
   "metadata": {},
   "outputs": [
    {
     "data": {
      "text/plain": [
       "['!']"
      ]
     },
     "execution_count": 271,
     "metadata": {},
     "output_type": "execute_result"
    }
   ],
   "source": [
    "klicanje_piramide(-1)"
   ]
  },
  {
   "cell_type": "code",
   "execution_count": null,
   "metadata": {},
   "outputs": [],
   "source": []
  },
  {
   "cell_type": "code",
   "execution_count": 272,
   "metadata": {},
   "outputs": [],
   "source": [
    "odgovor16 = klicanje_piramide(-1)#?"
   ]
  },
  {
   "cell_type": "code",
   "execution_count": 273,
   "metadata": {},
   "outputs": [
    {
     "data": {
      "text/plain": [
       "'Odgovor je pravilen. Povprečje naloge: 0.94'"
      ]
     },
     "execution_count": 273,
     "metadata": {},
     "output_type": "execute_result"
    }
   ],
   "source": [
    "poslji(odgovor16, id=3862385317462, st=16)"
   ]
  },
  {
   "cell_type": "markdown",
   "metadata": {},
   "source": [
    "### 17. vprašanje\n",
    "\n",
    "Če direktorij vsebuje datoteko '\\_\\_init\\_\\_.py', lahko poljubno datoteko s končnico .py uvozimo kot modul z ukazom ``import``! (1: Da, 2: Ne)\n",
    "\n",
    "Število poskusov: 1, enote:   "
   ]
  },
  {
   "cell_type": "code",
   "execution_count": 274,
   "metadata": {},
   "outputs": [],
   "source": [
    "odgovor17 = 1#?"
   ]
  },
  {
   "cell_type": "code",
   "execution_count": 275,
   "metadata": {},
   "outputs": [
    {
     "data": {
      "text/plain": [
       "'Odgovor je pravilen. Povprečje naloge: 1.00'"
      ]
     },
     "execution_count": 275,
     "metadata": {},
     "output_type": "execute_result"
    }
   ],
   "source": [
    "poslji(odgovor17, id=3862385317451, st=17)"
   ]
  },
  {
   "cell_type": "code",
   "execution_count": null,
   "metadata": {},
   "outputs": [],
   "source": []
  }
 ],
 "metadata": {
  "kernelspec": {
   "display_name": "Python 3",
   "language": "python",
   "name": "python3"
  },
  "language_info": {
   "codemirror_mode": {
    "name": "ipython",
    "version": 3
   },
   "file_extension": ".py",
   "mimetype": "text/x-python",
   "name": "python",
   "nbconvert_exporter": "python",
   "pygments_lexer": "ipython3",
   "version": "3.7.2"
  }
 },
 "nbformat": 4,
 "nbformat_minor": 1
}
