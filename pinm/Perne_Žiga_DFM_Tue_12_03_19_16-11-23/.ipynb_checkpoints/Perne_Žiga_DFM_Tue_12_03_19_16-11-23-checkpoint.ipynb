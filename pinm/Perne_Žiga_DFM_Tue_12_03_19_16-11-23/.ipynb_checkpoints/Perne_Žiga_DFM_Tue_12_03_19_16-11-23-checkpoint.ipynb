{
 "cells": [
  {
   "cell_type": "code",
   "execution_count": 1,
   "metadata": {},
   "outputs": [
    {
     "name": "stdout",
     "output_type": "stream",
     "text": [
      "Downloading file: mojladisksi.py\n",
      "Downloading file: data.txt\n",
      "Downloading file: zapis_labview.lvm\n"
     ]
    }
   ],
   "source": [
    "from sync import sync\n",
    "sync('/moj.ladisk.si/mojladisksi.py')\n",
    "from mojladisksi import poslji\n",
    "import numpy as np\n",
    "sync('/moj.ladisk.si/data.txt')\n",
    "sync('/moj.ladisk.si/zapis_labview.lvm')"
   ]
  },
  {
   "cell_type": "markdown",
   "metadata": {},
   "source": [
    "# DFM\n",
    "\n",
    "Perne Žiga, 23170029, ziga.perne@gmail.com\n",
    "\n",
    "Pričetek reševanja: Tue, 12. March 2019, 16:10:49"
   ]
  },
  {
   "cell_type": "markdown",
   "metadata": {},
   "source": [
    "Ponovitev bistvenih korakov predavanja Print, delo z datotekami, funkcije, moduli https://github.com/jankoslavic/pypinm. Priložene datoteke, potrebne za reševanje nalog, se nahajajo tudi na: https://github.com/jankoslavic/pypinm/tree/master/moj.ladisk.si"
   ]
  },
  {
   "cell_type": "markdown",
   "metadata": {},
   "source": [
    "<img width=500 src='Perne_Žiga_DFM_Tue_12_03_19_16-11-23.png'>"
   ]
  },
  {
   "cell_type": "code",
   "execution_count": null,
   "metadata": {},
   "outputs": [],
   "source": [
    "a = 7 # \n",
    "b = 13 # \n",
    "c = 26 # \n",
    "l = 5308.66 # mm"
   ]
  },
  {
   "cell_type": "markdown",
   "metadata": {},
   "source": [
    "### 1. vprašanje\n",
    "\n",
    "Z uporabo f-nizov ali funkcije ``format`` pri formatiranju nizov določimo obliko zapisa podanih argumentov! (1: Da, 2: Ne)\n",
    "\n",
    "Število poskusov: 1, enote:   "
   ]
  },
  {
   "cell_type": "code",
   "execution_count": 2,
   "metadata": {},
   "outputs": [],
   "source": [
    "odgovor1 = 1#?"
   ]
  },
  {
   "cell_type": "code",
   "execution_count": 3,
   "metadata": {},
   "outputs": [
    {
     "data": {
      "text/plain": [
       "'Odgovor je pravilen. Povprečje naloge: 0.06'"
      ]
     },
     "execution_count": 3,
     "metadata": {},
     "output_type": "execute_result"
    }
   ],
   "source": [
    "poslji(odgovor1, id=3862385317433, st=1)"
   ]
  },
  {
   "cell_type": "markdown",
   "metadata": {},
   "source": [
    "### 2. vprašanje\n",
    "\n",
    "Funkcija ``print`` izpiše znak '\\n' znotraj niza kot prehod v novo vrstico! (1: Da, 2: Ne)\n",
    "\n",
    "Število poskusov: 1, enote:   "
   ]
  },
  {
   "cell_type": "code",
   "execution_count": null,
   "metadata": {},
   "outputs": [],
   "source": [
    "odgovor2 = #?"
   ]
  },
  {
   "cell_type": "code",
   "execution_count": null,
   "metadata": {},
   "outputs": [],
   "source": [
    "poslji(odgovor2, id=3862385317416, st=2)"
   ]
  },
  {
   "cell_type": "markdown",
   "metadata": {},
   "source": [
    "### 3. vprašanje\n",
    "\n",
    "Z uporabo f-nizov pripravite niz, ki  ga funkcija ``print`` izpiše v obliki 'l = $l$ enota'. Pri tem $l$ nadomestite z vrednostjo iz podatkov naloge, 'enota' pa z ustrezno enoto. (primer: 'l = 1 mm'). $l$ naj bo zapisan v centimetrih in predstavljen z eksponentom. Ne pozabite na pretvorbo enot! Pri izpisu $l$ uporabite minimalno skupno širino izpisa $b$ `` // `` $2$ in $a$ ``// `` $2$ decimalnh mest.\n",
    "\n",
    "Število poskusov: 3, enote:   "
   ]
  },
  {
   "cell_type": "code",
   "execution_count": null,
   "metadata": {},
   "outputs": [],
   "source": [
    "odgovor3 = #?"
   ]
  },
  {
   "cell_type": "code",
   "execution_count": null,
   "metadata": {},
   "outputs": [],
   "source": [
    "poslji(odgovor3, id=3862385317444, st=3)"
   ]
  },
  {
   "cell_type": "markdown",
   "metadata": {},
   "source": [
    "### 4. vprašanje\n",
    "\n",
    "Z uporabo f-nizov pripravite seznam nizov, ki izpisani eden pod drugim s funkcijo ``print`` oblikujejo simetrično piramido znakov 'x' z $b$ vrsticami. Vsaka naslednja vrstica naj ima dva dodatna sredinsko poravnana znaka 'x'. Prazen prostor naj predstavljajo prazni znaki (' '). Primer za $b = 2$: [' x ', 'xxx']. (Namig: uporabite sredinsko poravnavo. Skupno število znakov v eni vrstici je $2b-1$, število znakov 'x' v vrstici ``i`` pa $2i-1$).\n",
    "\n",
    "Število poskusov: 3, enote:   "
   ]
  },
  {
   "cell_type": "code",
   "execution_count": null,
   "metadata": {},
   "outputs": [],
   "source": [
    "odgovor4 = #?"
   ]
  },
  {
   "cell_type": "code",
   "execution_count": null,
   "metadata": {},
   "outputs": [],
   "source": [
    "poslji(odgovor4, id=3862385317441, st=4)"
   ]
  },
  {
   "cell_type": "markdown",
   "metadata": {},
   "source": [
    "### 5. vprašanje\n",
    "\n",
    "Funkcija ``open`` v načinu (``mode``) 'r+' odpre datoteko samo za branje! (1: Da, 2: Ne)\n",
    "\n",
    "Število poskusov: 1, enote:   "
   ]
  },
  {
   "cell_type": "code",
   "execution_count": null,
   "metadata": {},
   "outputs": [],
   "source": [
    "odgovor5 = #?"
   ]
  },
  {
   "cell_type": "code",
   "execution_count": null,
   "metadata": {},
   "outputs": [],
   "source": [
    "poslji(odgovor5, id=3862385317480, st=5)"
   ]
  },
  {
   "cell_type": "markdown",
   "metadata": {},
   "source": [
    "### 6. vprašanje\n",
    "\n",
    "Pri uporabi funkcije ``open`` in stavka ``with``, se odprta datoteka po branju samodejno zapre! (1: Da, 2: Ne)\n",
    "\n",
    "Število poskusov: 1, enote:   "
   ]
  },
  {
   "cell_type": "code",
   "execution_count": null,
   "metadata": {},
   "outputs": [],
   "source": [
    "odgovor6 = #?"
   ]
  },
  {
   "cell_type": "code",
   "execution_count": null,
   "metadata": {},
   "outputs": [],
   "source": [
    "poslji(odgovor6, id=3862385317442, st=6)"
   ]
  },
  {
   "cell_type": "markdown",
   "metadata": {},
   "source": [
    "### 7. vprašanje\n",
    "\n",
    "Z izpeljevanjem seznamov lahko tvorimo nov seznam z uporabo elementov že obstoječega seznama, množice, terke ali slovarja! (1: Da, 2: Ne)\n",
    "\n",
    "Število poskusov: 1, enote:   "
   ]
  },
  {
   "cell_type": "code",
   "execution_count": null,
   "metadata": {},
   "outputs": [],
   "source": [
    "odgovor7 = #?"
   ]
  },
  {
   "cell_type": "code",
   "execution_count": null,
   "metadata": {},
   "outputs": [],
   "source": [
    "poslji(odgovor7, id=3862385317474, st=7)"
   ]
  },
  {
   "cell_type": "markdown",
   "metadata": {},
   "source": [
    "### 8. vprašanje\n",
    "\n",
    "Preberite vsebino priložene datoteke 'data.txt', iz konca vsake posamezne vrstice odstranite znak '\\n' ter vse posamezne vrstice shranite v seznam ``seznam_vrstic``. Uporabite izpeljevanje seznamov! Dobljen seznam vrstic posredujte kot odgovor. (Namig: uporabite funkcijo ``file.readlines``. Pomagate si lahko tudi s funkcijo ``str.rstrip``).\n",
    "\n",
    "Število poskusov: 3, enote:   "
   ]
  },
  {
   "cell_type": "code",
   "execution_count": null,
   "metadata": {},
   "outputs": [],
   "source": [
    "odgovor8 = #?"
   ]
  },
  {
   "cell_type": "code",
   "execution_count": null,
   "metadata": {},
   "outputs": [],
   "source": [
    "poslji(odgovor8, id=3862385317427, st=8)"
   ]
  },
  {
   "cell_type": "markdown",
   "metadata": {},
   "source": [
    "### 9. vprašanje\n",
    "\n",
    "Funkcija ``file.readlines`` vse vrstice odprte datoteke ``file`` prebere in shrani v seznam! (1: Da, 2: Ne)\n",
    "\n",
    "Število poskusov: 1, enote:   "
   ]
  },
  {
   "cell_type": "code",
   "execution_count": null,
   "metadata": {},
   "outputs": [],
   "source": [
    "odgovor9 = #?"
   ]
  },
  {
   "cell_type": "code",
   "execution_count": null,
   "metadata": {},
   "outputs": [],
   "source": [
    "poslji(odgovor9, id=3862385317458, st=9)"
   ]
  },
  {
   "cell_type": "markdown",
   "metadata": {},
   "source": [
    "### 10. vprašanje\n",
    "\n",
    "Izračunajte vsoto vseh števil v tekstovni datoteki 'data.txt'. Rezultat vnesite v obliki števila s plavajočo vejico. (Namig: iz seznama ``seznam_vrstic`` lahko z izpeljevanjem seznamov tvorite seznam števil s plavajočo vejico s funkcijo ``float``. Pri računanju vsote lahko uporabite funkcijo ``sum``).\n",
    "\n",
    "Število poskusov: 3, enote:   "
   ]
  },
  {
   "cell_type": "code",
   "execution_count": null,
   "metadata": {},
   "outputs": [],
   "source": [
    "odgovor10 = #?"
   ]
  },
  {
   "cell_type": "code",
   "execution_count": null,
   "metadata": {},
   "outputs": [],
   "source": [
    "poslji(odgovor10, id=3862385317448, st=10)"
   ]
  },
  {
   "cell_type": "markdown",
   "metadata": {},
   "source": [
    "### 11. vprašanje\n",
    "\n",
    "Preberite vsebino priložene datoteke 'zapis_labview.lvm'. Iz vrstic $a$, $b$ in $c$ izbrišite tabulator in znak '\\n' in jih shranite v seznam nizov. Tega posredujte kot odgovor.\n",
    "\n",
    "Število poskusov: 3, enote:   "
   ]
  },
  {
   "cell_type": "code",
   "execution_count": null,
   "metadata": {},
   "outputs": [],
   "source": [
    "odgovor11 = #?"
   ]
  },
  {
   "cell_type": "code",
   "execution_count": null,
   "metadata": {},
   "outputs": [],
   "source": [
    "poslji(odgovor11, id=3862385317491, st=11)"
   ]
  },
  {
   "cell_type": "markdown",
   "metadata": {},
   "source": [
    "### 12. vprašanje\n",
    "\n",
    "Za vse informacije o meritvi, zapisane v glavi datoteke 'zapis_labview.lvm' (vrstice od 1 do vključno 10), pripravite slovar parov {'ključ': 'vrednost'}. Pare ('ključ', 'vrednost') pripravite z ločitvijo prebrane vrstice na mestu znaka '\\t', po vzoru prejšnje naloge. Vnesite po abecednem vrstnem redu urejen seznam ključev pripravljenega seznama. (Namig: uporabite funckijo ``sorted``.)\n",
    "\n",
    "Število poskusov: 3, enote:   "
   ]
  },
  {
   "cell_type": "code",
   "execution_count": null,
   "metadata": {},
   "outputs": [],
   "source": [
    "odgovor12 = #?"
   ]
  },
  {
   "cell_type": "code",
   "execution_count": null,
   "metadata": {},
   "outputs": [],
   "source": [
    "poslji(odgovor12, id=3862385317470, st=12)"
   ]
  },
  {
   "cell_type": "markdown",
   "metadata": {},
   "source": [
    "### 13. vprašanje\n",
    "\n",
    "Z definicijo lastnih funkcij lahko že napisano kodo ponovno uporabimo! (1: Da, 2: Ne)\n",
    "\n",
    "Število poskusov: 1, enote:   "
   ]
  },
  {
   "cell_type": "code",
   "execution_count": null,
   "metadata": {},
   "outputs": [],
   "source": [
    "odgovor13 = #?"
   ]
  },
  {
   "cell_type": "code",
   "execution_count": null,
   "metadata": {},
   "outputs": [],
   "source": [
    "poslji(odgovor13, id=3862385317431, st=13)"
   ]
  },
  {
   "cell_type": "markdown",
   "metadata": {},
   "source": [
    "### 14. vprašanje\n",
    "\n",
    "Definirajte funkcijo ``piramida``, ki vrne seznam nizov, ki izpisani eden pod drugim tvorijo piramido (zgledujte se po nalogi zgoraj). Število vrstic ``n`` in ``znak``, ki se izpisuje namesto znaka 'x' iz zgornje naloge, naj bosta argumenta funkcije. Vnesite rezultat klica funkcije z argumentoma (``n``=$a$, ``znak``='o'). $a$ je podatek iz začetka naloge.\n",
    "\n",
    "Število poskusov: 3, enote:   "
   ]
  },
  {
   "cell_type": "code",
   "execution_count": null,
   "metadata": {},
   "outputs": [],
   "source": [
    "odgovor14 = #?"
   ]
  },
  {
   "cell_type": "code",
   "execution_count": null,
   "metadata": {},
   "outputs": [],
   "source": [
    "poslji(odgovor14, id=3862385317470, st=14)"
   ]
  },
  {
   "cell_type": "markdown",
   "metadata": {},
   "source": [
    "### 15. vprašanje\n",
    "\n",
    "Funkcijo ``piramida`` nadgradite tako, da bo sprožila izjemo ``Exception`` z ustreznim opisom, če bo argument ``n`` manjši od 1 ali večji od $c$. Vnesite rezultat klica funkcije ``piramida`` z argumentoma (``n``=$a$, ``znak``='-').\n",
    "\n",
    "Število poskusov: 3, enote:   "
   ]
  },
  {
   "cell_type": "code",
   "execution_count": null,
   "metadata": {},
   "outputs": [],
   "source": [
    "odgovor15 = #?"
   ]
  },
  {
   "cell_type": "code",
   "execution_count": null,
   "metadata": {},
   "outputs": [],
   "source": [
    "poslji(odgovor15, id=3862385317495, st=15)"
   ]
  },
  {
   "cell_type": "markdown",
   "metadata": {},
   "source": [
    "### 16. vprašanje\n",
    "\n",
    "Napišite novo funkcijo ``klicanje_piramide``, ki sprejme argumenta ``n`` in ``znak``, z njima kliče funkcijo ``piramida`` in lovi izjeme. Če argumenta ``znak`` ne podate, naj bo uporabljen privzeti znak, 'x'. Kadar ``klicanje_piramide`` naleti na izjemo, naj vrne rezultat klica funkcije ``piramida`` z argumentoma (``n``=1, ``znak``='!'). Vnesite rezultat  klica ``klicanje_piramide(-1)``.\n",
    "\n",
    "Število poskusov: 3, enote:   "
   ]
  },
  {
   "cell_type": "code",
   "execution_count": null,
   "metadata": {},
   "outputs": [],
   "source": [
    "odgovor16 = #?"
   ]
  },
  {
   "cell_type": "code",
   "execution_count": null,
   "metadata": {},
   "outputs": [],
   "source": [
    "poslji(odgovor16, id=3862385317462, st=16)"
   ]
  },
  {
   "cell_type": "markdown",
   "metadata": {},
   "source": [
    "### 17. vprašanje\n",
    "\n",
    "Če direktorij vsebuje datoteko '\\_\\_init\\_\\_.py', lahko poljubno datoteko s končnico .py uvozimo kot modul z ukazom ``import``! (1: Da, 2: Ne)\n",
    "\n",
    "Število poskusov: 1, enote:   "
   ]
  },
  {
   "cell_type": "code",
   "execution_count": null,
   "metadata": {},
   "outputs": [],
   "source": [
    "odgovor17 = #?"
   ]
  },
  {
   "cell_type": "code",
   "execution_count": null,
   "metadata": {},
   "outputs": [],
   "source": [
    "poslji(odgovor17, id=3862385317451, st=17)"
   ]
  }
 ],
 "metadata": {
  "kernelspec": {
   "display_name": "Python 3",
   "language": "python",
   "name": "python3"
  },
  "language_info": {
   "codemirror_mode": {
    "name": "ipython",
    "version": 3
   },
   "file_extension": ".py",
   "mimetype": "text/x-python",
   "name": "python",
   "nbconvert_exporter": "python",
   "pygments_lexer": "ipython3",
   "version": "3.7.2"
  }
 },
 "nbformat": 4,
 "nbformat_minor": 1
}
