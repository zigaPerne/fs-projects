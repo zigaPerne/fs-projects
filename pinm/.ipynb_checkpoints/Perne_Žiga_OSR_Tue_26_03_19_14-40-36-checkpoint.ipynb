{
 "cells": [
  {
   "cell_type": "code",
   "execution_count": 106,
   "metadata": {},
   "outputs": [
    {
     "name": "stdout",
     "output_type": "stream",
     "text": [
      "Downloading file: mojladisksi.py\n"
     ]
    }
   ],
   "source": [
    "from sync import sync\n",
    "sync('/moj.ladisk.si/mojladisksi.py')\n",
    "from mojladisksi import poslji\n",
    "import numpy as np\n"
   ]
  },
  {
   "cell_type": "markdown",
   "metadata": {},
   "source": [
    "# OSR\n",
    "\n",
    "Perne Žiga, 23170029, ziga.perne@gmail.com\n",
    "\n",
    "Pričetek reševanja: Tue, 26. March 2019, 14:40:34"
   ]
  },
  {
   "cell_type": "markdown",
   "metadata": {},
   "source": [
    "Ponovitev bistvenih korakov predavanja Objektno programiranje, simbolno računanje, https://github.com/jankoslavic/pypinm."
   ]
  },
  {
   "cell_type": "markdown",
   "metadata": {},
   "source": [
    "<img width=500 src='Perne_Žiga_OSR_Tue_26_03_19_14-40-36.jpeg'>"
   ]
  },
  {
   "cell_type": "code",
   "execution_count": 9,
   "metadata": {},
   "outputs": [],
   "source": [
    "h = 11 #mm\n",
    "L = 22.0 #mm\n",
    "n = 8 #\n",
    "p_0 = 0.8 #rad\n",
    "R = 14 #mm\n",
    "V = 1119.5 #mm$^3$"
   ]
  },
  {
   "cell_type": "markdown",
   "metadata": {},
   "source": [
    "### 1. vprašanje\n",
    "\n",
    "Objektno programiranje temelji na razredih, ki jih definiramo z ukazom ``class``. Objekt, ki ga ustvarimo, je instanca razreda! (1: Da, 2: Ne)\n",
    "\n",
    "Število poskusov: 1, enote:  /"
   ]
  },
  {
   "cell_type": "code",
   "execution_count": 3,
   "metadata": {},
   "outputs": [],
   "source": [
    "odgovor1 = 1#?"
   ]
  },
  {
   "cell_type": "code",
   "execution_count": 4,
   "metadata": {},
   "outputs": [
    {
     "data": {
      "text/plain": [
       "'Odgovor je pravilen. Povprečje naloge: 0.06'"
      ]
     },
     "execution_count": 4,
     "metadata": {},
     "output_type": "execute_result"
    }
   ],
   "source": [
    "poslji(odgovor1, id=9466161466891, st=1)"
   ]
  },
  {
   "cell_type": "markdown",
   "metadata": {},
   "source": [
    "### 2. vprašanje\n",
    "\n",
    "Ko ustvarimo nov objekt, se najprej izvede ``__init__`` metoda (konstruktor) klicanega razreda! (1: Da, 2: Ne)\n",
    "\n",
    "Število poskusov: 1, enote:  /"
   ]
  },
  {
   "cell_type": "code",
   "execution_count": 5,
   "metadata": {},
   "outputs": [],
   "source": [
    "odgovor2 = 1#?"
   ]
  },
  {
   "cell_type": "code",
   "execution_count": 6,
   "metadata": {},
   "outputs": [
    {
     "data": {
      "text/plain": [
       "'Odgovor je pravilen. Povprečje naloge: 0.11'"
      ]
     },
     "execution_count": 6,
     "metadata": {},
     "output_type": "execute_result"
    }
   ],
   "source": [
    "poslji(odgovor2, id=9466161466845, st=2)"
   ]
  },
  {
   "cell_type": "markdown",
   "metadata": {},
   "source": [
    "### 3. vprašanje\n",
    "\n",
    "Spremenljivka ``self``, ki se kot prvi argument posreduje vsaki metodi razreda, je referenca na ustvarjen objekt - instanco razreda! (1: Da, 2: Ne)\n",
    "\n",
    "Število poskusov: 1, enote:  /"
   ]
  },
  {
   "cell_type": "code",
   "execution_count": 7,
   "metadata": {},
   "outputs": [],
   "source": [
    "odgovor3 =1 #?"
   ]
  },
  {
   "cell_type": "code",
   "execution_count": 8,
   "metadata": {},
   "outputs": [
    {
     "data": {
      "text/plain": [
       "'Odgovor je pravilen. Povprečje naloge: 0.17'"
      ]
     },
     "execution_count": 8,
     "metadata": {},
     "output_type": "execute_result"
    }
   ],
   "source": [
    "poslji(odgovor3, id=9466161466899, st=3)"
   ]
  },
  {
   "cell_type": "markdown",
   "metadata": {},
   "source": [
    "### 4. vprašanje\n",
    "\n",
    "Ustvarite razred ``CetrtinaKroga``, ki pri kreiranju instance zahteva dva argumenta, polmer $R$ in debelino $h$. V konstruktorju naj ta dva argumenta shrani v spremenljivki objekta, ``self.polmer`` in ``self.debelina``. Ustvarite objekt ``CetrtinaKroga`` s podatki naloge in vnesite urejen seznam ključev slovarja atributov ustvarjenega objekta (Namig: uporabite``sorted(ime_objekta.__dict__.keys())``.)\n",
    "\n",
    "Število poskusov: 3, enote:  /"
   ]
  },
  {
   "cell_type": "code",
   "execution_count": 373,
   "metadata": {},
   "outputs": [],
   "source": [
    "class CetrtinaKroga:\n",
    "    \n",
    "    def __init__(self, R=1, h=1):\n",
    "        self.polmer = R\n",
    "        self.debelina = h\n",
    "        \n",
    "    def izracunaj_volumen(self):\n",
    "        self.volumen = (self.debelina * np.pi() * self.polmer**2) / 4\n",
    "        return self.volumen"
   ]
  },
  {
   "cell_type": "code",
   "execution_count": 374,
   "metadata": {},
   "outputs": [
    {
     "data": {
      "text/plain": [
       "<__main__.CetrtinaKroga at 0x228d8571898>"
      ]
     },
     "execution_count": 374,
     "metadata": {},
     "output_type": "execute_result"
    }
   ],
   "source": [
    "a = CetrtinaKroga(R, h)\n",
    "a"
   ]
  },
  {
   "cell_type": "code",
   "execution_count": 372,
   "metadata": {},
   "outputs": [
    {
     "data": {
      "text/plain": [
       "['debelina', 'polmer']"
      ]
     },
     "execution_count": 372,
     "metadata": {},
     "output_type": "execute_result"
    }
   ],
   "source": [
    "sorted(a.__dict__.keys())"
   ]
  },
  {
   "cell_type": "code",
   "execution_count": 16,
   "metadata": {},
   "outputs": [
    {
     "ename": "TypeError",
     "evalue": "'int' object is not callable",
     "output_type": "error",
     "traceback": [
      "\u001b[1;31m---------------------------------------------------------------------------\u001b[0m",
      "\u001b[1;31mTypeError\u001b[0m                                 Traceback (most recent call last)",
      "\u001b[1;32m<ipython-input-16-d1fd190eefe4>\u001b[0m in \u001b[0;36m<module>\u001b[1;34m\u001b[0m\n\u001b[1;32m----> 1\u001b[1;33m \u001b[0ma\u001b[0m\u001b[1;33m.\u001b[0m\u001b[0mpolmer\u001b[0m\u001b[1;33m(\u001b[0m\u001b[1;33m)\u001b[0m\u001b[1;33m\u001b[0m\u001b[1;33m\u001b[0m\u001b[0m\n\u001b[0m",
      "\u001b[1;31mTypeError\u001b[0m: 'int' object is not callable"
     ]
    }
   ],
   "source": []
  },
  {
   "cell_type": "code",
   "execution_count": null,
   "metadata": {},
   "outputs": [],
   "source": []
  },
  {
   "cell_type": "code",
   "execution_count": 18,
   "metadata": {},
   "outputs": [],
   "source": [
    "odgovor4 = sorted(a.__dict__.keys())#?"
   ]
  },
  {
   "cell_type": "code",
   "execution_count": 19,
   "metadata": {},
   "outputs": [
    {
     "data": {
      "text/plain": [
       "'Odgovor je pravilen. Povprečje naloge: 0.22'"
      ]
     },
     "execution_count": 19,
     "metadata": {},
     "output_type": "execute_result"
    }
   ],
   "source": [
    "poslji(odgovor4, id=9466161466878, st=4)"
   ]
  },
  {
   "cell_type": "markdown",
   "metadata": {},
   "source": [
    "### 5. vprašanje\n",
    "\n",
    "Razred ``CetrtinaKroga`` razširite z metodo ``izracunaj_volumen`` ki uporabi vrednosti ``self.polmer`` in ``self.debelina`` pri izračunu volumna telesa na sliki s podano debelino  ($V = h~\\pi r^2 / 4$). Izračunano vrednost naj shrani v spremenljivko objekta ``self.volumen``. Pokličite metodo ``izracunaj_volumen`` objekta, ustvarjenega z uporabo podatkov naloge. Vnesite urejen seznam ključev slovarja atributov objekta.\n",
    "\n",
    "Število poskusov: 3, enote:  /"
   ]
  },
  {
   "cell_type": "code",
   "execution_count": 31,
   "metadata": {},
   "outputs": [
    {
     "data": {
      "text/plain": [
       "1693.3184402848983"
      ]
     },
     "execution_count": 31,
     "metadata": {},
     "output_type": "execute_result"
    }
   ],
   "source": [
    "a.izracunaj_volumen()"
   ]
  },
  {
   "cell_type": "code",
   "execution_count": 32,
   "metadata": {},
   "outputs": [
    {
     "data": {
      "text/plain": [
       "['debelina', 'polmer', 'volumen']"
      ]
     },
     "execution_count": 32,
     "metadata": {},
     "output_type": "execute_result"
    }
   ],
   "source": [
    "sorted(a.__dict__.keys())\n"
   ]
  },
  {
   "cell_type": "code",
   "execution_count": null,
   "metadata": {},
   "outputs": [],
   "source": []
  },
  {
   "cell_type": "code",
   "execution_count": 33,
   "metadata": {},
   "outputs": [],
   "source": [
    "odgovor5 = sorted(a.__dict__.keys())#?"
   ]
  },
  {
   "cell_type": "code",
   "execution_count": 34,
   "metadata": {},
   "outputs": [
    {
     "data": {
      "text/plain": [
       "'Odgovor je pravilen. Povprečje naloge: 0.28'"
      ]
     },
     "execution_count": 34,
     "metadata": {},
     "output_type": "execute_result"
    }
   ],
   "source": [
    "poslji(odgovor5, id=9466161466822, st=5)"
   ]
  },
  {
   "cell_type": "markdown",
   "metadata": {},
   "source": [
    "### 6. vprašanje\n",
    "\n",
    "``SymPy`` je knjižnjica za numerično računanje! (1: Da, 2: Ne)\n",
    "\n",
    "Število poskusov: 1, enote:  /"
   ]
  },
  {
   "cell_type": "code",
   "execution_count": 35,
   "metadata": {},
   "outputs": [],
   "source": [
    "odgovor6 = 2#?"
   ]
  },
  {
   "cell_type": "code",
   "execution_count": 36,
   "metadata": {},
   "outputs": [
    {
     "data": {
      "text/plain": [
       "'Odgovor je pravilen. Povprečje naloge: 0.33'"
      ]
     },
     "execution_count": 36,
     "metadata": {},
     "output_type": "execute_result"
    }
   ],
   "source": [
    "poslji(odgovor6, id=9466161466858, st=6)"
   ]
  },
  {
   "cell_type": "markdown",
   "metadata": {},
   "source": [
    "### 7. vprašanje\n",
    "\n",
    "Simbolne izraze, dobljene s pomočjo knjižnjice ``SymPy``, je mogoče numerično vrednotiti in pretvoriti v numerične ``NumPy`` funkcije! (1: Da, 2: Ne)\n",
    "\n",
    "Število poskusov: 1, enote:  /"
   ]
  },
  {
   "cell_type": "code",
   "execution_count": 37,
   "metadata": {},
   "outputs": [],
   "source": [
    "odgovor7 = 1#?"
   ]
  },
  {
   "cell_type": "code",
   "execution_count": 38,
   "metadata": {},
   "outputs": [
    {
     "data": {
      "text/plain": [
       "'Odgovor je pravilen. Povprečje naloge: 0.39'"
      ]
     },
     "execution_count": 38,
     "metadata": {},
     "output_type": "execute_result"
    }
   ],
   "source": [
    "poslji(odgovor7, id=9466161466841, st=7)"
   ]
  },
  {
   "cell_type": "markdown",
   "metadata": {},
   "source": [
    "### 8. vprašanje\n",
    "\n",
    "Uvozite ves imenski prostor knjižnjice ``SymPy`` in nastavite lepši izpis s funkcijo ``sympy.init_printing``. Določite vrednost konstante osnove naravnega logaritma $e$, že definirane v knjižnjici ``SymPy``, na $n$ skupnih mest natančno. (Namig: konstanta $e$ je v knjižnjici ``SciPy`` shranjena pod imenom ``E``. Za numerično vrednotenje uporabite funkcijo ``evalf``.)\n",
    "\n",
    "Število poskusov: 3, enote:  /"
   ]
  },
  {
   "cell_type": "code",
   "execution_count": 42,
   "metadata": {},
   "outputs": [],
   "source": [
    "import sympy as sym"
   ]
  },
  {
   "cell_type": "code",
   "execution_count": 44,
   "metadata": {},
   "outputs": [],
   "source": [
    "sym.init_printing()"
   ]
  },
  {
   "cell_type": "code",
   "execution_count": 46,
   "metadata": {},
   "outputs": [
    {
     "data": {
      "image/png": "[encoded data removed]",
      "text/latex": [
       "$$2.7182818$$"
      ],
      "text/plain": [
       "2.7182818"
      ]
     },
     "execution_count": 46,
     "metadata": {},
     "output_type": "execute_result"
    }
   ],
   "source": [
    "sym.E.evalf(n)"
   ]
  },
  {
   "cell_type": "code",
   "execution_count": null,
   "metadata": {},
   "outputs": [],
   "source": []
  },
  {
   "cell_type": "code",
   "execution_count": 47,
   "metadata": {},
   "outputs": [],
   "source": [
    "odgovor8 = sym.E.evalf(n)#?"
   ]
  },
  {
   "cell_type": "code",
   "execution_count": 48,
   "metadata": {},
   "outputs": [
    {
     "data": {
      "text/plain": [
       "'Odgovor je pravilen. Povprečje naloge: 0.44'"
      ]
     },
     "execution_count": 48,
     "metadata": {},
     "output_type": "execute_result"
    }
   ],
   "source": [
    "poslji(odgovor8, id=9466161466859, st=8)"
   ]
  },
  {
   "cell_type": "markdown",
   "metadata": {},
   "source": [
    "### 9. vprašanje\n",
    "\n",
    "Definirajte ``SymPy`` izraz za izračun volumna telesa na sliki s polmerom $r$ in debelino $h$ (glejte definicijo naloge). Za podatke iz definicije naloge izračunajte numerično vrednost volumna na $n$ skupnih mest natančno. (Namig: pomagajte si s funkcijo ``subs``.) (Pozor! Pri definiciji simbolov ne uporabite črk, ki označujejo podatke iz definicije naloge! Na ta način bi le-te namreč prepisali.)\n",
    "\n",
    "Število poskusov: 3, enote:  mm^3"
   ]
  },
  {
   "cell_type": "code",
   "execution_count": 73,
   "metadata": {},
   "outputs": [],
   "source": [
    "h = 11 #mm\n",
    "L = 22.0 #mm\n",
    "n = 8 #\n",
    "p_0 = 0.8 #rad\n",
    "R = 14 #mm\n",
    "V = 1119.5 #mm$^3$"
   ]
  },
  {
   "cell_type": "code",
   "execution_count": 65,
   "metadata": {},
   "outputs": [],
   "source": [
    "r, d = sym.symbols(\"r, d\")"
   ]
  },
  {
   "cell_type": "code",
   "execution_count": 68,
   "metadata": {},
   "outputs": [
    {
     "data": {
      "image/png": "[encoded data removed]",
      "text/latex": [
       "$$\\frac{\\pi d r^{2}}{4}$$"
      ],
      "text/plain": [
       "     2\n",
       "π⋅d⋅r \n",
       "──────\n",
       "  4   "
      ]
     },
     "execution_count": 68,
     "metadata": {},
     "output_type": "execute_result"
    }
   ],
   "source": [
    "vol = (d * sym.pi * r**2 / 4)\n",
    "vol"
   ]
  },
  {
   "cell_type": "code",
   "execution_count": 70,
   "metadata": {},
   "outputs": [
    {
     "data": {
      "image/png": "[encoded data removed]",
      "text/latex": [
       "$$1693.3184$$"
      ],
      "text/plain": [
       "1693.3184"
      ]
     },
     "execution_count": 70,
     "metadata": {},
     "output_type": "execute_result"
    }
   ],
   "source": [
    "vol.subs([(r, R), (d, h)]).evalf(n)"
   ]
  },
  {
   "cell_type": "code",
   "execution_count": 54,
   "metadata": {},
   "outputs": [
    {
     "data": {
      "text/plain": [
       "int"
      ]
     },
     "execution_count": 54,
     "metadata": {},
     "output_type": "execute_result"
    }
   ],
   "source": [
    "type(h)"
   ]
  },
  {
   "cell_type": "code",
   "execution_count": 71,
   "metadata": {},
   "outputs": [],
   "source": [
    "odgovor9 = vol.subs([(r, R), (d, h)]).evalf(n)#?"
   ]
  },
  {
   "cell_type": "code",
   "execution_count": 72,
   "metadata": {},
   "outputs": [
    {
     "data": {
      "text/plain": [
       "'Odgovor je pravilen. Povprečje naloge: 0.50'"
      ]
     },
     "execution_count": 72,
     "metadata": {},
     "output_type": "execute_result"
    }
   ],
   "source": [
    "poslji(odgovor9, id=9466161466860, st=9)"
   ]
  },
  {
   "cell_type": "markdown",
   "metadata": {},
   "source": [
    "### 10. vprašanje\n",
    "\n",
    "Določite polmer ``r`` telesa na sliki, če sta podana vrednost volumna $V$ in višina $h$ (iz podatkov naloge). Rešitev podajte v obliki števila s plavajočo vejico, na $n$ mest natančno. (Namig: enačbo rešite z uporabo funkcije ``solve``. Vrednost $r$ je vedno pozitivna!)\n",
    "\n",
    "Število poskusov: 3, enote:  mm"
   ]
  },
  {
   "cell_type": "code",
   "execution_count": 174,
   "metadata": {},
   "outputs": [],
   "source": [
    "d, P = sym.symbols(\"d, P\")\n",
    "r = sym.symbols(\"r\", positive=True)"
   ]
  },
  {
   "cell_type": "code",
   "execution_count": null,
   "metadata": {},
   "outputs": [],
   "source": []
  },
  {
   "cell_type": "code",
   "execution_count": 175,
   "metadata": {},
   "outputs": [
    {
     "data": {
      "image/png": "[encoded data removed]",
      "text/latex": [
       "$$P = \\frac{\\pi d r^{2}}{4}$$"
      ],
      "text/plain": [
       "         2\n",
       "    π⋅d⋅r \n",
       "P = ──────\n",
       "      4   "
      ]
     },
     "execution_count": 175,
     "metadata": {},
     "output_type": "execute_result"
    }
   ],
   "source": [
    "enacba = sym.Eq(P, d * sym.pi * r**2 / 4)\n",
    "enacba"
   ]
  },
  {
   "cell_type": "code",
   "execution_count": 176,
   "metadata": {},
   "outputs": [
    {
     "data": {
      "image/png": "[encoded data removed]",
      "text/latex": [
       "$$\\left [ - \\frac{2 \\sqrt{\\frac{P}{d}}}{\\sqrt{\\pi}}, \\quad \\frac{2 \\sqrt{\\frac{P}{d}}}{\\sqrt{\\pi}}\\right ]$$"
      ],
      "text/plain": [
       "⎡       ___         ___⎤\n",
       "⎢      ╱ P         ╱ P ⎥\n",
       "⎢-2⋅  ╱  ─    2⋅  ╱  ─ ⎥\n",
       "⎢   ╲╱   d      ╲╱   d ⎥\n",
       "⎢───────────, ─────────⎥\n",
       "⎣     √π          √π   ⎦"
      ]
     },
     "execution_count": 176,
     "metadata": {},
     "output_type": "execute_result"
    }
   ],
   "source": [
    "novi_r = sym.solve(enacba, r)\n",
    "novi_r"
   ]
  },
  {
   "cell_type": "code",
   "execution_count": 177,
   "metadata": {},
   "outputs": [
    {
     "data": {
      "image/png": "[encoded data removed]",
      "text/latex": [
       "$$11.383368$$"
      ],
      "text/plain": [
       "11.383368"
      ]
     },
     "execution_count": 177,
     "metadata": {},
     "output_type": "execute_result"
    }
   ],
   "source": [
    "novi_r[1].subs([(P, V), (d, h)]).evalf(n)"
   ]
  },
  {
   "cell_type": "code",
   "execution_count": 178,
   "metadata": {},
   "outputs": [],
   "source": [
    "odgovor10 = novi_r[1].subs([(P, V), (d, h)]).evalf(n)#?"
   ]
  },
  {
   "cell_type": "code",
   "execution_count": 179,
   "metadata": {},
   "outputs": [
    {
     "data": {
      "text/plain": [
       "'Pravilna rešitev že obstaja.'"
      ]
     },
     "execution_count": 179,
     "metadata": {},
     "output_type": "execute_result"
    }
   ],
   "source": [
    "poslji(odgovor10, id=9466161466891, st=10)"
   ]
  },
  {
   "cell_type": "code",
   "execution_count": 180,
   "metadata": {},
   "outputs": [
    {
     "data": {
      "image/png": "[encoded data removed]",
      "text/latex": [
       "$$\\frac{2 \\sqrt{\\frac{P}{d}}}{\\sqrt{\\pi}}$$"
      ],
      "text/plain": [
       "      ___\n",
       "     ╱ P \n",
       "2⋅  ╱  ─ \n",
       "  ╲╱   d \n",
       "─────────\n",
       "    √π   "
      ]
     },
     "execution_count": 180,
     "metadata": {},
     "output_type": "execute_result"
    }
   ],
   "source": [
    "z = novi_r[1]\n",
    "z"
   ]
  },
  {
   "cell_type": "markdown",
   "metadata": {},
   "source": [
    "### 11. vprašanje\n",
    "\n",
    "Z uporabo funkcije ``lambdify`` rešitev enačbe iz zgornje naloge pretvorite v ``NumPy`` funkcijo, ki za poljubno vrednost volumna telesa ``vol`` izračuna ustrezno vrednost polmera ``r``. Debelina $h$ naj ima vrednost iz podatkov naloge. Funkcijo uporabite na numeričnem polju ``vol = np.arange(500, 1000, 50)``, in vnesite rezultat. (Namig: enačbo rešite v odvisnosti od spremenljivke ``vol``, ne od konkretne vrednosti $V$! Pazite na poimenovanje spremenljivk.\n",
    "\n",
    "Število poskusov: 3, enote:  mm"
   ]
  },
  {
   "cell_type": "code",
   "execution_count": 182,
   "metadata": {},
   "outputs": [
    {
     "data": {
      "text/plain": [
       "array([ 7.60753079,  7.97884561,  8.33363244,  8.67391966,  9.00135182,\n",
       "        9.31728432,  9.62284987,  9.91900661, 10.2065736 , 10.48625753])"
      ]
     },
     "execution_count": 182,
     "metadata": {},
     "output_type": "execute_result"
    }
   ],
   "source": [
    "\n",
    "\n",
    "f = sym.lambdify((P, d), z, modules='numpy')\n",
    "P = np.arange(500, 1000, 50)\n",
    "d = h\n",
    "\n",
    "f(P, d)"
   ]
  },
  {
   "cell_type": "code",
   "execution_count": 183,
   "metadata": {},
   "outputs": [
    {
     "data": {
      "text/plain": [
       "array([ 7.60753079,  7.97884561,  8.33363244,  8.67391966,  9.00135182,\n",
       "        9.31728432,  9.62284987,  9.91900661, 10.2065736 , 10.48625753])"
      ]
     },
     "execution_count": 183,
     "metadata": {},
     "output_type": "execute_result"
    }
   ],
   "source": [
    "f(P, d)"
   ]
  },
  {
   "cell_type": "code",
   "execution_count": 184,
   "metadata": {},
   "outputs": [],
   "source": [
    "odgovor11 = f(P,d)#?"
   ]
  },
  {
   "cell_type": "code",
   "execution_count": 185,
   "metadata": {},
   "outputs": [
    {
     "data": {
      "text/plain": [
       "'Odgovor je pravilen. Povprečje naloge: 0.61'"
      ]
     },
     "execution_count": 185,
     "metadata": {},
     "output_type": "execute_result"
    }
   ],
   "source": [
    "poslji(odgovor11, id=9466161466861, st=11)"
   ]
  },
  {
   "cell_type": "markdown",
   "metadata": {},
   "source": [
    "### 12. vprašanje\n",
    "\n",
    "Izraz $\\sin(x)+x$ integrirajte določeno po $x$, v mejah od $0$ do $L$, kjer je $L$ podatek iz definicije naloge. Numerično vrednost rezultata določite s funkcijo ``evalf`` na $n$ mest natančno.\n",
    "\n",
    "Število poskusov: 3, enote:  /"
   ]
  },
  {
   "cell_type": "code",
   "execution_count": 193,
   "metadata": {},
   "outputs": [
    {
     "data": {
      "image/png": "[encoded data removed]",
      "text/latex": [
       "$$x + \\sin{\\left (x \\right )}$$"
      ],
      "text/plain": [
       "x + sin(x)"
      ]
     },
     "execution_count": 193,
     "metadata": {},
     "output_type": "execute_result"
    }
   ],
   "source": [
    "x = sym.symbols(\"x\")\n",
    "\n",
    "izraz = (sym.sin(x) + x)\n",
    "izraz"
   ]
  },
  {
   "cell_type": "code",
   "execution_count": 197,
   "metadata": {},
   "outputs": [
    {
     "data": {
      "image/png": "[encoded data removed]",
      "text/latex": [
       "$$243.99996$$"
      ],
      "text/plain": [
       "243.99996"
      ]
     },
     "execution_count": 197,
     "metadata": {},
     "output_type": "execute_result"
    }
   ],
   "source": [
    "sym.integrate(izraz, (x, 0, L)).evalf(n)"
   ]
  },
  {
   "cell_type": "code",
   "execution_count": 198,
   "metadata": {},
   "outputs": [],
   "source": [
    "odgovor12 = sym.integrate(izraz, (x, 0, L)).evalf(n)#?"
   ]
  },
  {
   "cell_type": "code",
   "execution_count": 199,
   "metadata": {},
   "outputs": [
    {
     "data": {
      "text/plain": [
       "'Odgovor je pravilen. Povprečje naloge: 0.67'"
      ]
     },
     "execution_count": 199,
     "metadata": {},
     "output_type": "execute_result"
    }
   ],
   "source": [
    "poslji(odgovor12, id=9466161466868, st=12)"
   ]
  },
  {
   "cell_type": "markdown",
   "metadata": {},
   "source": [
    "### 13. vprašanje\n",
    "\n",
    "Z uporabo knjižnjice ``SymPy`` izračunajte nedoločeni integral $\\int\\sin(x)+x ~ dx$ in dobljen izraz vnesite v obliki niza. Pravilnost rešitve lahko preverite s simbolnim odvajanjem dobljenega po $x$. (Namig: simbolni izraz v niz pretvorite z ukazom ``str``.)\n",
    "\n",
    "Število poskusov: 3, enote:  /"
   ]
  },
  {
   "cell_type": "code",
   "execution_count": 201,
   "metadata": {},
   "outputs": [],
   "source": [
    "o = sym.integrate(izraz)"
   ]
  },
  {
   "cell_type": "code",
   "execution_count": 203,
   "metadata": {},
   "outputs": [
    {
     "data": {
      "image/png": "[encoded data removed]",
      "text/latex": [
       "$$x + \\sin{\\left (x \\right )}$$"
      ],
      "text/plain": [
       "x + sin(x)"
      ]
     },
     "execution_count": 203,
     "metadata": {},
     "output_type": "execute_result"
    }
   ],
   "source": [
    "sym.diff(o)"
   ]
  },
  {
   "cell_type": "code",
   "execution_count": 207,
   "metadata": {},
   "outputs": [
    {
     "data": {
      "text/plain": [
       "'x**2/2 - cos(x)'"
      ]
     },
     "execution_count": 207,
     "metadata": {},
     "output_type": "execute_result"
    }
   ],
   "source": [
    "st = str(o)\n",
    "st"
   ]
  },
  {
   "cell_type": "code",
   "execution_count": 208,
   "metadata": {},
   "outputs": [],
   "source": [
    "odgovor13 = st#?"
   ]
  },
  {
   "cell_type": "code",
   "execution_count": 209,
   "metadata": {},
   "outputs": [
    {
     "data": {
      "text/plain": [
       "'Odgovor je pravilen. Povprečje naloge: 0.72'"
      ]
     },
     "execution_count": 209,
     "metadata": {},
     "output_type": "execute_result"
    }
   ],
   "source": [
    "poslji(odgovor13, id=9466161466853, st=13)"
   ]
  },
  {
   "cell_type": "markdown",
   "metadata": {},
   "source": [
    "### 14. vprašanje\n",
    "\n",
    "S simbolno integracijo določite odvisnost statičnega momenta ploskve na sliki iz definicije naloge od $r$. $S_{xx} = \\int_{A}y~dA=\\int_0^r \\int_0^{\\pi/2}y(\\varphi)~r~d\\varphi~dr$, kjer je $y(\\varphi)=r\\sin(\\varphi)$. Pri računanju dvojnega integrala definirate integracijke meje tako za $r$ kot za $\\varphi$ (glejte http://docs.sympy.org/latest/tutorial/calculus.html#integrals). Pazite, zgornja meja prve integracije je spremenljivka $r$ in ne vrednost $R$! Dobljen izraz vnesite v obliki niza.\n",
    "\n",
    "Število poskusov: 3, enote:  mm^3"
   ]
  },
  {
   "cell_type": "raw",
   "metadata": {},
   "source": [
    "h = 11 #mm\n",
    "L = 22.0 #mm\n",
    "n = 8 #\n",
    "p_0 = 0.8 #rad\n",
    "R = 14 #mm\n",
    "V = 1119.5 #mm$^3$"
   ]
  },
  {
   "cell_type": "code",
   "execution_count": 213,
   "metadata": {},
   "outputs": [
    {
     "data": {
      "image/png": "[encoded data removed]",
      "text/latex": [
       "$$r \\sin{\\left (fi \\right )}$$"
      ],
      "text/plain": [
       "r⋅sin(fi)"
      ]
     },
     "execution_count": 213,
     "metadata": {},
     "output_type": "execute_result"
    }
   ],
   "source": [
    "fi, r = sym.symbols(\"fi, r\")\n",
    "y_fi = r*sym.sin(fi)\n",
    "y_fi\n"
   ]
  },
  {
   "cell_type": "code",
   "execution_count": 225,
   "metadata": {},
   "outputs": [
    {
     "data": {
      "image/png": "[encoded data removed]",
      "text/latex": [
       "$$r^{2}$$"
      ],
      "text/plain": [
       " 2\n",
       "r "
      ]
     },
     "execution_count": 225,
     "metadata": {},
     "output_type": "execute_result"
    }
   ],
   "source": [
    "integ_1 = sym.integrate(y_fi * r, (fi, 0, (sym.pi/2)))\n",
    "integ_1\n"
   ]
  },
  {
   "cell_type": "code",
   "execution_count": 230,
   "metadata": {},
   "outputs": [
    {
     "data": {
      "image/png": "[encoded data removed]",
      "text/latex": [
       "$$\\frac{r^{3}}{3}$$"
      ],
      "text/plain": [
       " 3\n",
       "r \n",
       "──\n",
       "3 "
      ]
     },
     "execution_count": 230,
     "metadata": {},
     "output_type": "execute_result"
    }
   ],
   "source": [
    "s_xx = sym.integrate(integ_1, (r, 0, r))\n",
    "s_xx"
   ]
  },
  {
   "cell_type": "code",
   "execution_count": 231,
   "metadata": {},
   "outputs": [
    {
     "data": {
      "text/plain": [
       "'r**3/3'"
      ]
     },
     "execution_count": 231,
     "metadata": {},
     "output_type": "execute_result"
    }
   ],
   "source": [
    "v = str(s_xx)\n",
    "v"
   ]
  },
  {
   "cell_type": "code",
   "execution_count": 228,
   "metadata": {},
   "outputs": [],
   "source": [
    "odgovor14 = v#?"
   ]
  },
  {
   "cell_type": "code",
   "execution_count": 229,
   "metadata": {},
   "outputs": [
    {
     "data": {
      "text/plain": [
       "'Odgovor je pravilen. Povprečje naloge: 0.78'"
      ]
     },
     "execution_count": 229,
     "metadata": {},
     "output_type": "execute_result"
    }
   ],
   "source": [
    "poslji(odgovor14, id=9466161466869, st=14)"
   ]
  },
  {
   "cell_type": "markdown",
   "metadata": {},
   "source": [
    "### 15. vprašanje\n",
    "\n",
    "Z uporabo modula za grafični prikaz iz knjižnjice ``SymPy`` na istem grafu prikažite v prejšnji nalogi določeno odvisnost $S_{xx}$ od polmera $r$, ter potek že izračunanega rezultata nedoločenega integrala $\\int\\sin(x)+x ~ dx$, kjer spremenljivko ``x`` najprej zamenjajte z ``r`` z uporabo funkcije ``subs``. Ali je naslednja trditev pravilna? Prikazani funkciji se sekata na območju $r \\in [0,2]$! (1: Da, 2: Ne)\n",
    "\n",
    "Število poskusov: 1, enote:  /"
   ]
  },
  {
   "cell_type": "code",
   "execution_count": 242,
   "metadata": {},
   "outputs": [],
   "source": [
    "from sympy.plotting import plot"
   ]
  },
  {
   "cell_type": "code",
   "execution_count": 248,
   "metadata": {},
   "outputs": [],
   "source": [
    "izris1 = plot(s_xx, show = False)\n",
    "izris2 = plot(o, show = False)"
   ]
  },
  {
   "cell_type": "code",
   "execution_count": 249,
   "metadata": {},
   "outputs": [
    {
     "data": {
      "image/png": "[encoded data removed]",
      "text/plain": [
       "<Figure size 432x288 with 1 Axes>"
      ]
     },
     "metadata": {
      "needs_background": "light"
     },
     "output_type": "display_data"
    }
   ],
   "source": [
    "izris1.extend(izris2)\n",
    "izris1.show()"
   ]
  },
  {
   "cell_type": "code",
   "execution_count": 250,
   "metadata": {},
   "outputs": [],
   "source": [
    "odgovor15 = 1#?"
   ]
  },
  {
   "cell_type": "code",
   "execution_count": 251,
   "metadata": {},
   "outputs": [
    {
     "data": {
      "text/plain": [
       "'Odgovor ni pravilen. Porabili ste vse poskuse reševanja.'"
      ]
     },
     "execution_count": 251,
     "metadata": {},
     "output_type": "execute_result"
    }
   ],
   "source": [
    " poslji(odgovor15, id=9466161466880, st=15)"
   ]
  },
  {
   "cell_type": "markdown",
   "metadata": {},
   "source": [
    "### 16. vprašanje\n",
    "\n",
    "Z uporabo orodij knjižnjice ``SymPy`` nastavite gibalno enačbo matematičnega nihala: $\\frac{d^2}{dt^2}~p(t) + \\frac{g}{l}~\\sin(p(t)) = 0$, kjer je $t$ čas, $p$ kot zasuka vrvice, $g$ težnostni pospešek, $l$ pa dolžina vrvice. Vse spremenljivke definirajte s predpostavko, da gre za pozitivna realna števila (Namig: poglejte kaj so argumenti funkcije ``sympy.symbols``). Dobljeno enačbo vnesite v obliki niza.\n",
    "\n",
    "Število poskusov: 3, enote:  /"
   ]
  },
  {
   "cell_type": "code",
   "execution_count": 352,
   "metadata": {},
   "outputs": [],
   "source": [
    "p = sym.Function(\"p\")\n",
    "t, g, l = sym.symbols(\"t, g, l\", positive = True, real = True)"
   ]
  },
  {
   "cell_type": "code",
   "execution_count": 353,
   "metadata": {
    "scrolled": true
   },
   "outputs": [
    {
     "data": {
      "image/png": "[encoded data removed]",
      "text/latex": [
       "$$\\frac{g \\sin{\\left (p{\\left (t \\right )} \\right )}}{l} + \\frac{d^{2}}{d t^{2}} p{\\left (t \\right )} = 0$$"
      ],
      "text/plain": [
       "                2          \n",
       "g⋅sin(p(t))    d           \n",
       "─────────── + ───(p(t)) = 0\n",
       "     l          2          \n",
       "              dt           "
      ]
     },
     "execution_count": 353,
     "metadata": {},
     "output_type": "execute_result"
    }
   ],
   "source": [
    "pizdarija = sym.Eq(p(t).diff(t, 2) + (g/l)*sym.sin(p(t)), 0)\n",
    "pizdarija"
   ]
  },
  {
   "cell_type": "code",
   "execution_count": 354,
   "metadata": {},
   "outputs": [
    {
     "data": {
      "text/plain": [
       "'Eq(g*sin(p(t))/l + Derivative(p(t), (t, 2)), 0)'"
      ]
     },
     "execution_count": 354,
     "metadata": {},
     "output_type": "execute_result"
    }
   ],
   "source": [
    "m = str(pizdarija)\n",
    "m"
   ]
  },
  {
   "cell_type": "code",
   "execution_count": null,
   "metadata": {},
   "outputs": [],
   "source": []
  },
  {
   "cell_type": "code",
   "execution_count": 355,
   "metadata": {},
   "outputs": [],
   "source": [
    "odgovor16 = m#?"
   ]
  },
  {
   "cell_type": "code",
   "execution_count": 356,
   "metadata": {},
   "outputs": [
    {
     "data": {
      "text/plain": [
       "'Pravilna rešitev že obstaja.'"
      ]
     },
     "execution_count": 356,
     "metadata": {},
     "output_type": "execute_result"
    }
   ],
   "source": [
    "poslji(odgovor16, id=9466161466830, st=16)"
   ]
  },
  {
   "cell_type": "markdown",
   "metadata": {},
   "source": [
    "### 17. vprašanje\n",
    "\n",
    "V diferencialni enačbi iz prejšnje naloge z uporabo funkcije ``subs`` $\\sin(p(t))$ zamenjajte z $p(t)$. Definirajte novo realno, pozitivno spremenljivko $w$ in $\\frac{g}{l}$ v diferencialni enačbi zamenjajte z $w^2$. Vnesite dobljeno enačbo v obliki niza.\n",
    "\n",
    "Število poskusov: 3, enote:  /"
   ]
  },
  {
   "cell_type": "code",
   "execution_count": 357,
   "metadata": {},
   "outputs": [
    {
     "data": {
      "image/png": "[encoded data removed]",
      "text/latex": [
       "$$w^{2} p{\\left (t \\right )} + \\frac{d^{2}}{d t^{2}} p{\\left (t \\right )} = 0$$"
      ],
      "text/plain": [
       "            2          \n",
       " 2         d           \n",
       "w ⋅p(t) + ───(p(t)) = 0\n",
       "            2          \n",
       "          dt           "
      ]
     },
     "execution_count": 357,
     "metadata": {},
     "output_type": "execute_result"
    }
   ],
   "source": [
    "w = sym.symbols(\"w\", real = True, positive = True)\n",
    "\n",
    "vecja_pizdarija = pizdarija.subs([(sym.sin(p(t)), p(t)), ((g/l), w**2)])\n",
    "vecja_pizdarija"
   ]
  },
  {
   "cell_type": "code",
   "execution_count": 358,
   "metadata": {},
   "outputs": [
    {
     "data": {
      "text/plain": [
       "'Eq(w**2*p(t) + Derivative(p(t), (t, 2)), 0)'"
      ]
     },
     "execution_count": 358,
     "metadata": {},
     "output_type": "execute_result"
    }
   ],
   "source": [
    "niz = str(vecja_pizdarija)\n",
    "niz"
   ]
  },
  {
   "cell_type": "code",
   "execution_count": null,
   "metadata": {},
   "outputs": [],
   "source": []
  },
  {
   "cell_type": "code",
   "execution_count": 359,
   "metadata": {},
   "outputs": [],
   "source": [
    "odgovor17 = niz#?"
   ]
  },
  {
   "cell_type": "code",
   "execution_count": 360,
   "metadata": {},
   "outputs": [
    {
     "data": {
      "text/plain": [
       "'Pravilna rešitev že obstaja.'"
      ]
     },
     "execution_count": 360,
     "metadata": {},
     "output_type": "execute_result"
    }
   ],
   "source": [
    "poslji(odgovor17, id=9466161466822, st=17)"
   ]
  },
  {
   "cell_type": "markdown",
   "metadata": {},
   "source": [
    "### 18. vprašanje\n",
    "\n",
    "Zgornjo diferencialno enačbo rešite za $p(t)$ in v spremenljivko ``rezultat`` shranite desno stran dobljenega izraza. Vnesite ``rezultat``, zapisan v obliki niza. (Namig: desno stran izraza dobite z ukazom ``izraz.args[1]``)\n",
    "\n",
    "Število poskusov: 3, enote:  /"
   ]
  },
  {
   "cell_type": "code",
   "execution_count": 361,
   "metadata": {},
   "outputs": [
    {
     "data": {
      "image/png": "[encoded data removed]",
      "text/latex": [
       "$$w^{2} p{\\left (t \\right )} + \\frac{d^{2}}{d t^{2}} p{\\left (t \\right )} = 0$$"
      ],
      "text/plain": [
       "            2          \n",
       " 2         d           \n",
       "w ⋅p(t) + ───(p(t)) = 0\n",
       "            2          \n",
       "          dt           "
      ]
     },
     "execution_count": 361,
     "metadata": {},
     "output_type": "execute_result"
    }
   ],
   "source": [
    "vecja_pizdarija"
   ]
  },
  {
   "cell_type": "code",
   "execution_count": 362,
   "metadata": {},
   "outputs": [
    {
     "data": {
      "text/plain": [
       "sympy.core.relational.Equality"
      ]
     },
     "execution_count": 362,
     "metadata": {},
     "output_type": "execute_result"
    }
   ],
   "source": [
    "type(vecja_pizdarija)"
   ]
  },
  {
   "cell_type": "code",
   "execution_count": 363,
   "metadata": {},
   "outputs": [
    {
     "data": {
      "image/png": "[encoded data removed]",
      "text/latex": [
       "$$p{\\left (t \\right )} = C_{1} \\sin{\\left (t w \\right )} + C_{2} \\cos{\\left (t w \\right )}$$"
      ],
      "text/plain": [
       "p(t) = C₁⋅sin(t⋅w) + C₂⋅cos(t⋅w)"
      ]
     },
     "execution_count": 363,
     "metadata": {},
     "output_type": "execute_result"
    }
   ],
   "source": [
    "rezultat = sym.dsolve(vecja_pizdarija, p(t))\n",
    "rezultat"
   ]
  },
  {
   "cell_type": "code",
   "execution_count": 364,
   "metadata": {},
   "outputs": [
    {
     "data": {
      "image/png": "[encoded data removed]",
      "text/latex": [
       "$$C_{1} \\sin{\\left (t w \\right )} + C_{2} \\cos{\\left (t w \\right )}$$"
      ],
      "text/plain": [
       "C₁⋅sin(t⋅w) + C₂⋅cos(t⋅w)"
      ]
     },
     "execution_count": 364,
     "metadata": {},
     "output_type": "execute_result"
    }
   ],
   "source": [
    "rezultat.args[1]"
   ]
  },
  {
   "cell_type": "code",
   "execution_count": 367,
   "metadata": {},
   "outputs": [
    {
     "data": {
      "text/plain": [
       "'C1*sin(t*w) + C2*cos(t*w)'"
      ]
     },
     "execution_count": 367,
     "metadata": {},
     "output_type": "execute_result"
    }
   ],
   "source": [
    "nizz = str(rezultat.args[1])\n",
    "nizz"
   ]
  },
  {
   "cell_type": "code",
   "execution_count": 368,
   "metadata": {},
   "outputs": [],
   "source": [
    "odgovor18 = nizz#?"
   ]
  },
  {
   "cell_type": "code",
   "execution_count": 369,
   "metadata": {},
   "outputs": [
    {
     "data": {
      "text/plain": [
       "'Odgovor je pravilen. Povprečje naloge: 0.94'"
      ]
     },
     "execution_count": 369,
     "metadata": {},
     "output_type": "execute_result"
    }
   ],
   "source": [
    "poslji(odgovor18, id=9466161466869, st=18)"
   ]
  },
  {
   "cell_type": "code",
   "execution_count": null,
   "metadata": {},
   "outputs": [],
   "source": []
  }
 ],
 "metadata": {
  "kernelspec": {
   "display_name": "Python 3",
   "language": "python",
   "name": "python3"
  },
  "language_info": {
   "codemirror_mode": {
    "name": "ipython",
    "version": 3
   },
   "file_extension": ".py",
   "mimetype": "text/x-python",
   "name": "python",
   "nbconvert_exporter": "python",
   "pygments_lexer": "ipython3",
   "version": "3.7.2"
  }
 },
 "nbformat": 4,
 "nbformat_minor": 1
}
