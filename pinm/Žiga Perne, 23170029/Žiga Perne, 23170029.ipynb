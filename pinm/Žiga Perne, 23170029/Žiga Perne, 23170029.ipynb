{
 "cells": [
  {
   "cell_type": "markdown",
   "metadata": {},
   "source": [
    "\n",
    "\n",
    "Avtor: **Žiga Perne, 23170029**\n",
    "\n",
    "Datum: 3. junij 2019\n",
    "\n",
    "Potrjujem, da sem avtor projektne naloge in da sem vso vsebino pripravil sam. V primeru, da se ugotovi plagiatorstvo se zavedam, da ne bom izpolnjeval pogojev za pristop k izpitu.\n"
   ]
  },
  {
   "cell_type": "markdown",
   "metadata": {},
   "source": [
    "<h1>Opis naloge: satelit v orbiti<span class=\"tocSkip\"></span></h1>\n",
    "Spremljamo satelit, ki kroži po eliptični krožnici okoli Zemlje, kot prikazuje slika. Obravnali bomo njegove osnovne parametre, lastnosti elipse, ki predstavlja orbito, ter obravnavali veličine v odvisnosti od časa in oddaljenosti od Zemlje. Posamezne naloge bodo bolj podrobno definirane sproti."
   ]
  },
  {
   "cell_type": "markdown",
   "metadata": {},
   "source": [
    "<img width=500 src='orbita.png' style='width:300px;'>\n",
    "\n",
    "\n",
    "Vir: [Wikipedia](https://www.chegg.com/homework-help/molniya-orbit-highly-eccentric-orbit-communication-satellite-chapter-11-problem-57p-solution-9781938168277-exc)"
   ]
  },
  {
   "cell_type": "markdown",
   "metadata": {
    "toc": true
   },
   "source": [
    "<h1>Kazalo<span class=\"tocSkip\"></span></h1>\n",
    "<div class=\"toc\"><ul class=\"toc-item\"><li><span><a href=\"#Simbolno-računanje\" data-toc-modified-id=\"Simbolno-računanje-1\"><span class=\"toc-item-num\">1&nbsp;&nbsp;</span>Simbolno računanje</a></span><ul class=\"toc-item\"><li><span><a href=\"#Popis-osnovnih-parametrov-orbite\" data-toc-modified-id=\"Popis-osnovnih-parametrov-orbite-1.1\"><span class=\"toc-item-num\">1.1&nbsp;&nbsp;</span>Popis osnovnih parametrov orbite</a></span></li><li><span><a href=\"#Računanje-hitrosti-v-apsidah\" data-toc-modified-id=\"Računanje-hitrosti-v-apsidah-1.2\"><span class=\"toc-item-num\">1.2&nbsp;&nbsp;</span>Računanje hitrosti v apsidah</a></span></li><li><span><a href=\"#Določitev-periode-orbite\" data-toc-modified-id=\"Določitev-periode-orbite-1.3\"><span class=\"toc-item-num\">1.3&nbsp;&nbsp;</span>Določitev periode orbite</a></span></li></ul></li><li><span><a href=\"#Sistem-linearnih-enačb\" data-toc-modified-id=\"Sistem-linearnih-enačb-2\"><span class=\"toc-item-num\">2&nbsp;&nbsp;</span>Sistem linearnih enačb</a></span><ul class=\"toc-item\"><li><span><a href=\"#Grafični-prikaz-orbite\" data-toc-modified-id=\"Grafični-prikaz-orbite-2.1\"><span class=\"toc-item-num\">2.1&nbsp;&nbsp;</span>Grafični prikaz orbite</a></span></li></ul></li><li><span><a href=\"#Iskanje-ničel\" data-toc-modified-id=\"Iskanje-ničel-3\"><span class=\"toc-item-num\">3&nbsp;&nbsp;</span>Iskanje ničel</a></span><ul class=\"toc-item\"><li><span><a href=\"#Določanje-višine-satelita-v-odvisnosti-od-zasuka\" data-toc-modified-id=\"Določanje-višine-satelita-v-odvisnosti-od-zasuka-3.1\"><span class=\"toc-item-num\">3.1&nbsp;&nbsp;</span>Določanje višine satelita v odvisnosti od zasuka</a></span></li><li><span><a href=\"#Določanje-višine-satelita-v-odvisnosti-od-časa\" data-toc-modified-id=\"Določanje-višine-satelita-v-odvisnosti-od-časa-3.2\"><span class=\"toc-item-num\">3.2&nbsp;&nbsp;</span>Določanje višine satelita v odvisnosti od časa</a></span></li></ul></li><li><span><a href=\"#Aproksimacija\" data-toc-modified-id=\"Aproksimacija-4\"><span class=\"toc-item-num\">4&nbsp;&nbsp;</span>Aproksimacija</a></span><ul class=\"toc-item\"><li><span><a href=\"#Aproksimacija-poti-satelita-pri-popačenem-signalu\" data-toc-modified-id=\"Aproksimacija-poti-satelita-pri-popačenem-signalu-4.1\"><span class=\"toc-item-num\">4.1&nbsp;&nbsp;</span>Aproksimacija poti satelita pri popačenem signalu</a></span></li></ul></li><li><span><a href=\"#Integriranje-in-odvajanje\" data-toc-modified-id=\"Integriranje-in-odvajanje-5\"><span class=\"toc-item-num\">5&nbsp;&nbsp;</span>Integriranje in odvajanje</a></span><ul class=\"toc-item\"><li><span><a href=\"#Določanje-kotne-hitrosti\" data-toc-modified-id=\"Določanje-kotne-hitrosti-5.1\"><span class=\"toc-item-num\">5.1&nbsp;&nbsp;</span>Določanje kotne hitrosti</a></span></li><li><span><a href=\"#Določanje-zasuka\" data-toc-modified-id=\"Določanje-zasuka-5.2\"><span class=\"toc-item-num\">5.2&nbsp;&nbsp;</span>Določanje zasuka</a></span></li><li><span><a href=\"#Določanje-gravitacijske-sile-med-satelitom-in-Zemljo\" data-toc-modified-id=\"Določanje-gravitacijske-sile-med-satelitom-in-Zemljo-5.3\"><span class=\"toc-item-num\">5.3&nbsp;&nbsp;</span>Določanje gravitacijske sile med satelitom in Zemljo</a></span></li></ul></li><li><span><a href=\"#Reševanje-diferencialnih-enačb\" data-toc-modified-id=\"Reševanje-diferencialnih-enačb-6\"><span class=\"toc-item-num\">6&nbsp;&nbsp;</span>Reševanje diferencialnih enačb</a></span><ul class=\"toc-item\"><li><span><a href=\"#Določitev-trajanja-delovanja-sile-na-satelit\" data-toc-modified-id=\"Določitev-trajanja-delovanja-sile-na-satelit-6.1\"><span class=\"toc-item-num\">6.1&nbsp;&nbsp;</span>Določitev trajanja delovanja sile na satelit</a></span></li></ul></li></ul></div>"
   ]
  },
  {
   "cell_type": "markdown",
   "metadata": {},
   "source": [
    "Uvozimo vse pakete, ki jih bomo potrebovali:"
   ]
  },
  {
   "cell_type": "code",
   "execution_count": 3,
   "metadata": {},
   "outputs": [],
   "source": [
    "import numpy as np\n",
    "import matplotlib.pyplot as plt\n",
    "%matplotlib inline\n",
    "from ipywidgets import interact\n",
    "import sympy as sym\n",
    "sym.init_printing()"
   ]
  },
  {
   "cell_type": "markdown",
   "metadata": {},
   "source": [
    "# Simbolno računanje\n",
    "\n",
    "## Popis osnovnih parametrov orbite\n",
    "\n",
    "Spremljamo gibanje satelita, ki kroži nad Zemljo po eliptični orbiti. Elipso lahko definiramo z enačbo:\n",
    "\n",
    "$$ \\frac{b^2}{a} = R \\cdot(1+e \\cdot\\cos(\\phi))$$\n",
    "\n",
    "Kjer je:\n",
    "* $a$ velika polos\n",
    "* $b$ mala polos\n",
    "* $e$ ekscentričnost\n",
    "* $R$ oddaljenost od izhodišča\n",
    "\n",
    "Prikaz parametrov elipse:\n",
    "<img width=500 src='elipsa.png' style='width:400px;'>\n",
    "\n",
    "Vir: [Wikipedia](https://en.wikipedia.org/wiki/Ellipse#/media/File:Ellipse-def0.svg)\n",
    "\n",
    "Naš satelit se giblje po tako imenovani [molnija orbiti](https://en.wikipedia.org/wiki/Molniya_orbit#cite_note-exam-1), ki je izrazito eliptična orbita. Parametra tipične molnija orbite, ki jih potrebujemo za računanje hitrosti sta:\n",
    "* $a = 26600 \\space km$\n",
    "* $e = 0.74 $\n",
    "\n",
    "Da polno definiramo enačbo, rabimo vrednost b."
   ]
  },
  {
   "cell_type": "code",
   "execution_count": 4,
   "metadata": {},
   "outputs": [],
   "source": [
    "a, b, e, r, ϕ, μ, M, G, v, r_max, r_min, T = sym.symbols(\"a, b, e, r, ϕ, μ, M, G, v, r_max, r_min, T\")\n",
    "#definiramo vse simbole, ki jih potrebujemo"
   ]
  },
  {
   "cell_type": "markdown",
   "metadata": {},
   "source": [
    "Enačba za ekscentričnost je sledeča:"
   ]
  },
  {
   "cell_type": "code",
   "execution_count": 5,
   "metadata": {},
   "outputs": [
    {
     "data": {
      "image/png": "[encoded data removed]",
      "text/latex": [
       "$$e = \\sqrt{1 - \\frac{b^{2}}{a^{2}}}$$"
      ],
      "text/plain": [
       "          ________\n",
       "         ╱      2 \n",
       "        ╱      b  \n",
       "e =    ╱   1 - ── \n",
       "      ╱         2 \n",
       "    ╲╱         a  "
      ]
     },
     "execution_count": 5,
     "metadata": {},
     "output_type": "execute_result"
    }
   ],
   "source": [
    "ekscentričnost = sym.Eq(e, sym.sqrt(1-(b**2/a**2)))\n",
    "ekscentričnost"
   ]
  },
  {
   "cell_type": "markdown",
   "metadata": {},
   "source": [
    "Iz enačbe izrazimo $b$:"
   ]
  },
  {
   "cell_type": "code",
   "execution_count": 6,
   "metadata": {
    "scrolled": true
   },
   "outputs": [
    {
     "data": {
      "image/png": "[encoded data removed]",
      "text/latex": [
       "$$\\left [ - a \\sqrt{- e^{2} + 1}, \\quad a \\sqrt{- e^{2} + 1}\\right ]$$"
      ],
      "text/plain": [
       "⎡      __________       __________⎤\n",
       "⎢     ╱    2           ╱    2     ⎥\n",
       "⎣-a⋅╲╱  - e  + 1 , a⋅╲╱  - e  + 1 ⎦"
      ]
     },
     "execution_count": 6,
     "metadata": {},
     "output_type": "execute_result"
    }
   ],
   "source": [
    "b_ = sym.solve(ekscentričnost, b)\n",
    "b_"
   ]
  },
  {
   "cell_type": "markdown",
   "metadata": {},
   "source": [
    "Dobimo dve rešitvi. V obe enačbi vstavimo vrednosti $a$ in $e$:"
   ]
  },
  {
   "cell_type": "code",
   "execution_count": 7,
   "metadata": {},
   "outputs": [],
   "source": [
    "parametri = {a: 26600, e:0.74, μ : 3.9861e5} #μ pride v poštev kasneje"
   ]
  },
  {
   "cell_type": "code",
   "execution_count": 8,
   "metadata": {},
   "outputs": [
    {
     "name": "stdout",
     "output_type": "stream",
     "text": [
      "Rešitev 1:\t-17891.3 km\n",
      "Rešitev 2:\t17891.3 km\n"
     ]
    }
   ],
   "source": [
    "for i in range(0,2):\n",
    "    print(f\"Rešitev {i+1}:\\t{b_[i].subs(parametri).evalf(6)} km\")"
   ]
  },
  {
   "cell_type": "markdown",
   "metadata": {},
   "source": [
    "Ker govorimo o dolžini daljice, je smiselna rešitev 2. S tem smo definirali enačbo elipse:\n",
    "\n",
    "$$ \\frac{17891^2}{26600} = R\\cdot (1+0.74\\cdot \\cos(\\phi))$$"
   ]
  },
  {
   "cell_type": "markdown",
   "metadata": {},
   "source": [
    "## Računanje hitrosti v apsidah\n",
    "\n",
    "Za začetek nas zanimata maksimalna in minimalna hitrost satelita. Maksimalno hitrost doseže satelit v periapsidi (točka najbližje središču kroženja), najnižjo pa v apoapsidi (točka najdlje od središča kroženja). Točki sta prikazani na sliki:\n",
    "\n",
    "<img width=500 src='periapsida.png' style='width:300px;'>\n",
    "\n",
    "Vir: [Wikipedia](https://upload.wikimedia.org/wikipedia/commons/thumb/a/a0/Periapsis_apoapsis.png/270px-Periapsis_apoapsis.png)\n",
    "\n",
    "Enačba za hitrost je:"
   ]
  },
  {
   "cell_type": "code",
   "execution_count": 9,
   "metadata": {},
   "outputs": [
    {
     "data": {
      "image/png": "[encoded data removed]",
      "text/latex": [
       "$$v = \\sqrt{μ \\left(\\frac{2}{r} - \\frac{1}{a}\\right)}$$"
      ],
      "text/plain": [
       "        ___________\n",
       "       ╱   ⎛2   1⎞ \n",
       "v =   ╱  μ⋅⎜─ - ─⎟ \n",
       "    ╲╱     ⎝r   a⎠ "
      ]
     },
     "execution_count": 9,
     "metadata": {},
     "output_type": "execute_result"
    }
   ],
   "source": [
    "hitrost = sym.Eq(v, sym.sqrt(μ*(2/r - 1/a)))\n",
    "hitrost"
   ]
  },
  {
   "cell_type": "markdown",
   "metadata": {},
   "source": [
    "μ je standardni gravitacijski parameter in se določi kot produkt mase telesa in gravitacijske konstante:\n",
    "$$μ = M\\cdot G$$\n",
    "Konstanta za geocentrične orbite je že natančno določena in znaša:\n",
    "$$ μ_{Zemlja} = 3.986\\cdot{10}^{14} {m}^3{s}^{-2}$$"
   ]
  },
  {
   "cell_type": "markdown",
   "metadata": {},
   "source": [
    "Izračunamo minimalno in maksimalno oddaljenost od masnega središča (masa satelita je zanemarljiva, zato je masno središče kar središče Zemlje, ki pa hkrati leži v enem od gorišč elipse."
   ]
  },
  {
   "cell_type": "code",
   "execution_count": 10,
   "metadata": {},
   "outputs": [
    {
     "data": {
      "image/png": "[encoded data removed]",
      "text/latex": [
       "$$\\left [ r_{max} = a \\left(e + 1\\right), \\quad r_{min} = a \\left(- e + 1\\right)\\right ]$$"
      ],
      "text/plain": [
       "[rₘₐₓ = a⋅(e + 1), rₘᵢₙ = a⋅(-e + 1)]"
      ]
     },
     "execution_count": 10,
     "metadata": {},
     "output_type": "execute_result"
    }
   ],
   "source": [
    "R_ = sym.Eq(r_max, (1+e)*a)\n",
    "r_ = sym.Eq(r_min, (1-e)*a)\n",
    "r_t = [R_, r_]\n",
    "r_t"
   ]
  },
  {
   "cell_type": "code",
   "execution_count": 11,
   "metadata": {},
   "outputs": [
    {
     "data": {
      "image/png": "[encoded data removed]",
      "text/latex": [
       "$$\\left [ r_{max} = 46284.0, \\quad r_{min} = 6916.0\\right ]$$"
      ],
      "text/plain": [
       "[rₘₐₓ = 46284.0, rₘᵢₙ = 6916.0]"
      ]
     },
     "execution_count": 11,
     "metadata": {},
     "output_type": "execute_result"
    }
   ],
   "source": [
    "oddaljenosti = []\n",
    "for i in r_t:\n",
    "    oddaljenosti.append(i.subs(parametri))\n",
    "oddaljenosti"
   ]
  },
  {
   "cell_type": "markdown",
   "metadata": {},
   "source": [
    "Oddaljenosti sta v kilometrih.\n",
    "\n",
    "Sedaj lahko izračunamo hitrost satelita:"
   ]
  },
  {
   "cell_type": "code",
   "execution_count": 12,
   "metadata": {},
   "outputs": [],
   "source": [
    "def racunaj_hitrost(r_, v_):\n",
    "    novi_parametri = {v : v_, μ : 3.9861e5, a : 26600, r : r_} #μ smo pretvorili v km^3*s^-2\n",
    "    return hitrost.subs(novi_parametri).evalf(4)"
   ]
  },
  {
   "cell_type": "code",
   "execution_count": 13,
   "metadata": {},
   "outputs": [
    {
     "data": {
      "image/png": "[encoded data removed]",
      "text/latex": [
       "$$\\left ( v_{min} = 1.496, \\quad v_{max} = 10.01\\right )$$"
      ],
      "text/plain": [
       "(vₘᵢₙ = 1.496, vₘₐₓ = 10.01)"
      ]
     },
     "execution_count": 13,
     "metadata": {},
     "output_type": "execute_result"
    }
   ],
   "source": [
    "r_max = oddaljenosti[0].rhs #.rhs nam vrne desno stran sympy enačbe\n",
    "r_min = oddaljenosti[1].rhs\n",
    "v_min = racunaj_hitrost(r_max, \"v_min\")\n",
    "v_max = racunaj_hitrost(r_min, \"v_max\")\n",
    "v_min, v_max"
   ]
  },
  {
   "cell_type": "markdown",
   "metadata": {},
   "source": [
    "Hitrosti sta v km/s.\n",
    "\n",
    "Dobili smo maksimalno in minimalno hitrost satelita. Vrednosti za naš tip orbite v [viru](https://en.wikipedia.org/wiki/Orbital_speed) lepo soupadajo z izračunanimi.\n",
    "\n",
    "##  Določitev periode orbite\n",
    "\n",
    "Izračunati je potrebno še periodo orbite $T$. Za eliptično orbito je enačba sledeča:"
   ]
  },
  {
   "cell_type": "code",
   "execution_count": 14,
   "metadata": {},
   "outputs": [
    {
     "data": {
      "image/png": "[encoded data removed]",
      "text/latex": [
       "$$T = 2 \\pi \\sqrt{\\frac{a^{3}}{μ}}$$"
      ],
      "text/plain": [
       "             ____\n",
       "            ╱  3 \n",
       "           ╱  a  \n",
       "T = 2⋅π⋅  ╱   ── \n",
       "        ╲╱    μ  "
      ]
     },
     "execution_count": 14,
     "metadata": {},
     "output_type": "execute_result"
    }
   ],
   "source": [
    "perioda_enacba = sym.Eq(T, 2*sym.pi*sym.sqrt(a**3/μ))\n",
    "perioda_enacba"
   ]
  },
  {
   "cell_type": "code",
   "execution_count": 15,
   "metadata": {
    "scrolled": true
   },
   "outputs": [
    {
     "data": {
      "image/png": "[encoded data removed]",
      "text/latex": [
       "$$T = 43174.6$$"
      ],
      "text/plain": [
       "T = 43174.6"
      ]
     },
     "execution_count": 15,
     "metadata": {},
     "output_type": "execute_result"
    }
   ],
   "source": [
    "perioda = perioda_enacba.subs(parametri).evalf(6)\n",
    "perioda"
   ]
  },
  {
   "cell_type": "markdown",
   "metadata": {},
   "source": [
    "Pretvorimo v ure:"
   ]
  },
  {
   "cell_type": "code",
   "execution_count": 16,
   "metadata": {
    "scrolled": true
   },
   "outputs": [
    {
     "data": {
      "image/png": "[encoded data removed]",
      "text/latex": [
       "$$11.9929$$"
      ],
      "text/plain": [
       "11.9929"
      ]
     },
     "execution_count": 16,
     "metadata": {},
     "output_type": "execute_result"
    }
   ],
   "source": [
    "perioda.rhs/3600 "
   ]
  },
  {
   "cell_type": "markdown",
   "metadata": {},
   "source": [
    "# Sistem linearnih enačb\n",
    "\n",
    "## Grafični prikaz orbite\n",
    "\n",
    "Našo elipso lahko narišemo v graf tako, da enačbo najprej pretvorimo v parametrično obliko:\n",
    "$$ x = b\\cdot \\cos(τ) $$\n",
    "$$ y = a \\cdot \\sin(τ) $$\n",
    "$$ τ \\in (0, \\space\\space 2\\pi) $$\n",
    "\n",
    "Zgoraj izračunane parametre zapišemo kot spremenljivke in zapišemo parametrično obliko enačbe elipse:"
   ]
  },
  {
   "cell_type": "code",
   "execution_count": 17,
   "metadata": {},
   "outputs": [],
   "source": [
    "b = 17891 # [km]\n",
    "a = 26600 # [km]\n",
    "e = 0.74\n",
    "τ = np.linspace(0, 2*np.pi, 100) # [rad]\n",
    "x = a * np.cos(τ) #definiramo x koordinato točk\n",
    "y = b * np.sin(τ) #definiramo y koordinato točk"
   ]
  },
  {
   "cell_type": "markdown",
   "metadata": {},
   "source": [
    "Ko imamo definirane vse točke, lahko elipso narišemo v graf."
   ]
  },
  {
   "cell_type": "code",
   "execution_count": 18,
   "metadata": {},
   "outputs": [
    {
     "data": {
      "image/png": "[encoded data removed]",
      "text/plain": [
       "<Figure size 432x288 with 1 Axes>"
      ]
     },
     "metadata": {
      "needs_background": "light"
     },
     "output_type": "display_data"
    }
   ],
   "source": [
    "plt.plot(x, y, \"r-\", label = \"Orbita satelita\") # narišemo elipso\n",
    "plt.plot(e*a, 0, \"bo\", label = \"Zemlja\") # koordinata desnega gorišča (Zemlje)\n",
    "plt.axhline(c = \"black\", linewidth = 1, label = \"Ekvator\") # ravnina ekvatorja (iz našega pogleda premica)\n",
    "plt.legend(loc = 2, bbox_to_anchor = (1,1))\n",
    "plt.axis(\"equal\")\n",
    "plt.title(\"Orbita satelita\");"
   ]
  },
  {
   "cell_type": "markdown",
   "metadata": {},
   "source": [
    "V zgornjem grafu torej elipsa prikazuje orbito, točka pa Zemlljo. Opazimo, da je trenutno velika polos elipse vzporedna ekvatorju. Naš satelit pa dejansko kroži pod kotom 67° glede na ekvator. Da to prikažemo, lahko uporabimo rotacijsko matriko, ki nam bo točke na elipsi zavrtela okrog poljubne točke $T_r(x_r, y_r)$ za kot $α$. Če koordinate neke točke pomnožimo s to matriko, nam bo vrnila koordinate preslikane točke, ki je rotirana za kot α. Dobimo sistem dveh enačb z dvema neznankama, $x_{out}$ ter $y_{out}$:\n",
    "\n",
    "$$\n",
    "\\begin{bmatrix} x_{out} \\\\ y_{out} \\\\ 1 \\end{bmatrix}\n",
    "=\n",
    "\\begin{bmatrix} x_{in} \\\\ y_{in} \\\\ 1 \\end{bmatrix}\n",
    "\\begin{bmatrix} \\cos(α) & -\\sin(α) & -\\cos(α)\\cdot x_{r} + \\sin(α) \\cdot y_{r}\n",
    "                    \\\\ \\sin(α) &\\cos(α) &\\cos(α) \\cdot x_{r} - \\cos(α)\\cdot y_{r}\n",
    "                    \\\\ 0 & 0 & 1\n",
    "                    \\end{bmatrix} $$\n",
    "                    \n",
    "                    \n",
    "Matriko zapišemo kot python funkcijo:"
   ]
  },
  {
   "cell_type": "code",
   "execution_count": 23,
   "metadata": {},
   "outputs": [],
   "source": [
    "def rotacijska_matrika(α = 0, tr = (0, 0)):\n",
    "    α = α * np.pi / 180 #kot iz stopinj pretvorimo v radiane\n",
    "    return np.array([[np.cos(α), -np.sin(α), tr[0] - np.cos(α)*tr[0] + np.sin(α)*tr[1]],\n",
    "                     [np.sin(α),  np.cos(α), tr[1] - np.sin(α)*tr[0] - np.cos(α)*tr[1]],\n",
    "                     [0, 0, 1]]) # rotacijsk matrika, zapisana v numpy array-u"
   ]
  },
  {
   "cell_type": "markdown",
   "metadata": {},
   "source": [
    "V naslednjem koraku ustvarimo rotacijsko matriko, ki rotira za kot $67°$ okrog točke $Z(a\\cdot e,\\space 0)$ (koordinata Zemlje) ter pripravimo matriko B, ki vsebuje seznam naših točk."
   ]
  },
  {
   "cell_type": "code",
   "execution_count": 24,
   "metadata": {},
   "outputs": [],
   "source": [
    "A = rotacijska_matrika(α = 67, tr = (a*e, 0)) # ustvarimo rotacijsko matriko\n",
    "enke = np.ones(len(x)) # Ustvarimo seznam enic, ki jih dodamo koordinatam točk. Ker obravnavamo elipso v 2-D prostoru,\n",
    "                       # nas tretja koordinata točke ne zanima, vendar jo potrebujemo za reševanje sistema enačb.\n",
    "B = np.array([x, y, enke]) # Seznam točk, ki nam predstavljajo elipso"
   ]
  },
  {
   "cell_type": "markdown",
   "metadata": {},
   "source": [
    "Definiran imamo naš sistem enačb. S pomočjo metode `numpy.linalg.solve` sistem enačb rešimo:"
   ]
  },
  {
   "cell_type": "code",
   "execution_count": 25,
   "metadata": {},
   "outputs": [],
   "source": [
    "nova_elipsa = np.linalg.solve(A, B)"
   ]
  },
  {
   "cell_type": "markdown",
   "metadata": {},
   "source": [
    "Grafično prikažemo rešitev:"
   ]
  },
  {
   "cell_type": "code",
   "execution_count": 26,
   "metadata": {
    "scrolled": true
   },
   "outputs": [
    {
     "data": {
      "image/png": "[encoded data removed]",
      "text/plain": [
       "<Figure size 432x288 with 1 Axes>"
      ]
     },
     "metadata": {
      "needs_background": "light"
     },
     "output_type": "display_data"
    }
   ],
   "source": [
    "plt.plot(x, y, \"r-\", label = \"Originalna orbita\") # izrišemo originalno orbito\n",
    "plt.plot(nova_elipsa[0], nova_elipsa[1], \"g-\", label = \"Prava orbita\") # izrišemo pravo orbito\n",
    "plt.plot(e*a, 0, \"bo\", label = \"Zemlja\") # Koordinata Zemlje in tudi točka, okrog katere vrtimo\n",
    "plt.axhline(c = \"black\", linewidth = 1, label = \"Ekvator\")\n",
    "plt.title(\"Rotirana orbita\")\n",
    "plt.axis(\"equal\") #graf bo imel na obeh oseh enako skalo, zato bosta elipsi pravilno narisani\n",
    "plt.legend();"
   ]
  },
  {
   "cell_type": "markdown",
   "metadata": {},
   "source": [
    "# Iskanje ničel\n",
    "## Določanje višine satelita v odvisnosti od zasuka\n",
    "\n",
    "Zanima nas višina satelita glede na Zemljo v odvisnosti od časa in zasuka. Poznani parametri so:"
   ]
  },
  {
   "cell_type": "code",
   "execution_count": 21,
   "metadata": {},
   "outputs": [],
   "source": [
    "a = 26600 #km\n",
    "b = 17891 #km\n",
    "μ = 3.9861e5 #kn^3*s^-2\n",
    "e = 0.74\n",
    "T = int(perioda.rhs) #s"
   ]
  },
  {
   "cell_type": "markdown",
   "metadata": {},
   "source": [
    "Definiramo še dve funkciji, ki razdelita os grafa na željene dele. V nadaljevanju bosta še velikokrat prišli prav za hitrejše definiranje grafov:"
   ]
  },
  {
   "cell_type": "code",
   "execution_count": 22,
   "metadata": {},
   "outputs": [],
   "source": [
    "def prikazi_case(zacetek = 0, ponovitev = 3, ur = 12, razdelki = 7): \n",
    "    casi = np.linspace(zacetek, ponovitev*ur, razdelki)\n",
    "    return plt.xticks(casi)\n",
    "\n",
    "def prikazi_kote(os):\n",
    "    vrednosti = np.linspace(0, 6*np.pi, 7)\n",
    "    imena = np.array([\"0\", \"π\", \"2π\", \"3π\", \"4π\", \"5π\", \"6π\"])\n",
    "    if(os == \"x\"): return plt.xticks(vrednosti, imena) # na osi označimo kot v intervalih velikosti π\n",
    "    if(os == \"y\"): return plt.yticks(vrednosti, imena)"
   ]
  },
  {
   "cell_type": "markdown",
   "metadata": {},
   "source": [
    "Za začetek izračunamo, kako se višina spreminja glede na kot. [Prvi Keplerjev zakon](https://en.wikipedia.org/wiki/Kepler%27s_laws_of_planetary_motion) nam poda enačbo:\n",
    "\n",
    "$$ r(ϕ) = \\frac{a\\space(1-e^2)}{1 + e\\cdot \\cos(ϕ)} $$\n",
    "\n",
    "Enačbo zapišemo kot Python funkcijo:"
   ]
  },
  {
   "cell_type": "code",
   "execution_count": 23,
   "metadata": {},
   "outputs": [],
   "source": [
    "def r(ϕ_, a_ = a, e_ = e):\n",
    "    return (a*(1 - e**2))/(1 + e*np.cos(ϕ))"
   ]
  },
  {
   "cell_type": "markdown",
   "metadata": {},
   "source": [
    "Spremljamo gibanje v treh periodah:"
   ]
  },
  {
   "cell_type": "code",
   "execution_count": 24,
   "metadata": {},
   "outputs": [],
   "source": [
    "ϕ = np.linspace(0, 6*np.pi, 360*6+1)"
   ]
  },
  {
   "cell_type": "markdown",
   "metadata": {},
   "source": [
    "Rezultat prikažemo grafično:"
   ]
  },
  {
   "cell_type": "code",
   "execution_count": 25,
   "metadata": {
    "scrolled": true
   },
   "outputs": [
    {
     "data": {
      "image/png": "[encoded data removed]",
      "text/plain": [
       "<Figure size 432x288 with 1 Axes>"
      ]
     },
     "metadata": {
      "needs_background": "light"
     },
     "output_type": "display_data"
    }
   ],
   "source": [
    "plt.plot(ϕ, r(ϕ)) # narišemo graf r(ϕ)\n",
    "plt.xlabel(\"Kot [rad]\")\n",
    "plt.ylabel(\"Višina [km]\")\n",
    "prikazi_kote(\"x\")\n",
    "plt.grid();"
   ]
  },
  {
   "cell_type": "markdown",
   "metadata": {},
   "source": [
    "## Določanje višine satelita v odvisnosti od časa\n",
    "Da prdemo do višine v odvisnosti od časa, moramo navesti nekaj lastnosti elipse in relacij med njim.\n",
    "\n",
    "* Srednja anomalija $M\\space [rad]$ predstavlja delež orbitne periode, od zadnjega prehoda periapside opazovanega telesa.\n",
    "* Ekscentrična anomalija $E\\space [rad]$ predstavlja kot med veliko polosjo in pravokotno projekcijo satelita (glede na veliko polos) na očrtan krog okrog elipse.\n",
    "\n",
    "Enačbe, ki povezujejo te veličine so:\n",
    " \n",
    "$$ M(t) = \\frac{t}{T}\\cdot 2\\pi $$\n",
    "$$ M(t) = E(t) - e \\cdot \\sin\\bigl(E(t)\\bigl) $$\n",
    "$$ r(t) = a\\cdot\\Bigl(1-e\\cdot \\cos\\bigl(E(t)\\bigl)\\Bigl) $$\n",
    "\n",
    "Najprej izračunamo $M(t)$ po enačbi 1 za vsako vrednost $t$ in te vrednosti vstavimo v enačbo 2. Ker $E$ v tej enačbi nastopa tako posamočno kot znotraj sinusne funkcije, ga ne moramo izraziti in izpostaviti, zato uporabimo metodo iskanja ničel. Na koncu vrednosti $E$ še vstavimo v enačbo 3 in izrišemo graf $r(t)$."
   ]
  },
  {
   "cell_type": "code",
   "execution_count": 26,
   "metadata": {},
   "outputs": [],
   "source": [
    "from scipy.optimize import newton \n",
    "from scipy.optimize import root"
   ]
  },
  {
   "cell_type": "markdown",
   "metadata": {},
   "source": [
    "Definiramo naše enačbe kot python funkcije:"
   ]
  },
  {
   "cell_type": "code",
   "execution_count": 27,
   "metadata": {},
   "outputs": [],
   "source": [
    "def M_od_t(t_, T_ = T): #prva enačba zapisana kot funkcija, ki vreča M(t)\n",
    "    return t_*2*np.pi/T_\n",
    "\n",
    "def doloci_E(E_, M_t_, e_ = e): #druga enačba, pripravljena za iskanje ničel\n",
    "    return  E_ - e_*np.sin(E_) - M_t_"
   ]
  },
  {
   "cell_type": "markdown",
   "metadata": {},
   "source": [
    "Spet opazujemo 3 periode. Pripravimo tabelo vrednosti $M(t)$:"
   ]
  },
  {
   "cell_type": "code",
   "execution_count": 28,
   "metadata": {},
   "outputs": [],
   "source": [
    "t = np.linspace(0, 3*T, T+1)\n",
    "M_t = M_od_t(t)"
   ]
  },
  {
   "cell_type": "markdown",
   "metadata": {},
   "source": [
    "Sedaj moramo poiskati vrednosti $E$. To naredimo z iskanjem ničel. Za ta namen je že pripravljena funkcija ``doloci_E``. Na voljo imamo več metod iskanja ničel. Odločil sem se za sekantno metodo ``scipy.optimize.newton`` in funkcijo ``scipy.optimize.root``. Za obe funkcije sem še preveril, koliko hitro se izvedeta."
   ]
  },
  {
   "cell_type": "code",
   "execution_count": 29,
   "metadata": {},
   "outputs": [],
   "source": [
    "E_newton = []\n",
    "\n",
    "for i in range(0, len(M_t)):\n",
    "    E_newton.append(newton(doloci_E, 0, args = (M_t[i], ))) \n",
    "    #Kot x0 uporabim prejšno E iz prejšnje iteracije, saj je iz grafa razvidno da sta si dve sosednji vrednosti blizu.\n",
    "    #Če uporabimo začetni pogoj blizu dejanske ničle, skrajšamo čas delovanja funkcije."
   ]
  },
  {
   "cell_type": "markdown",
   "metadata": {},
   "source": [
    "Čas iskanja ničle pri eni iteraciji zanke za metodo ``newton``:"
   ]
  },
  {
   "cell_type": "code",
   "execution_count": 30,
   "metadata": {},
   "outputs": [
    {
     "name": "stdout",
     "output_type": "stream",
     "text": [
      "61.6 µs ± 5.64 µs per loop (mean ± std. dev. of 7 runs, 10000 loops each)\n"
     ]
    }
   ],
   "source": [
    "%timeit newton(doloci_E, 0, args = (0, ))"
   ]
  },
  {
   "cell_type": "code",
   "execution_count": 31,
   "metadata": {},
   "outputs": [],
   "source": [
    "E_root = []\n",
    "\n",
    "for i in range (0, len(M_t)):\n",
    "    E_root.append(root(fun = doloci_E, x0 = 0, args = (M_t[i], )).x)"
   ]
  },
  {
   "cell_type": "markdown",
   "metadata": {},
   "source": [
    "Čas iskanja ničle pri metodi ``root``:"
   ]
  },
  {
   "cell_type": "code",
   "execution_count": 32,
   "metadata": {},
   "outputs": [
    {
     "name": "stdout",
     "output_type": "stream",
     "text": [
      "34.9 µs ± 277 ns per loop (mean ± std. dev. of 7 runs, 10000 loops each)\n"
     ]
    }
   ],
   "source": [
    "%timeit root(fun = doloci_E, x0 = 0, args = (0, )).x"
   ]
  },
  {
   "cell_type": "markdown",
   "metadata": {},
   "source": [
    "Vidimo, da je metoda ``root`` hitrejša.\n",
    "\n",
    "Obe metodi iskanja ničel za primerjavo še izrišemo na graf:"
   ]
  },
  {
   "cell_type": "code",
   "execution_count": 33,
   "metadata": {
    "scrolled": true
   },
   "outputs": [],
   "source": [
    "def primerjava(Newton = 1, Root = 1):\n",
    "    if(Newton == 1):\n",
    "        plt.plot(t/3600, E_newton, \"r-\", label = \"Metoda newton\", linewidth = 3)\n",
    "    if(Root == 1):\n",
    "        plt.plot(t/3600, E_root, \"b-\", label = \"Metoda root\")\n",
    "    plt.xlabel(\"Čas [h]\")\n",
    "    plt.ylabel(\"Ekscentrična anomalija E [rad]\")\n",
    "    plt.title(\"Primerjava metod iskanja ničel\")\n",
    "    prikazi_case()\n",
    "    plt.legend();"
   ]
  },
  {
   "cell_type": "code",
   "execution_count": 34,
   "metadata": {},
   "outputs": [
    {
     "data": {
      "application/vnd.jupyter.widget-view+json": {
       "model_id": "5ab55bc013174b18923470149478dfd6",
       "version_major": 2,
       "version_minor": 0
      },
      "text/plain": [
       "interactive(children=(IntSlider(value=1, description='Newton', max=1), IntSlider(value=1, description='Root', …"
      ]
     },
     "metadata": {},
     "output_type": "display_data"
    },
    {
     "data": {
      "text/plain": [
       "<function __main__.primerjava(Newton=1, Root=1)>"
      ]
     },
     "execution_count": 34,
     "metadata": {},
     "output_type": "execute_result"
    }
   ],
   "source": [
    "interact(primerjava, Newton = (0, 1), Root = (0, 1))"
   ]
  },
  {
   "cell_type": "markdown",
   "metadata": {},
   "source": [
    "Vidimo, da sta metodi glede na natančnost za naše potrebe ne ralikujeta.\n",
    "\n",
    "Ker poznamo vrednosti $E$ v odvisnosti od časa, lahko izrišemo graf $r(t)$:"
   ]
  },
  {
   "cell_type": "code",
   "execution_count": 35,
   "metadata": {},
   "outputs": [],
   "source": [
    "def r(E_, e_ = e, a_ = a):\n",
    "    return a_*(1-e_*np.cos(E_))\n",
    "\n",
    "oddaljenost = r(E_newton)"
   ]
  },
  {
   "cell_type": "code",
   "execution_count": 36,
   "metadata": {
    "scrolled": true
   },
   "outputs": [
    {
     "data": {
      "image/png": "[encoded data removed]",
      "text/plain": [
       "<Figure size 432x288 with 1 Axes>"
      ]
     },
     "metadata": {
      "needs_background": "light"
     },
     "output_type": "display_data"
    }
   ],
   "source": [
    "plt.plot(t/3600, oddaljenost) #narišemo r(t)\n",
    "plt.xlabel(\"čas [h]\")\n",
    "plt.ylabel(\"višina [km]\")\n",
    "plt.title(\"Oddaljenost satelita od središča Zemlje v odvisnosti od časa\")\n",
    "prikazi_case()\n",
    "plt.grid();"
   ]
  },
  {
   "cell_type": "markdown",
   "metadata": {},
   "source": [
    "# Aproksimacija\n",
    "## Aproksimacija poti satelita pri popačenem signalu \n",
    "\n",
    "Na Zemlji smo postavili sprejemnik, ki komunicira s satelitom. Z njim spremljamo višino satelita, ki poda eno vrednost vsako minuto. Višino spremljamo eno uro. Žal smo ugotovili, da je satelit v lasti ruske vlade, zato točnih podatkov javnosti ni na voljo. Podatki so zato nalašč popačeni s precejšnjim šumom.\n",
    "\n",
    "Najprej definiramo čas, pri katerem bomo opazovali satelit:"
   ]
  },
  {
   "cell_type": "code",
   "execution_count": 37,
   "metadata": {
    "scrolled": true
   },
   "outputs": [],
   "source": [
    "np.random.seed(23170029) \n",
    "t_z = np.random.randint(0, T) # [s] - Čas začetka spremljanja satelita\n",
    "t_opazovan = np.linspace(t_z, t_z + 3600, 60) # [s] - tabela vrednosti časa\n",
    "šum = np.random.uniform(0.99, 1.01 , 60) # šum, s katerim so popačeni podatki"
   ]
  },
  {
   "cell_type": "markdown",
   "metadata": {},
   "source": [
    "Sedaj poberemo prave vrednosti iz matematično določene tabele vrednosti r in jih popačimo s šumom:"
   ]
  },
  {
   "cell_type": "code",
   "execution_count": 38,
   "metadata": {
    "scrolled": true
   },
   "outputs": [],
   "source": [
    "r_opazovan = oddaljenost[t_z : t_z+3600 : 60] # [m] - čisti podatki iz satelita\n",
    "r_pridobljen = r_opazovan * šum # [m] - popačeni podatki"
   ]
  },
  {
   "cell_type": "markdown",
   "metadata": {},
   "source": [
    "Funkcijo aproksimiramo in zaradi lažje preglednosti prikažemo v interaktivnem grafu:"
   ]
  },
  {
   "cell_type": "code",
   "execution_count": 39,
   "metadata": {},
   "outputs": [],
   "source": [
    "def narisi_graf(Stopnja = 2, Aproksimacija = 1, Točke = 1, Dejanska_funkcija = 0):\n",
    "    \n",
    "    koef = np.polyfit(t_opazovan, r_pridobljen, Stopnja) #S funkcijo polyfit dobimo koeficiente polinoma\n",
    "    polinom = np.poly1d(koef) #pripravimo polinom, da ga lahko grafično prikažemo\n",
    "    \n",
    "    if(Točke == 1):\n",
    "        plt.plot(t_opazovan/3600, r_pridobljen, \"go\", label = \"Tabelirana vrednost\");# izrišemo točke s šumom\n",
    "    if(Aproksimacija == 1):\n",
    "        plt.plot(t_opazovan/3600, polinom(t_opazovan), \"r-\",\n",
    "                 linewidth = 3, label = f\"Aproksimacija {Stopnja}. stopnje\"); #izrišemo aproksimirano funkcijo\n",
    "    if(Dejanska_funkcija == 1):\n",
    "        plt.plot(t_opazovan/3600, r_opazovan, \"b-\", label = \"Dejanska krivulja funkcije\", linewidth = 1); #izrišemo funkcijo\n",
    "                                                                                                          #brez šuma\n",
    "    plt.ylim(36000, 47000)\n",
    "    plt.xlim(4.9, 6)\n",
    "    plt.title(\"Prikaz aproksimacije za različne stopnje polinoma\")\n",
    "    plt.xlabel(\"Čas [h]\")\n",
    "    plt.ylabel(\"Višina [km]\")\n",
    "    plt.legend();"
   ]
  },
  {
   "cell_type": "code",
   "execution_count": 40,
   "metadata": {
    "scrolled": false
   },
   "outputs": [
    {
     "data": {
      "application/vnd.jupyter.widget-view+json": {
       "model_id": "81b8acd2f76e48afa1571ef99c0b8115",
       "version_major": 2,
       "version_minor": 0
      },
      "text/plain": [
       "interactive(children=(IntSlider(value=2, description='Stopnja', max=5), IntSlider(value=1, description='Aproks…"
      ]
     },
     "metadata": {},
     "output_type": "display_data"
    },
    {
     "data": {
      "text/plain": [
       "<function __main__.narisi_graf(Stopnja=2, Aproksimacija=1, Točke=1, Dejanska_funkcija=0)>"
      ]
     },
     "execution_count": 40,
     "metadata": {},
     "output_type": "execute_result"
    }
   ],
   "source": [
    "interact(narisi_graf, Stopnja=(0, 5, 1), Aproksimacija = (0, 1), Točke = (0, 1), Dejanska_funkcija = (0, 1))"
   ]
  },
  {
   "cell_type": "markdown",
   "metadata": {},
   "source": [
    "Vidimo, da že 2. stopnja polinoma zelo dobro aproksimira našo dejansko krivuljo, tudi če smo funkciji dodali šum. Če še naprej višamo stopnje, se krivulja kaj dosti ne spreminja, zato je za naše potrebe dovolj aproksimacija 2. reda.\n"
   ]
  },
  {
   "cell_type": "markdown",
   "metadata": {},
   "source": [
    "# Integriranje in odvajanje\n",
    "\n",
    "## Določanje kotne hitrosti\n",
    "\n",
    "Kotno hitrost $\\dot\\phi$ dobimo po enačbi iz 2. Keplerjevega zakona:\n",
    "$$ \\frac{d\\phi}{dt} = \\frac{abn}{r^2}$$,\n",
    "$$ n = \\frac{2\\pi}{T}$$\n",
    "\n",
    "$a \\space [km]$ je velika polos, $b \\space[km]$ je mala polos, $n \\space[rad/s]$ srednje gibanje in $T \\space[s]$ perioda."
   ]
  },
  {
   "cell_type": "code",
   "execution_count": 41,
   "metadata": {},
   "outputs": [],
   "source": [
    "a = 26600e3 #m\n",
    "b = 17891e3 #m\n",
    "T = int(perioda.rhs) #s\n",
    "oddaljenost_m = oddaljenost*1000 #za lepše rezultate pretvorimo r iz kilometrov v metre. "
   ]
  },
  {
   "cell_type": "markdown",
   "metadata": {},
   "source": [
    "Zapišemo obe enačbi, da izračunamo kotno hitrost:"
   ]
  },
  {
   "cell_type": "code",
   "execution_count": 42,
   "metadata": {},
   "outputs": [],
   "source": [
    "n = 2*np.pi/T #[rad/s]\n",
    "\n",
    "def fi_pika(r_, n_ = n, a_ = a, b_ = b):\n",
    "    return (n_*a_*b_)/r_**2 #[rad/s]"
   ]
  },
  {
   "cell_type": "markdown",
   "metadata": {},
   "source": [
    "Kotno hitrost grafično prikažemo:"
   ]
  },
  {
   "cell_type": "code",
   "execution_count": 43,
   "metadata": {},
   "outputs": [
    {
     "data": {
      "image/png": "[encoded data removed]",
      "text/plain": [
       "<Figure size 432x288 with 1 Axes>"
      ]
     },
     "metadata": {
      "needs_background": "light"
     },
     "output_type": "display_data"
    }
   ],
   "source": [
    "plt.plot(t/3600, fi_pika(oddaljenost_m))\n",
    "plt.xlabel(\"Čas [h]\")\n",
    "plt.ylabel(\"Kotna hitrost [rad/s]\")\n",
    "plt.title(\"Kotna hitrost v odvisnosti od časa\")\n",
    "prikazi_case()\n",
    "plt.grid();"
   ]
  },
  {
   "cell_type": "markdown",
   "metadata": {},
   "source": [
    "## Določanje zasuka \n",
    "Če kotno hitrost integriramo po času, dobimo zasuk v odvisnosti od časa. Ker imamo izračunane kotne hitrosti v obliki tabele vrednosti pride v poštev metoda `scipy.integrate.cumtrapz`, ki uporabi kompozitno trapezno metodo za integriranje. Metodi podamo našo tabelo vrednosti, časovni korak in začetno vrednost."
   ]
  },
  {
   "cell_type": "code",
   "execution_count": 44,
   "metadata": {},
   "outputs": [],
   "source": [
    "from scipy.integrate import cumtrapz #uvozimo metodo"
   ]
  },
  {
   "cell_type": "code",
   "execution_count": 45,
   "metadata": {},
   "outputs": [],
   "source": [
    "fi = cumtrapz(y = fi_pika(oddaljenost_m), dx = t[1], initial = 0)"
   ]
  },
  {
   "cell_type": "markdown",
   "metadata": {},
   "source": [
    "Zasuk prikažemo še grafično:"
   ]
  },
  {
   "cell_type": "code",
   "execution_count": 46,
   "metadata": {
    "scrolled": true
   },
   "outputs": [
    {
     "data": {
      "image/png": "[encoded data removed]",
      "text/plain": [
       "<Figure size 432x288 with 1 Axes>"
      ]
     },
     "metadata": {
      "needs_background": "light"
     },
     "output_type": "display_data"
    }
   ],
   "source": [
    "plt.plot(t/3600, fi)\n",
    "plt.xlabel(\"Čas [h]\")\n",
    "plt.ylabel(\"Zasuk [rad]\")\n",
    "plt.title(\"Zasuk v odvisnosti od časa\")\n",
    "prikazi_kote(\"y\")\n",
    "prikazi_case()\n",
    "plt.grid()"
   ]
  },
  {
   "cell_type": "markdown",
   "metadata": {},
   "source": [
    "## Določanje gravitacijske sile med satelitom in Zemljo\n",
    "Na satelit deluje gravitacijska sila:\n",
    "\n",
    "<img width=500 src='fg.png' style='width:500px;'>\n",
    "\n",
    "Zanima nas, kolikšna je gravitacijska sila med satelitom in Zemljo. Do rezultata lahko pridemo na dva načina:\n",
    "* Numerično z uporabo 2. Keplerjevega zakona, s katerim izračunamo radialni pospešek, ki ga potem uporabimo v 2. Newtnovem zakonu\n",
    "* Direktno z uporabo Newtnovega gravitacijskega zakona\n",
    "\n",
    "Najprej izračunajmo silo na prvi način. Zapišemo enačbo iz 2. Keplerjevega zakona:\n",
    "$$a_r = \\ddot r  - r\\cdot\\dot{\\phi}^2 $$\n",
    "To enačbo zapišemo kot python funkcijo:"
   ]
  },
  {
   "cell_type": "code",
   "execution_count": 47,
   "metadata": {},
   "outputs": [],
   "source": [
    "def a_r (fi_pika_, r_, r_pika_pika_):\n",
    "    return r_pika_pika - r_*fi_pika_**2"
   ]
  },
  {
   "cell_type": "markdown",
   "metadata": {},
   "source": [
    "Za izračun potrebujemo še drugi odvod premika, ostale vrednosti že poznamo. Za odvajanje sem uporabil metodo `numpy.gradient`. Metoda deluje po metidi končnih razlik, in sicer po formuli:\n",
    "$$ f'(x) = \\lim_{h\\to0}\\frac{f(x+h)-f(x-h)}{2h} $$\n",
    "\n",
    "Formula konvergira proti odvodu, ko se $h$ približuje $0$. Red njene napake je $O(h^2)$. Problem nastane na robovih, saj metoda potrebuje vrednosti na levi in desni strani točke, na robovih pa ena od njih ne obstaja. Zato na robovih uporabimo drugo metodo - diferenčno shemo naprej oziroma nazaj - red katere pa podamo s parametrom `edge_order`.\n",
    "\n",
    "Zapišemo funkcijo, ki nam odvaja $r$ po času:"
   ]
  },
  {
   "cell_type": "code",
   "execution_count": 48,
   "metadata": {},
   "outputs": [],
   "source": [
    "def odvajaj_r(r_, t_, st_odvodov, edge):\n",
    "    for i in range(0, st_odvodov):\n",
    "        r_ = np.gradient(r_, t_, edge_order = edge)\n",
    "    return r_\n",
    "    #prvi_odvod = np.gradient(r_, t_, edge_order = edge)\n",
    "    #return np.gradient(prvi_odvod, t_, edge_order = edge)"
   ]
  },
  {
   "cell_type": "markdown",
   "metadata": {},
   "source": [
    "Za primerjavo uporbe različnega reda na robovih pripravimo interaktivni graf:"
   ]
  },
  {
   "cell_type": "code",
   "execution_count": 49,
   "metadata": {},
   "outputs": [],
   "source": [
    "def graf_odvoda(edge_order = 2):\n",
    "    plt.plot(t/3600, odvajaj_r(oddaljenost_m, t, st_odvodov = 2, edge = edge_order))\n",
    "    plt.xlabel(\"Čas [h]\")\n",
    "    plt.ylabel(\"Vrednost odvoda\")\n",
    "    prikazi_case()\n",
    "    plt.grid();"
   ]
  },
  {
   "cell_type": "code",
   "execution_count": 50,
   "metadata": {},
   "outputs": [
    {
     "data": {
      "application/vnd.jupyter.widget-view+json": {
       "model_id": "db0914a5dfa1489da9bf035dfd588cee",
       "version_major": 2,
       "version_minor": 0
      },
      "text/plain": [
       "interactive(children=(IntSlider(value=2, description='edge_order', max=2, min=1), Output()), _dom_classes=('wi…"
      ]
     },
     "metadata": {},
     "output_type": "display_data"
    },
    {
     "data": {
      "text/plain": [
       "<function __main__.graf_odvoda(edge_order=2)>"
      ]
     },
     "execution_count": 50,
     "metadata": {},
     "output_type": "execute_result"
    }
   ],
   "source": [
    "interact(graf_odvoda, edge_order = (1, 2, 1))"
   ]
  },
  {
   "cell_type": "markdown",
   "metadata": {},
   "source": [
    "Opazimo, da nam lepši rezultat vrne diferenčna shema reda 2.\n",
    "\n",
    "Gremo dalje z računanjem sile. Odvod sedaj zapišemo kot spremenljivko:"
   ]
  },
  {
   "cell_type": "code",
   "execution_count": 51,
   "metadata": {},
   "outputs": [],
   "source": [
    "r_pika_pika = odvajaj_r(oddaljenost*1000, t, st_odvodov = 2, edge = 2)"
   ]
  },
  {
   "cell_type": "markdown",
   "metadata": {},
   "source": [
    "Sedaj imamo vse parametre za izračun radialnega pospeška $a_r$. Silo lahko potem izračunamo po enačbi iz 2. Newtnovega zakona:\n",
    "\n",
    "$$ F_g = m_s \\cdot a_r$$\n",
    "\n"
   ]
  },
  {
   "cell_type": "code",
   "execution_count": 52,
   "metadata": {},
   "outputs": [],
   "source": [
    "radialni_pospesek = a_r(fi_pika(oddaljenost_m), oddaljenost_m, r_pika_pika)"
   ]
  },
  {
   "cell_type": "markdown",
   "metadata": {},
   "source": [
    "Zračunan imamo radialni pospešek. Sedaj gremo lahko izračunati silo s pomočjo Newtnovega gravitacijskega zakona. Ta nam poda enačbo:\n",
    "\n",
    "$$ F_g = G\\cdot\\frac{M\\cdot m}{r^2} $$,\n",
    "\n",
    "kjer je $G$ gravitacijska konstanta, $M$ masa Zemlje, $m$ masa satelita (naš satelit ima 200 kg), $r$ pa razdalja med satelitom in Zemljo. Veličine definiramo:"
   ]
  },
  {
   "cell_type": "code",
   "execution_count": 53,
   "metadata": {},
   "outputs": [],
   "source": [
    "m = 200 # [kg]\n",
    "G = 6.674e-11 # [m^3*kg^-1*s^-2]\n",
    "M = 5.9722e24 # [kg]"
   ]
  },
  {
   "cell_type": "markdown",
   "metadata": {},
   "source": [
    "S tem imamo pripravljeno vse, da primerjamo metode. Narišemo graf:"
   ]
  },
  {
   "cell_type": "code",
   "execution_count": 54,
   "metadata": {},
   "outputs": [],
   "source": [
    "def primerjaj_sile(Kepler = 1, Newton = 1):\n",
    "    F_kepler = -m * radialni_pospesek\n",
    "    F_newton = G*(m*M/oddaljenost_m**2)\n",
    "    if(Kepler == 1):\n",
    "        plt.plot(t, F_kepler, \"b-\", label = \"Sila po Keplerjevi enačbi\", linewidth = 3)\n",
    "    if(Newton == 1): \n",
    "        plt.plot(t, F_newton, \"r-\", label = \"Sila po Newtnovi enačbi\")\n",
    "    plt.legend(loc = 2, bbox_to_anchor = (1,1))"
   ]
  },
  {
   "cell_type": "code",
   "execution_count": 55,
   "metadata": {
    "scrolled": false
   },
   "outputs": [
    {
     "data": {
      "application/vnd.jupyter.widget-view+json": {
       "model_id": "46d1310a80d948339e094c24424a3fe8",
       "version_major": 2,
       "version_minor": 0
      },
      "text/plain": [
       "interactive(children=(IntSlider(value=1, description='Kepler', max=1), IntSlider(value=1, description='Newton'…"
      ]
     },
     "metadata": {},
     "output_type": "display_data"
    },
    {
     "data": {
      "text/plain": [
       "<function __main__.primerjaj_sile(Kepler=1, Newton=1)>"
      ]
     },
     "execution_count": 55,
     "metadata": {},
     "output_type": "execute_result"
    }
   ],
   "source": [
    "interact(primerjaj_sile, Kepler = (0, 1, 1), Newton = (0, 1, 1))"
   ]
  },
  {
   "cell_type": "markdown",
   "metadata": {},
   "source": [
    "Vidimo, da se grafa skoraj popolnoma prekrivata. To nam pove, da je metoda `numpy.gradient` zelo natančna, prav tako pa lahko potrdimo, da se nismo zmotili pri izpeljavah enačb in računanju.\n",
    "\n",
    "Poleg grafičnega prikaza lahko primerjamo napako še računsko. Pripravimo funkcijo, ki nam izračuna povprečno razliko 100 naključnih vrednosti:"
   ]
  },
  {
   "cell_type": "code",
   "execution_count": 56,
   "metadata": {},
   "outputs": [
    {
     "data": {
      "image/png": "[encoded data removed]",
      "text/latex": [
       "$$0.008498727634830915$$"
      ],
      "text/plain": [
       "0.008498727634830915"
      ]
     },
     "execution_count": 56,
     "metadata": {},
     "output_type": "execute_result"
    }
   ],
   "source": [
    "napake = []\n",
    "F_kepler = -m * radialni_pospesek\n",
    "F_newton = G*(m*M/oddaljenost_m**2)\n",
    "for i in range (0, 100):\n",
    "    np.random.seed(i)\n",
    "    nakljucen_cas = np.random.randint(0, T)\n",
    "    napake.append(abs(F_kepler[nakljucen_cas] - F_newton[nakljucen_cas])) #shranimo absolutno vrednost napake\n",
    "\n",
    "povprecna_napaka = sum(napake)/100\n",
    "povprecna_napaka"
   ]
  },
  {
   "cell_type": "markdown",
   "metadata": {},
   "source": [
    "Vidimo, da se napaka pojavi šele na tretji decimalki, kar je zelo dober rezultat."
   ]
  },
  {
   "cell_type": "markdown",
   "metadata": {},
   "source": [
    "# Reševanje diferencialnih enačb\n",
    "## Določitev trajanja delovanja sile na satelit\n",
    "Silo, ki deluje na satelit prikazuje slika:\n",
    "\n",
    "\n",
    "<img width=500 src='sila.png' style='width:500px;'>\n",
    "\n",
    "Satelit se nahaja v apoapsidi. Naša naloga je, da opravimo manever, ki nam bo orbito spremenil iz eliptične v krožno. To dosežemo tako, da na naš satelit delujemo z neko silo (z raketnim motorjem). Ta sila nam pospeši satelit do željene hitrosti, ki zadošča enačbi krožnice. Želimo izračunati, koliko časa moramo na satelit delovati s silo motorja $ F = cv$, da pospešimo satelit na željeno vrednost hitrosti.\n",
    "\n",
    "Ker ima krog $a = r$, izgleda enačba za hitrost satelita iz prvega poglavja tako:\n",
    "\n",
    "$$ v_{krožne} = \\sqrt{\\frac{\\mu}{r}} $$\n",
    "\n",
    "Novo hitrost izračunamo. Dobimo konstanto, ker se v krožni orbiti hitrost ne spreminja z radijem."
   ]
  },
  {
   "cell_type": "code",
   "execution_count": 57,
   "metadata": {},
   "outputs": [],
   "source": [
    "μ = 3.9861e5 #kn^3*s^-2\n",
    "r_krog = 46284 #km - višina v apoapsidi"
   ]
  },
  {
   "cell_type": "code",
   "execution_count": 58,
   "metadata": {},
   "outputs": [
    {
     "data": {
      "image/png": "[encoded data removed]",
      "text/latex": [
       "$$2.9346658101330036$$"
      ],
      "text/plain": [
       "2.9346658101330036"
      ]
     },
     "execution_count": 58,
     "metadata": {},
     "output_type": "execute_result"
    }
   ],
   "source": [
    "v_krozne = np.sqrt(μ/r_krog)\n",
    "v_krozne"
   ]
  },
  {
   "cell_type": "markdown",
   "metadata": {},
   "source": [
    "Ker je sila motorja odvisna od relativne izhodne hitrosti goriva, jo zapišemo kot $F = c\\cdot v$. Spremembo mase zaradi porabe goriva zanemarimo. Hitrost spremljamo v 3 min delovanja sile."
   ]
  },
  {
   "cell_type": "code",
   "execution_count": 59,
   "metadata": {},
   "outputs": [],
   "source": [
    "t_sile = np.linspace(0, 180, 100) #[s]\n",
    "c = 0.95\n",
    "m = 200 # [kg]"
   ]
  },
  {
   "cell_type": "markdown",
   "metadata": {},
   "source": [
    "Za naš sistem zapišemo 2. Newtnov zakon:\n",
    "\n",
    "$$ m\\ddot r = vc $$\n",
    "Preoblikujemo diferencialno enačbo:\n",
    "\n",
    "$$ x_1 = r; \\space\\space\\space\\space\\space x_2 = \\dot r$$\n",
    "$$ \\dot{x_1} =\\dot r =  x_2; \\space\\space\\space\\space\\space \\dot{x_2} = \\ddot r = \\frac{cv}{m}$$\n",
    "\n",
    "Enačbe lahko zapišemo v funkcijo:"
   ]
  },
  {
   "cell_type": "code",
   "execution_count": 60,
   "metadata": {},
   "outputs": [],
   "source": [
    "def pripravi_enacbe(t, zacetni):\n",
    "    x1, x2 = zacetni\n",
    "    return np.array([x2, (c*x2)/m])"
   ]
  },
  {
   "cell_type": "markdown",
   "metadata": {},
   "source": [
    "Definiramo začetne pogoje:\n",
    "\n",
    "$$ r(0) = 0 $$$$\\dot r(0) = 1.469 m/s$$ "
   ]
  },
  {
   "cell_type": "code",
   "execution_count": 61,
   "metadata": {},
   "outputs": [],
   "source": [
    "zacetni = np.array([0, 1.469])"
   ]
  },
  {
   "cell_type": "markdown",
   "metadata": {},
   "source": [
    "Za reševanje diferencialne enačbe uporabimo metodo `scipy.integrate.solve_ivp`. Ta nam vrne objekt z našimi rešitvami."
   ]
  },
  {
   "cell_type": "code",
   "execution_count": 62,
   "metadata": {},
   "outputs": [],
   "source": [
    "from scipy.integrate import solve_ivp"
   ]
  },
  {
   "cell_type": "code",
   "execution_count": 63,
   "metadata": {},
   "outputs": [],
   "source": [
    "resi_diff = solve_ivp(pripravi_enacbe, t_span = (t_sile[0], t_sile[-1]), y0 = zacetni, t_eval = t_sile)"
   ]
  },
  {
   "cell_type": "markdown",
   "metadata": {},
   "source": [
    "Grafično prikažemo hitrost v odvisnosti od časa:"
   ]
  },
  {
   "cell_type": "code",
   "execution_count": 64,
   "metadata": {},
   "outputs": [
    {
     "data": {
      "image/png": "[encoded data removed]",
      "text/plain": [
       "<Figure size 432x288 with 1 Axes>"
      ]
     },
     "metadata": {
      "needs_background": "light"
     },
     "output_type": "display_data"
    }
   ],
   "source": [
    "plt.plot(t_sile, resi_diff.y[1])\n",
    "plt.xlabel(\"Čas [s]\")\n",
    "plt.ylabel(\"Hitrost [km/s]\")\n",
    "plt.grid()"
   ]
  },
  {
   "cell_type": "markdown",
   "metadata": {},
   "source": [
    "Vidimo, da krivulja seka našo željeno vrednost $2,93\\space km/s$ pri času približno $150\\space s$. To vrednost moramo še točno določiti, da vemo natančno koliko časa bo deloval motor.\n",
    "\n",
    "Najprej moramo krivuljo aproksimirati:"
   ]
  },
  {
   "cell_type": "code",
   "execution_count": 65,
   "metadata": {},
   "outputs": [
    {
     "name": "stdout",
     "output_type": "stream",
     "text": [
      "           2\n",
      "2.575e-05 x + 0.006265 x + 1.48\n"
     ]
    }
   ],
   "source": [
    "kof = np.polyfit(t_sile, resi_diff.y[1], 2)\n",
    "polinom = np.poly1d(kof)\n",
    "print(polinom)"
   ]
  },
  {
   "cell_type": "markdown",
   "metadata": {},
   "source": [
    "Dobili smo polinom, ki popiše spreminjanje hitrosti satelita. Vrednost $v_{krožne}$ bomo pa določili s pomočjo iskanja ničel. Pripravimo enačbo za iskanje ničel:\n",
    "\n",
    "$$ P(x) = v_{krožne}$$\n",
    "$$P(x) - v_{krožne} = 0$$"
   ]
  },
  {
   "cell_type": "code",
   "execution_count": 66,
   "metadata": {},
   "outputs": [
    {
     "data": {
      "image/png": "[encoded data removed]",
      "text/latex": [
       "$$145.35769656900126$$"
      ],
      "text/plain": [
       "145.35769656900126"
      ]
     },
     "execution_count": 66,
     "metadata": {},
     "output_type": "execute_result"
    }
   ],
   "source": [
    "nicla = newton(polinom - v_krozne, 150)\n",
    "nicla"
   ]
  },
  {
   "cell_type": "markdown",
   "metadata": {},
   "source": [
    "Ugotovili smo, da mora motor delovati $145,36\\space s$."
   ]
  },
  {
   "cell_type": "code",
   "execution_count": null,
   "metadata": {},
   "outputs": [],
   "source": []
  },
  {
   "cell_type": "code",
   "execution_count": null,
   "metadata": {},
   "outputs": [],
   "source": []
  },
  {
   "cell_type": "code",
   "execution_count": null,
   "metadata": {},
   "outputs": [],
   "source": []
  }
 ],
 "metadata": {
  "kernelspec": {
   "display_name": "Python 3",
   "language": "python",
   "name": "python3"
  },
  "language_info": {
   "codemirror_mode": {
    "name": "ipython",
    "version": 3
   },
   "file_extension": ".py",
   "mimetype": "text/x-python",
   "name": "python",
   "nbconvert_exporter": "python",
   "pygments_lexer": "ipython3",
   "version": "3.7.2"
  },
  "toc": {
   "base_numbering": 1,
   "nav_menu": {
    "height": "415px",
    "width": "455px"
   },
   "number_sections": true,
   "sideBar": true,
   "skip_h1_title": false,
   "title_cell": "Kazalo",
   "title_sidebar": "Contents",
   "toc_cell": true,
   "toc_position": {
    "height": "calc(100% - 180px)",
    "left": "10px",
    "top": "150px",
    "width": "310px"
   },
   "toc_section_display": true,
   "toc_window_display": false
  }
 },
 "nbformat": 4,
 "nbformat_minor": 2
}
